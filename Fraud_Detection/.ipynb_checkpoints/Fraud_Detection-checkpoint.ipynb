{
 "cells": [
  {
   "cell_type": "code",
   "execution_count": 1,
   "id": "8b3a708e-3a60-48be-a623-b0c33015134c",
   "metadata": {},
   "outputs": [],
   "source": [
    "import numpy as np\n",
    "import pandas as pd\n",
    "import matplotlib.pyplot as plt\n",
    "import seaborn as sns\n",
    "import warnings\n",
    "warnings.filterwarnings('ignore')\n",
    "\n",
    "pd.set_option('display.max_columns', None)\n",
    "\n",
    "from sklearn.preprocessing import LabelEncoder, MinMaxScaler\n",
    "from datetime import datetime\n",
    "from imblearn.over_sampling import SMOTE\n",
    "from sklearn.model_selection import train_test_split, GridSearchCV, RandomizedSearchCV\n",
    "from sklearn.linear_model import LogisticRegression\n",
    "from sklearn.svm import SVC\n",
    "from sklearn.metrics import accuracy_score, confusion_matrix, classification_report\n",
    "from xgboost import XGBClassifier"
   ]
  },
  {
   "cell_type": "code",
   "execution_count": 2,
   "id": "87668093",
   "metadata": {},
   "outputs": [],
   "source": [
    "df = pd.read_json(r'D:\\transactions\\transactions.txt', lines=True)"
   ]
  },
  {
   "cell_type": "code",
   "execution_count": 3,
   "id": "5b85de94-0e4f-42eb-a039-b1137392701d",
   "metadata": {},
   "outputs": [
    {
     "data": {
      "text/html": [
       "<div>\n",
       "<style scoped>\n",
       "    .dataframe tbody tr th:only-of-type {\n",
       "        vertical-align: middle;\n",
       "    }\n",
       "\n",
       "    .dataframe tbody tr th {\n",
       "        vertical-align: top;\n",
       "    }\n",
       "\n",
       "    .dataframe thead th {\n",
       "        text-align: right;\n",
       "    }\n",
       "</style>\n",
       "<table border=\"1\" class=\"dataframe\">\n",
       "  <thead>\n",
       "    <tr style=\"text-align: right;\">\n",
       "      <th></th>\n",
       "      <th>accountNumber</th>\n",
       "      <th>customerId</th>\n",
       "      <th>creditLimit</th>\n",
       "      <th>availableMoney</th>\n",
       "      <th>transactionDateTime</th>\n",
       "      <th>transactionAmount</th>\n",
       "      <th>merchantName</th>\n",
       "      <th>acqCountry</th>\n",
       "      <th>merchantCountryCode</th>\n",
       "      <th>posEntryMode</th>\n",
       "      <th>posConditionCode</th>\n",
       "      <th>merchantCategoryCode</th>\n",
       "      <th>currentExpDate</th>\n",
       "      <th>accountOpenDate</th>\n",
       "      <th>dateOfLastAddressChange</th>\n",
       "      <th>cardCVV</th>\n",
       "      <th>enteredCVV</th>\n",
       "      <th>cardLast4Digits</th>\n",
       "      <th>transactionType</th>\n",
       "      <th>echoBuffer</th>\n",
       "      <th>currentBalance</th>\n",
       "      <th>merchantCity</th>\n",
       "      <th>merchantState</th>\n",
       "      <th>merchantZip</th>\n",
       "      <th>cardPresent</th>\n",
       "      <th>posOnPremises</th>\n",
       "      <th>recurringAuthInd</th>\n",
       "      <th>expirationDateKeyInMatch</th>\n",
       "      <th>isFraud</th>\n",
       "    </tr>\n",
       "  </thead>\n",
       "  <tbody>\n",
       "    <tr>\n",
       "      <th>0</th>\n",
       "      <td>737265056</td>\n",
       "      <td>737265056</td>\n",
       "      <td>5000</td>\n",
       "      <td>5000.00</td>\n",
       "      <td>2016-08-13T14:27:32</td>\n",
       "      <td>98.55</td>\n",
       "      <td>Uber</td>\n",
       "      <td>US</td>\n",
       "      <td>US</td>\n",
       "      <td>02</td>\n",
       "      <td>01</td>\n",
       "      <td>rideshare</td>\n",
       "      <td>06/2023</td>\n",
       "      <td>2015-03-14</td>\n",
       "      <td>2015-03-14</td>\n",
       "      <td>414</td>\n",
       "      <td>414</td>\n",
       "      <td>1803</td>\n",
       "      <td>PURCHASE</td>\n",
       "      <td></td>\n",
       "      <td>0.00</td>\n",
       "      <td></td>\n",
       "      <td></td>\n",
       "      <td></td>\n",
       "      <td>False</td>\n",
       "      <td></td>\n",
       "      <td></td>\n",
       "      <td>False</td>\n",
       "      <td>False</td>\n",
       "    </tr>\n",
       "    <tr>\n",
       "      <th>1</th>\n",
       "      <td>737265056</td>\n",
       "      <td>737265056</td>\n",
       "      <td>5000</td>\n",
       "      <td>5000.00</td>\n",
       "      <td>2016-10-11T05:05:54</td>\n",
       "      <td>74.51</td>\n",
       "      <td>AMC #191138</td>\n",
       "      <td>US</td>\n",
       "      <td>US</td>\n",
       "      <td>09</td>\n",
       "      <td>01</td>\n",
       "      <td>entertainment</td>\n",
       "      <td>02/2024</td>\n",
       "      <td>2015-03-14</td>\n",
       "      <td>2015-03-14</td>\n",
       "      <td>486</td>\n",
       "      <td>486</td>\n",
       "      <td>767</td>\n",
       "      <td>PURCHASE</td>\n",
       "      <td></td>\n",
       "      <td>0.00</td>\n",
       "      <td></td>\n",
       "      <td></td>\n",
       "      <td></td>\n",
       "      <td>True</td>\n",
       "      <td></td>\n",
       "      <td></td>\n",
       "      <td>False</td>\n",
       "      <td>False</td>\n",
       "    </tr>\n",
       "    <tr>\n",
       "      <th>2</th>\n",
       "      <td>737265056</td>\n",
       "      <td>737265056</td>\n",
       "      <td>5000</td>\n",
       "      <td>5000.00</td>\n",
       "      <td>2016-11-08T09:18:39</td>\n",
       "      <td>7.47</td>\n",
       "      <td>Play Store</td>\n",
       "      <td>US</td>\n",
       "      <td>US</td>\n",
       "      <td>09</td>\n",
       "      <td>01</td>\n",
       "      <td>mobileapps</td>\n",
       "      <td>08/2025</td>\n",
       "      <td>2015-03-14</td>\n",
       "      <td>2015-03-14</td>\n",
       "      <td>486</td>\n",
       "      <td>486</td>\n",
       "      <td>767</td>\n",
       "      <td>PURCHASE</td>\n",
       "      <td></td>\n",
       "      <td>0.00</td>\n",
       "      <td></td>\n",
       "      <td></td>\n",
       "      <td></td>\n",
       "      <td>False</td>\n",
       "      <td></td>\n",
       "      <td></td>\n",
       "      <td>False</td>\n",
       "      <td>False</td>\n",
       "    </tr>\n",
       "    <tr>\n",
       "      <th>3</th>\n",
       "      <td>737265056</td>\n",
       "      <td>737265056</td>\n",
       "      <td>5000</td>\n",
       "      <td>5000.00</td>\n",
       "      <td>2016-12-10T02:14:50</td>\n",
       "      <td>7.47</td>\n",
       "      <td>Play Store</td>\n",
       "      <td>US</td>\n",
       "      <td>US</td>\n",
       "      <td>09</td>\n",
       "      <td>01</td>\n",
       "      <td>mobileapps</td>\n",
       "      <td>08/2025</td>\n",
       "      <td>2015-03-14</td>\n",
       "      <td>2015-03-14</td>\n",
       "      <td>486</td>\n",
       "      <td>486</td>\n",
       "      <td>767</td>\n",
       "      <td>PURCHASE</td>\n",
       "      <td></td>\n",
       "      <td>0.00</td>\n",
       "      <td></td>\n",
       "      <td></td>\n",
       "      <td></td>\n",
       "      <td>False</td>\n",
       "      <td></td>\n",
       "      <td></td>\n",
       "      <td>False</td>\n",
       "      <td>False</td>\n",
       "    </tr>\n",
       "    <tr>\n",
       "      <th>4</th>\n",
       "      <td>830329091</td>\n",
       "      <td>830329091</td>\n",
       "      <td>5000</td>\n",
       "      <td>5000.00</td>\n",
       "      <td>2016-03-24T21:04:46</td>\n",
       "      <td>71.18</td>\n",
       "      <td>Tim Hortons #947751</td>\n",
       "      <td>US</td>\n",
       "      <td>US</td>\n",
       "      <td>02</td>\n",
       "      <td>01</td>\n",
       "      <td>fastfood</td>\n",
       "      <td>10/2029</td>\n",
       "      <td>2015-08-06</td>\n",
       "      <td>2015-08-06</td>\n",
       "      <td>885</td>\n",
       "      <td>885</td>\n",
       "      <td>3143</td>\n",
       "      <td>PURCHASE</td>\n",
       "      <td></td>\n",
       "      <td>0.00</td>\n",
       "      <td></td>\n",
       "      <td></td>\n",
       "      <td></td>\n",
       "      <td>True</td>\n",
       "      <td></td>\n",
       "      <td></td>\n",
       "      <td>False</td>\n",
       "      <td>False</td>\n",
       "    </tr>\n",
       "    <tr>\n",
       "      <th>...</th>\n",
       "      <td>...</td>\n",
       "      <td>...</td>\n",
       "      <td>...</td>\n",
       "      <td>...</td>\n",
       "      <td>...</td>\n",
       "      <td>...</td>\n",
       "      <td>...</td>\n",
       "      <td>...</td>\n",
       "      <td>...</td>\n",
       "      <td>...</td>\n",
       "      <td>...</td>\n",
       "      <td>...</td>\n",
       "      <td>...</td>\n",
       "      <td>...</td>\n",
       "      <td>...</td>\n",
       "      <td>...</td>\n",
       "      <td>...</td>\n",
       "      <td>...</td>\n",
       "      <td>...</td>\n",
       "      <td>...</td>\n",
       "      <td>...</td>\n",
       "      <td>...</td>\n",
       "      <td>...</td>\n",
       "      <td>...</td>\n",
       "      <td>...</td>\n",
       "      <td>...</td>\n",
       "      <td>...</td>\n",
       "      <td>...</td>\n",
       "      <td>...</td>\n",
       "    </tr>\n",
       "    <tr>\n",
       "      <th>786358</th>\n",
       "      <td>732852505</td>\n",
       "      <td>732852505</td>\n",
       "      <td>50000</td>\n",
       "      <td>48904.96</td>\n",
       "      <td>2016-12-22T18:44:12</td>\n",
       "      <td>119.92</td>\n",
       "      <td>Lyft</td>\n",
       "      <td>US</td>\n",
       "      <td>US</td>\n",
       "      <td>90</td>\n",
       "      <td>01</td>\n",
       "      <td>rideshare</td>\n",
       "      <td>12/2022</td>\n",
       "      <td>2012-08-23</td>\n",
       "      <td>2012-08-23</td>\n",
       "      <td>936</td>\n",
       "      <td>936</td>\n",
       "      <td>3783</td>\n",
       "      <td>PURCHASE</td>\n",
       "      <td></td>\n",
       "      <td>1095.04</td>\n",
       "      <td></td>\n",
       "      <td></td>\n",
       "      <td></td>\n",
       "      <td>False</td>\n",
       "      <td></td>\n",
       "      <td></td>\n",
       "      <td>False</td>\n",
       "      <td>False</td>\n",
       "    </tr>\n",
       "    <tr>\n",
       "      <th>786359</th>\n",
       "      <td>732852505</td>\n",
       "      <td>732852505</td>\n",
       "      <td>50000</td>\n",
       "      <td>48785.04</td>\n",
       "      <td>2016-12-25T16:20:34</td>\n",
       "      <td>18.89</td>\n",
       "      <td>hulu.com</td>\n",
       "      <td>US</td>\n",
       "      <td>US</td>\n",
       "      <td>09</td>\n",
       "      <td>01</td>\n",
       "      <td>online_subscriptions</td>\n",
       "      <td>08/2023</td>\n",
       "      <td>2012-08-23</td>\n",
       "      <td>2012-08-23</td>\n",
       "      <td>939</td>\n",
       "      <td>939</td>\n",
       "      <td>3388</td>\n",
       "      <td>PURCHASE</td>\n",
       "      <td></td>\n",
       "      <td>1214.96</td>\n",
       "      <td></td>\n",
       "      <td></td>\n",
       "      <td></td>\n",
       "      <td>False</td>\n",
       "      <td></td>\n",
       "      <td></td>\n",
       "      <td>False</td>\n",
       "      <td>False</td>\n",
       "    </tr>\n",
       "    <tr>\n",
       "      <th>786360</th>\n",
       "      <td>732852505</td>\n",
       "      <td>732852505</td>\n",
       "      <td>50000</td>\n",
       "      <td>48766.15</td>\n",
       "      <td>2016-12-27T15:46:24</td>\n",
       "      <td>49.43</td>\n",
       "      <td>Lyft</td>\n",
       "      <td>US</td>\n",
       "      <td>US</td>\n",
       "      <td>02</td>\n",
       "      <td>01</td>\n",
       "      <td>rideshare</td>\n",
       "      <td>08/2025</td>\n",
       "      <td>2012-08-23</td>\n",
       "      <td>2012-08-23</td>\n",
       "      <td>936</td>\n",
       "      <td>936</td>\n",
       "      <td>3783</td>\n",
       "      <td>PURCHASE</td>\n",
       "      <td></td>\n",
       "      <td>1233.85</td>\n",
       "      <td></td>\n",
       "      <td></td>\n",
       "      <td></td>\n",
       "      <td>False</td>\n",
       "      <td></td>\n",
       "      <td></td>\n",
       "      <td>False</td>\n",
       "      <td>False</td>\n",
       "    </tr>\n",
       "    <tr>\n",
       "      <th>786361</th>\n",
       "      <td>732852505</td>\n",
       "      <td>732852505</td>\n",
       "      <td>50000</td>\n",
       "      <td>48716.72</td>\n",
       "      <td>2016-12-29T00:30:55</td>\n",
       "      <td>49.89</td>\n",
       "      <td>walmart.com</td>\n",
       "      <td>US</td>\n",
       "      <td>US</td>\n",
       "      <td>09</td>\n",
       "      <td>99</td>\n",
       "      <td>online_retail</td>\n",
       "      <td>07/2022</td>\n",
       "      <td>2012-08-23</td>\n",
       "      <td>2012-08-23</td>\n",
       "      <td>939</td>\n",
       "      <td>939</td>\n",
       "      <td>3388</td>\n",
       "      <td>PURCHASE</td>\n",
       "      <td></td>\n",
       "      <td>1283.28</td>\n",
       "      <td></td>\n",
       "      <td></td>\n",
       "      <td></td>\n",
       "      <td>False</td>\n",
       "      <td></td>\n",
       "      <td></td>\n",
       "      <td>False</td>\n",
       "      <td>False</td>\n",
       "    </tr>\n",
       "    <tr>\n",
       "      <th>786362</th>\n",
       "      <td>732852505</td>\n",
       "      <td>732852505</td>\n",
       "      <td>50000</td>\n",
       "      <td>48666.83</td>\n",
       "      <td>2016-12-30T20:10:29</td>\n",
       "      <td>72.18</td>\n",
       "      <td>Uber</td>\n",
       "      <td>US</td>\n",
       "      <td>US</td>\n",
       "      <td>05</td>\n",
       "      <td>01</td>\n",
       "      <td>rideshare</td>\n",
       "      <td>05/2024</td>\n",
       "      <td>2012-08-23</td>\n",
       "      <td>2012-08-23</td>\n",
       "      <td>939</td>\n",
       "      <td>939</td>\n",
       "      <td>3388</td>\n",
       "      <td>PURCHASE</td>\n",
       "      <td></td>\n",
       "      <td>1333.17</td>\n",
       "      <td></td>\n",
       "      <td></td>\n",
       "      <td></td>\n",
       "      <td>False</td>\n",
       "      <td></td>\n",
       "      <td></td>\n",
       "      <td>False</td>\n",
       "      <td>False</td>\n",
       "    </tr>\n",
       "  </tbody>\n",
       "</table>\n",
       "<p>786363 rows × 29 columns</p>\n",
       "</div>"
      ],
      "text/plain": [
       "        accountNumber  customerId  creditLimit  availableMoney  \\\n",
       "0           737265056   737265056         5000         5000.00   \n",
       "1           737265056   737265056         5000         5000.00   \n",
       "2           737265056   737265056         5000         5000.00   \n",
       "3           737265056   737265056         5000         5000.00   \n",
       "4           830329091   830329091         5000         5000.00   \n",
       "...               ...         ...          ...             ...   \n",
       "786358      732852505   732852505        50000        48904.96   \n",
       "786359      732852505   732852505        50000        48785.04   \n",
       "786360      732852505   732852505        50000        48766.15   \n",
       "786361      732852505   732852505        50000        48716.72   \n",
       "786362      732852505   732852505        50000        48666.83   \n",
       "\n",
       "        transactionDateTime  transactionAmount         merchantName  \\\n",
       "0       2016-08-13T14:27:32              98.55                 Uber   \n",
       "1       2016-10-11T05:05:54              74.51          AMC #191138   \n",
       "2       2016-11-08T09:18:39               7.47           Play Store   \n",
       "3       2016-12-10T02:14:50               7.47           Play Store   \n",
       "4       2016-03-24T21:04:46              71.18  Tim Hortons #947751   \n",
       "...                     ...                ...                  ...   \n",
       "786358  2016-12-22T18:44:12             119.92                 Lyft   \n",
       "786359  2016-12-25T16:20:34              18.89             hulu.com   \n",
       "786360  2016-12-27T15:46:24              49.43                 Lyft   \n",
       "786361  2016-12-29T00:30:55              49.89          walmart.com   \n",
       "786362  2016-12-30T20:10:29              72.18                 Uber   \n",
       "\n",
       "       acqCountry merchantCountryCode posEntryMode posConditionCode  \\\n",
       "0              US                  US           02               01   \n",
       "1              US                  US           09               01   \n",
       "2              US                  US           09               01   \n",
       "3              US                  US           09               01   \n",
       "4              US                  US           02               01   \n",
       "...           ...                 ...          ...              ...   \n",
       "786358         US                  US           90               01   \n",
       "786359         US                  US           09               01   \n",
       "786360         US                  US           02               01   \n",
       "786361         US                  US           09               99   \n",
       "786362         US                  US           05               01   \n",
       "\n",
       "        merchantCategoryCode currentExpDate accountOpenDate  \\\n",
       "0                  rideshare        06/2023      2015-03-14   \n",
       "1              entertainment        02/2024      2015-03-14   \n",
       "2                 mobileapps        08/2025      2015-03-14   \n",
       "3                 mobileapps        08/2025      2015-03-14   \n",
       "4                   fastfood        10/2029      2015-08-06   \n",
       "...                      ...            ...             ...   \n",
       "786358             rideshare        12/2022      2012-08-23   \n",
       "786359  online_subscriptions        08/2023      2012-08-23   \n",
       "786360             rideshare        08/2025      2012-08-23   \n",
       "786361         online_retail        07/2022      2012-08-23   \n",
       "786362             rideshare        05/2024      2012-08-23   \n",
       "\n",
       "       dateOfLastAddressChange  cardCVV  enteredCVV  cardLast4Digits  \\\n",
       "0                   2015-03-14      414         414             1803   \n",
       "1                   2015-03-14      486         486              767   \n",
       "2                   2015-03-14      486         486              767   \n",
       "3                   2015-03-14      486         486              767   \n",
       "4                   2015-08-06      885         885             3143   \n",
       "...                        ...      ...         ...              ...   \n",
       "786358              2012-08-23      936         936             3783   \n",
       "786359              2012-08-23      939         939             3388   \n",
       "786360              2012-08-23      936         936             3783   \n",
       "786361              2012-08-23      939         939             3388   \n",
       "786362              2012-08-23      939         939             3388   \n",
       "\n",
       "       transactionType echoBuffer  currentBalance merchantCity merchantState  \\\n",
       "0             PURCHASE                       0.00                              \n",
       "1             PURCHASE                       0.00                              \n",
       "2             PURCHASE                       0.00                              \n",
       "3             PURCHASE                       0.00                              \n",
       "4             PURCHASE                       0.00                              \n",
       "...                ...        ...             ...          ...           ...   \n",
       "786358        PURCHASE                    1095.04                              \n",
       "786359        PURCHASE                    1214.96                              \n",
       "786360        PURCHASE                    1233.85                              \n",
       "786361        PURCHASE                    1283.28                              \n",
       "786362        PURCHASE                    1333.17                              \n",
       "\n",
       "       merchantZip  cardPresent posOnPremises recurringAuthInd  \\\n",
       "0                         False                                  \n",
       "1                          True                                  \n",
       "2                         False                                  \n",
       "3                         False                                  \n",
       "4                          True                                  \n",
       "...            ...          ...           ...              ...   \n",
       "786358                    False                                  \n",
       "786359                    False                                  \n",
       "786360                    False                                  \n",
       "786361                    False                                  \n",
       "786362                    False                                  \n",
       "\n",
       "        expirationDateKeyInMatch  isFraud  \n",
       "0                          False    False  \n",
       "1                          False    False  \n",
       "2                          False    False  \n",
       "3                          False    False  \n",
       "4                          False    False  \n",
       "...                          ...      ...  \n",
       "786358                     False    False  \n",
       "786359                     False    False  \n",
       "786360                     False    False  \n",
       "786361                     False    False  \n",
       "786362                     False    False  \n",
       "\n",
       "[786363 rows x 29 columns]"
      ]
     },
     "execution_count": 3,
     "metadata": {},
     "output_type": "execute_result"
    }
   ],
   "source": [
    "df"
   ]
  },
  {
   "cell_type": "code",
   "execution_count": 4,
   "id": "1b75f29a",
   "metadata": {},
   "outputs": [],
   "source": [
    "df = df.sample(n=100000, random_state=42)"
   ]
  },
  {
   "cell_type": "code",
   "execution_count": 5,
   "id": "d68e3213-55e4-4625-a20e-823c936a1d3c",
   "metadata": {},
   "outputs": [
    {
     "data": {
      "text/html": [
       "<div>\n",
       "<style scoped>\n",
       "    .dataframe tbody tr th:only-of-type {\n",
       "        vertical-align: middle;\n",
       "    }\n",
       "\n",
       "    .dataframe tbody tr th {\n",
       "        vertical-align: top;\n",
       "    }\n",
       "\n",
       "    .dataframe thead th {\n",
       "        text-align: right;\n",
       "    }\n",
       "</style>\n",
       "<table border=\"1\" class=\"dataframe\">\n",
       "  <thead>\n",
       "    <tr style=\"text-align: right;\">\n",
       "      <th></th>\n",
       "      <th>accountNumber</th>\n",
       "      <th>customerId</th>\n",
       "      <th>creditLimit</th>\n",
       "      <th>availableMoney</th>\n",
       "      <th>transactionDateTime</th>\n",
       "      <th>transactionAmount</th>\n",
       "      <th>merchantName</th>\n",
       "      <th>acqCountry</th>\n",
       "      <th>merchantCountryCode</th>\n",
       "      <th>posEntryMode</th>\n",
       "      <th>posConditionCode</th>\n",
       "      <th>merchantCategoryCode</th>\n",
       "      <th>currentExpDate</th>\n",
       "      <th>accountOpenDate</th>\n",
       "      <th>dateOfLastAddressChange</th>\n",
       "      <th>cardCVV</th>\n",
       "      <th>enteredCVV</th>\n",
       "      <th>cardLast4Digits</th>\n",
       "      <th>transactionType</th>\n",
       "      <th>echoBuffer</th>\n",
       "      <th>currentBalance</th>\n",
       "      <th>merchantCity</th>\n",
       "      <th>merchantState</th>\n",
       "      <th>merchantZip</th>\n",
       "      <th>cardPresent</th>\n",
       "      <th>posOnPremises</th>\n",
       "      <th>recurringAuthInd</th>\n",
       "      <th>expirationDateKeyInMatch</th>\n",
       "      <th>isFraud</th>\n",
       "    </tr>\n",
       "  </thead>\n",
       "  <tbody>\n",
       "    <tr>\n",
       "      <th>297484</th>\n",
       "      <td>253508360</td>\n",
       "      <td>253508360</td>\n",
       "      <td>5000</td>\n",
       "      <td>759.27</td>\n",
       "      <td>2016-12-15T22:02:53</td>\n",
       "      <td>141.75</td>\n",
       "      <td>Uptown Fries</td>\n",
       "      <td>US</td>\n",
       "      <td>US</td>\n",
       "      <td>05</td>\n",
       "      <td>01</td>\n",
       "      <td>food</td>\n",
       "      <td>09/2026</td>\n",
       "      <td>2012-10-18</td>\n",
       "      <td>2016-04-06</td>\n",
       "      <td>557</td>\n",
       "      <td>556</td>\n",
       "      <td>1510</td>\n",
       "      <td>PURCHASE</td>\n",
       "      <td></td>\n",
       "      <td>4240.73</td>\n",
       "      <td></td>\n",
       "      <td></td>\n",
       "      <td></td>\n",
       "      <td>True</td>\n",
       "      <td></td>\n",
       "      <td></td>\n",
       "      <td>False</td>\n",
       "      <td>False</td>\n",
       "    </tr>\n",
       "    <tr>\n",
       "      <th>646589</th>\n",
       "      <td>481670604</td>\n",
       "      <td>481670604</td>\n",
       "      <td>250</td>\n",
       "      <td>-14.56</td>\n",
       "      <td>2016-11-23T18:19:01</td>\n",
       "      <td>43.18</td>\n",
       "      <td>Texas Gas #763333</td>\n",
       "      <td>US</td>\n",
       "      <td>US</td>\n",
       "      <td>05</td>\n",
       "      <td>01</td>\n",
       "      <td>fuel</td>\n",
       "      <td>12/2021</td>\n",
       "      <td>2014-08-26</td>\n",
       "      <td>2014-08-26</td>\n",
       "      <td>575</td>\n",
       "      <td>575</td>\n",
       "      <td>6631</td>\n",
       "      <td>PURCHASE</td>\n",
       "      <td></td>\n",
       "      <td>264.56</td>\n",
       "      <td></td>\n",
       "      <td></td>\n",
       "      <td></td>\n",
       "      <td>True</td>\n",
       "      <td></td>\n",
       "      <td></td>\n",
       "      <td>False</td>\n",
       "      <td>False</td>\n",
       "    </tr>\n",
       "    <tr>\n",
       "      <th>319743</th>\n",
       "      <td>822166888</td>\n",
       "      <td>822166888</td>\n",
       "      <td>20000</td>\n",
       "      <td>15325.03</td>\n",
       "      <td>2016-01-15T17:14:47</td>\n",
       "      <td>144.66</td>\n",
       "      <td>Domino's Pizza #61297</td>\n",
       "      <td>US</td>\n",
       "      <td>US</td>\n",
       "      <td>09</td>\n",
       "      <td>01</td>\n",
       "      <td>fastfood</td>\n",
       "      <td>09/2027</td>\n",
       "      <td>2015-03-08</td>\n",
       "      <td>2015-03-08</td>\n",
       "      <td>204</td>\n",
       "      <td>204</td>\n",
       "      <td>3581</td>\n",
       "      <td>PURCHASE</td>\n",
       "      <td></td>\n",
       "      <td>4674.97</td>\n",
       "      <td></td>\n",
       "      <td></td>\n",
       "      <td></td>\n",
       "      <td>True</td>\n",
       "      <td></td>\n",
       "      <td></td>\n",
       "      <td>False</td>\n",
       "      <td>False</td>\n",
       "    </tr>\n",
       "    <tr>\n",
       "      <th>713942</th>\n",
       "      <td>275424063</td>\n",
       "      <td>275424063</td>\n",
       "      <td>5000</td>\n",
       "      <td>3903.14</td>\n",
       "      <td>2016-08-18T03:32:37</td>\n",
       "      <td>112.12</td>\n",
       "      <td>EZ Putt Putt #982199</td>\n",
       "      <td>US</td>\n",
       "      <td>US</td>\n",
       "      <td>02</td>\n",
       "      <td>01</td>\n",
       "      <td>entertainment</td>\n",
       "      <td>06/2023</td>\n",
       "      <td>2014-07-04</td>\n",
       "      <td>2014-07-04</td>\n",
       "      <td>486</td>\n",
       "      <td>486</td>\n",
       "      <td>9619</td>\n",
       "      <td>PURCHASE</td>\n",
       "      <td></td>\n",
       "      <td>1096.86</td>\n",
       "      <td></td>\n",
       "      <td></td>\n",
       "      <td></td>\n",
       "      <td>True</td>\n",
       "      <td></td>\n",
       "      <td></td>\n",
       "      <td>False</td>\n",
       "      <td>False</td>\n",
       "    </tr>\n",
       "    <tr>\n",
       "      <th>429181</th>\n",
       "      <td>419709514</td>\n",
       "      <td>419709514</td>\n",
       "      <td>5000</td>\n",
       "      <td>1089.20</td>\n",
       "      <td>2016-06-09T23:47:14</td>\n",
       "      <td>121.43</td>\n",
       "      <td>alibaba.com</td>\n",
       "      <td>US</td>\n",
       "      <td>US</td>\n",
       "      <td>02</td>\n",
       "      <td>01</td>\n",
       "      <td>online_retail</td>\n",
       "      <td>08/2022</td>\n",
       "      <td>2015-03-01</td>\n",
       "      <td>2016-06-08</td>\n",
       "      <td>917</td>\n",
       "      <td>917</td>\n",
       "      <td>2178</td>\n",
       "      <td>PURCHASE</td>\n",
       "      <td></td>\n",
       "      <td>3910.80</td>\n",
       "      <td></td>\n",
       "      <td></td>\n",
       "      <td></td>\n",
       "      <td>False</td>\n",
       "      <td></td>\n",
       "      <td></td>\n",
       "      <td>False</td>\n",
       "      <td>False</td>\n",
       "    </tr>\n",
       "  </tbody>\n",
       "</table>\n",
       "</div>"
      ],
      "text/plain": [
       "        accountNumber  customerId  creditLimit  availableMoney  \\\n",
       "297484      253508360   253508360         5000          759.27   \n",
       "646589      481670604   481670604          250          -14.56   \n",
       "319743      822166888   822166888        20000        15325.03   \n",
       "713942      275424063   275424063         5000         3903.14   \n",
       "429181      419709514   419709514         5000         1089.20   \n",
       "\n",
       "        transactionDateTime  transactionAmount           merchantName  \\\n",
       "297484  2016-12-15T22:02:53             141.75           Uptown Fries   \n",
       "646589  2016-11-23T18:19:01              43.18      Texas Gas #763333   \n",
       "319743  2016-01-15T17:14:47             144.66  Domino's Pizza #61297   \n",
       "713942  2016-08-18T03:32:37             112.12   EZ Putt Putt #982199   \n",
       "429181  2016-06-09T23:47:14             121.43            alibaba.com   \n",
       "\n",
       "       acqCountry merchantCountryCode posEntryMode posConditionCode  \\\n",
       "297484         US                  US           05               01   \n",
       "646589         US                  US           05               01   \n",
       "319743         US                  US           09               01   \n",
       "713942         US                  US           02               01   \n",
       "429181         US                  US           02               01   \n",
       "\n",
       "       merchantCategoryCode currentExpDate accountOpenDate  \\\n",
       "297484                 food        09/2026      2012-10-18   \n",
       "646589                 fuel        12/2021      2014-08-26   \n",
       "319743             fastfood        09/2027      2015-03-08   \n",
       "713942        entertainment        06/2023      2014-07-04   \n",
       "429181        online_retail        08/2022      2015-03-01   \n",
       "\n",
       "       dateOfLastAddressChange  cardCVV  enteredCVV  cardLast4Digits  \\\n",
       "297484              2016-04-06      557         556             1510   \n",
       "646589              2014-08-26      575         575             6631   \n",
       "319743              2015-03-08      204         204             3581   \n",
       "713942              2014-07-04      486         486             9619   \n",
       "429181              2016-06-08      917         917             2178   \n",
       "\n",
       "       transactionType echoBuffer  currentBalance merchantCity merchantState  \\\n",
       "297484        PURCHASE                    4240.73                              \n",
       "646589        PURCHASE                     264.56                              \n",
       "319743        PURCHASE                    4674.97                              \n",
       "713942        PURCHASE                    1096.86                              \n",
       "429181        PURCHASE                    3910.80                              \n",
       "\n",
       "       merchantZip  cardPresent posOnPremises recurringAuthInd  \\\n",
       "297484                     True                                  \n",
       "646589                     True                                  \n",
       "319743                     True                                  \n",
       "713942                     True                                  \n",
       "429181                    False                                  \n",
       "\n",
       "        expirationDateKeyInMatch  isFraud  \n",
       "297484                     False    False  \n",
       "646589                     False    False  \n",
       "319743                     False    False  \n",
       "713942                     False    False  \n",
       "429181                     False    False  "
      ]
     },
     "execution_count": 5,
     "metadata": {},
     "output_type": "execute_result"
    }
   ],
   "source": [
    "df.head()"
   ]
  },
  {
   "cell_type": "code",
   "execution_count": 6,
   "id": "81a946aa-c84d-4f33-92ef-1ff2e0d68357",
   "metadata": {},
   "outputs": [
    {
     "data": {
      "text/html": [
       "<div>\n",
       "<style scoped>\n",
       "    .dataframe tbody tr th:only-of-type {\n",
       "        vertical-align: middle;\n",
       "    }\n",
       "\n",
       "    .dataframe tbody tr th {\n",
       "        vertical-align: top;\n",
       "    }\n",
       "\n",
       "    .dataframe thead th {\n",
       "        text-align: right;\n",
       "    }\n",
       "</style>\n",
       "<table border=\"1\" class=\"dataframe\">\n",
       "  <thead>\n",
       "    <tr style=\"text-align: right;\">\n",
       "      <th></th>\n",
       "      <th>accountNumber</th>\n",
       "      <th>customerId</th>\n",
       "      <th>creditLimit</th>\n",
       "      <th>availableMoney</th>\n",
       "      <th>transactionDateTime</th>\n",
       "      <th>transactionAmount</th>\n",
       "      <th>merchantName</th>\n",
       "      <th>acqCountry</th>\n",
       "      <th>merchantCountryCode</th>\n",
       "      <th>posEntryMode</th>\n",
       "      <th>posConditionCode</th>\n",
       "      <th>merchantCategoryCode</th>\n",
       "      <th>currentExpDate</th>\n",
       "      <th>accountOpenDate</th>\n",
       "      <th>dateOfLastAddressChange</th>\n",
       "      <th>cardCVV</th>\n",
       "      <th>enteredCVV</th>\n",
       "      <th>cardLast4Digits</th>\n",
       "      <th>transactionType</th>\n",
       "      <th>echoBuffer</th>\n",
       "      <th>currentBalance</th>\n",
       "      <th>merchantCity</th>\n",
       "      <th>merchantState</th>\n",
       "      <th>merchantZip</th>\n",
       "      <th>cardPresent</th>\n",
       "      <th>posOnPremises</th>\n",
       "      <th>recurringAuthInd</th>\n",
       "      <th>expirationDateKeyInMatch</th>\n",
       "      <th>isFraud</th>\n",
       "    </tr>\n",
       "  </thead>\n",
       "  <tbody>\n",
       "    <tr>\n",
       "      <th>265775</th>\n",
       "      <td>380680241</td>\n",
       "      <td>380680241</td>\n",
       "      <td>5000</td>\n",
       "      <td>3968.42</td>\n",
       "      <td>2016-10-12T04:10:05</td>\n",
       "      <td>328.36</td>\n",
       "      <td>Blue Mountain Online Services</td>\n",
       "      <td>US</td>\n",
       "      <td>US</td>\n",
       "      <td>05</td>\n",
       "      <td>01</td>\n",
       "      <td>online_gifts</td>\n",
       "      <td>01/2029</td>\n",
       "      <td>2014-06-21</td>\n",
       "      <td>2016-10-10</td>\n",
       "      <td>869</td>\n",
       "      <td>869</td>\n",
       "      <td>593</td>\n",
       "      <td>PURCHASE</td>\n",
       "      <td></td>\n",
       "      <td>1031.58</td>\n",
       "      <td></td>\n",
       "      <td></td>\n",
       "      <td></td>\n",
       "      <td>False</td>\n",
       "      <td></td>\n",
       "      <td></td>\n",
       "      <td>False</td>\n",
       "      <td>False</td>\n",
       "    </tr>\n",
       "    <tr>\n",
       "      <th>728406</th>\n",
       "      <td>798678437</td>\n",
       "      <td>798678437</td>\n",
       "      <td>15000</td>\n",
       "      <td>14524.12</td>\n",
       "      <td>2016-05-04T12:58:22</td>\n",
       "      <td>396.66</td>\n",
       "      <td>South BBQ</td>\n",
       "      <td>US</td>\n",
       "      <td>US</td>\n",
       "      <td>09</td>\n",
       "      <td>01</td>\n",
       "      <td>food</td>\n",
       "      <td>02/2020</td>\n",
       "      <td>2009-04-07</td>\n",
       "      <td>2016-02-19</td>\n",
       "      <td>865</td>\n",
       "      <td>865</td>\n",
       "      <td>9322</td>\n",
       "      <td>PURCHASE</td>\n",
       "      <td></td>\n",
       "      <td>475.88</td>\n",
       "      <td></td>\n",
       "      <td></td>\n",
       "      <td></td>\n",
       "      <td>True</td>\n",
       "      <td></td>\n",
       "      <td></td>\n",
       "      <td>False</td>\n",
       "      <td>False</td>\n",
       "    </tr>\n",
       "    <tr>\n",
       "      <th>59374</th>\n",
       "      <td>246251253</td>\n",
       "      <td>246251253</td>\n",
       "      <td>5000</td>\n",
       "      <td>4342.45</td>\n",
       "      <td>2016-12-21T10:51:40</td>\n",
       "      <td>224.39</td>\n",
       "      <td>gap.com</td>\n",
       "      <td>US</td>\n",
       "      <td>US</td>\n",
       "      <td>05</td>\n",
       "      <td>01</td>\n",
       "      <td>online_retail</td>\n",
       "      <td>10/2030</td>\n",
       "      <td>2014-10-02</td>\n",
       "      <td>2016-12-15</td>\n",
       "      <td>455</td>\n",
       "      <td>455</td>\n",
       "      <td>6002</td>\n",
       "      <td>PURCHASE</td>\n",
       "      <td></td>\n",
       "      <td>657.55</td>\n",
       "      <td></td>\n",
       "      <td></td>\n",
       "      <td></td>\n",
       "      <td>False</td>\n",
       "      <td></td>\n",
       "      <td></td>\n",
       "      <td>False</td>\n",
       "      <td>False</td>\n",
       "    </tr>\n",
       "    <tr>\n",
       "      <th>334831</th>\n",
       "      <td>293692810</td>\n",
       "      <td>293692810</td>\n",
       "      <td>7500</td>\n",
       "      <td>6121.41</td>\n",
       "      <td>2016-07-11T10:28:30</td>\n",
       "      <td>269.18</td>\n",
       "      <td>walmart.com</td>\n",
       "      <td>US</td>\n",
       "      <td>US</td>\n",
       "      <td>02</td>\n",
       "      <td>01</td>\n",
       "      <td>online_retail</td>\n",
       "      <td>01/2032</td>\n",
       "      <td>2015-08-09</td>\n",
       "      <td>2015-08-09</td>\n",
       "      <td>437</td>\n",
       "      <td>437</td>\n",
       "      <td>2898</td>\n",
       "      <td>PURCHASE</td>\n",
       "      <td></td>\n",
       "      <td>1378.59</td>\n",
       "      <td></td>\n",
       "      <td></td>\n",
       "      <td></td>\n",
       "      <td>False</td>\n",
       "      <td></td>\n",
       "      <td></td>\n",
       "      <td>False</td>\n",
       "      <td>True</td>\n",
       "    </tr>\n",
       "    <tr>\n",
       "      <th>767365</th>\n",
       "      <td>223465188</td>\n",
       "      <td>223465188</td>\n",
       "      <td>7500</td>\n",
       "      <td>6478.85</td>\n",
       "      <td>2016-02-07T23:21:08</td>\n",
       "      <td>53.37</td>\n",
       "      <td>Hilton Hotels #07414</td>\n",
       "      <td>US</td>\n",
       "      <td>US</td>\n",
       "      <td>09</td>\n",
       "      <td>01</td>\n",
       "      <td>hotels</td>\n",
       "      <td>12/2032</td>\n",
       "      <td>2014-10-27</td>\n",
       "      <td>2014-10-27</td>\n",
       "      <td>606</td>\n",
       "      <td>606</td>\n",
       "      <td>2990</td>\n",
       "      <td>PURCHASE</td>\n",
       "      <td></td>\n",
       "      <td>1021.15</td>\n",
       "      <td></td>\n",
       "      <td></td>\n",
       "      <td></td>\n",
       "      <td>False</td>\n",
       "      <td></td>\n",
       "      <td></td>\n",
       "      <td>False</td>\n",
       "      <td>False</td>\n",
       "    </tr>\n",
       "  </tbody>\n",
       "</table>\n",
       "</div>"
      ],
      "text/plain": [
       "        accountNumber  customerId  creditLimit  availableMoney  \\\n",
       "265775      380680241   380680241         5000         3968.42   \n",
       "728406      798678437   798678437        15000        14524.12   \n",
       "59374       246251253   246251253         5000         4342.45   \n",
       "334831      293692810   293692810         7500         6121.41   \n",
       "767365      223465188   223465188         7500         6478.85   \n",
       "\n",
       "        transactionDateTime  transactionAmount                   merchantName  \\\n",
       "265775  2016-10-12T04:10:05             328.36  Blue Mountain Online Services   \n",
       "728406  2016-05-04T12:58:22             396.66                      South BBQ   \n",
       "59374   2016-12-21T10:51:40             224.39                        gap.com   \n",
       "334831  2016-07-11T10:28:30             269.18                    walmart.com   \n",
       "767365  2016-02-07T23:21:08              53.37           Hilton Hotels #07414   \n",
       "\n",
       "       acqCountry merchantCountryCode posEntryMode posConditionCode  \\\n",
       "265775         US                  US           05               01   \n",
       "728406         US                  US           09               01   \n",
       "59374          US                  US           05               01   \n",
       "334831         US                  US           02               01   \n",
       "767365         US                  US           09               01   \n",
       "\n",
       "       merchantCategoryCode currentExpDate accountOpenDate  \\\n",
       "265775         online_gifts        01/2029      2014-06-21   \n",
       "728406                 food        02/2020      2009-04-07   \n",
       "59374         online_retail        10/2030      2014-10-02   \n",
       "334831        online_retail        01/2032      2015-08-09   \n",
       "767365               hotels        12/2032      2014-10-27   \n",
       "\n",
       "       dateOfLastAddressChange  cardCVV  enteredCVV  cardLast4Digits  \\\n",
       "265775              2016-10-10      869         869              593   \n",
       "728406              2016-02-19      865         865             9322   \n",
       "59374               2016-12-15      455         455             6002   \n",
       "334831              2015-08-09      437         437             2898   \n",
       "767365              2014-10-27      606         606             2990   \n",
       "\n",
       "       transactionType echoBuffer  currentBalance merchantCity merchantState  \\\n",
       "265775        PURCHASE                    1031.58                              \n",
       "728406        PURCHASE                     475.88                              \n",
       "59374         PURCHASE                     657.55                              \n",
       "334831        PURCHASE                    1378.59                              \n",
       "767365        PURCHASE                    1021.15                              \n",
       "\n",
       "       merchantZip  cardPresent posOnPremises recurringAuthInd  \\\n",
       "265775                    False                                  \n",
       "728406                     True                                  \n",
       "59374                     False                                  \n",
       "334831                    False                                  \n",
       "767365                    False                                  \n",
       "\n",
       "        expirationDateKeyInMatch  isFraud  \n",
       "265775                     False    False  \n",
       "728406                     False    False  \n",
       "59374                      False    False  \n",
       "334831                     False     True  \n",
       "767365                     False    False  "
      ]
     },
     "execution_count": 6,
     "metadata": {},
     "output_type": "execute_result"
    }
   ],
   "source": [
    "df.tail()"
   ]
  },
  {
   "cell_type": "code",
   "execution_count": 7,
   "id": "f0de50f2-126d-42e9-9bec-262a2cef3681",
   "metadata": {},
   "outputs": [
    {
     "data": {
      "text/plain": [
       "(100000, 29)"
      ]
     },
     "execution_count": 7,
     "metadata": {},
     "output_type": "execute_result"
    }
   ],
   "source": [
    "df.shape"
   ]
  },
  {
   "cell_type": "code",
   "execution_count": 8,
   "id": "e5972d58-844c-47c4-9a49-02a62c2394f4",
   "metadata": {},
   "outputs": [
    {
     "name": "stdout",
     "output_type": "stream",
     "text": [
      "<class 'pandas.core.frame.DataFrame'>\n",
      "Index: 100000 entries, 297484 to 767365\n",
      "Data columns (total 29 columns):\n",
      " #   Column                    Non-Null Count   Dtype  \n",
      "---  ------                    --------------   -----  \n",
      " 0   accountNumber             100000 non-null  int64  \n",
      " 1   customerId                100000 non-null  int64  \n",
      " 2   creditLimit               100000 non-null  int64  \n",
      " 3   availableMoney            100000 non-null  float64\n",
      " 4   transactionDateTime       100000 non-null  object \n",
      " 5   transactionAmount         100000 non-null  float64\n",
      " 6   merchantName              100000 non-null  object \n",
      " 7   acqCountry                100000 non-null  object \n",
      " 8   merchantCountryCode       100000 non-null  object \n",
      " 9   posEntryMode              100000 non-null  object \n",
      " 10  posConditionCode          100000 non-null  object \n",
      " 11  merchantCategoryCode      100000 non-null  object \n",
      " 12  currentExpDate            100000 non-null  object \n",
      " 13  accountOpenDate           100000 non-null  object \n",
      " 14  dateOfLastAddressChange   100000 non-null  object \n",
      " 15  cardCVV                   100000 non-null  int64  \n",
      " 16  enteredCVV                100000 non-null  int64  \n",
      " 17  cardLast4Digits           100000 non-null  int64  \n",
      " 18  transactionType           100000 non-null  object \n",
      " 19  echoBuffer                100000 non-null  object \n",
      " 20  currentBalance            100000 non-null  float64\n",
      " 21  merchantCity              100000 non-null  object \n",
      " 22  merchantState             100000 non-null  object \n",
      " 23  merchantZip               100000 non-null  object \n",
      " 24  cardPresent               100000 non-null  bool   \n",
      " 25  posOnPremises             100000 non-null  object \n",
      " 26  recurringAuthInd          100000 non-null  object \n",
      " 27  expirationDateKeyInMatch  100000 non-null  bool   \n",
      " 28  isFraud                   100000 non-null  bool   \n",
      "dtypes: bool(3), float64(3), int64(6), object(17)\n",
      "memory usage: 20.9+ MB\n"
     ]
    }
   ],
   "source": [
    "df.info()"
   ]
  },
  {
   "cell_type": "code",
   "execution_count": 9,
   "id": "5e178503-5301-4f84-9cff-852e487c1895",
   "metadata": {},
   "outputs": [
    {
     "data": {
      "text/plain": [
       "accountNumber               0\n",
       "customerId                  0\n",
       "creditLimit                 0\n",
       "availableMoney              0\n",
       "transactionDateTime         0\n",
       "transactionAmount           0\n",
       "merchantName                0\n",
       "acqCountry                  0\n",
       "merchantCountryCode         0\n",
       "posEntryMode                0\n",
       "posConditionCode            0\n",
       "merchantCategoryCode        0\n",
       "currentExpDate              0\n",
       "accountOpenDate             0\n",
       "dateOfLastAddressChange     0\n",
       "cardCVV                     0\n",
       "enteredCVV                  0\n",
       "cardLast4Digits             0\n",
       "transactionType             0\n",
       "echoBuffer                  0\n",
       "currentBalance              0\n",
       "merchantCity                0\n",
       "merchantState               0\n",
       "merchantZip                 0\n",
       "cardPresent                 0\n",
       "posOnPremises               0\n",
       "recurringAuthInd            0\n",
       "expirationDateKeyInMatch    0\n",
       "isFraud                     0\n",
       "dtype: int64"
      ]
     },
     "execution_count": 9,
     "metadata": {},
     "output_type": "execute_result"
    }
   ],
   "source": [
    "df.isnull().sum()"
   ]
  },
  {
   "cell_type": "code",
   "execution_count": 10,
   "id": "98dc399e-1f99-487f-aafc-01c9777222fc",
   "metadata": {},
   "outputs": [
    {
     "data": {
      "text/plain": [
       "0"
      ]
     },
     "execution_count": 10,
     "metadata": {},
     "output_type": "execute_result"
    }
   ],
   "source": [
    "df.duplicated().sum()"
   ]
  },
  {
   "cell_type": "code",
   "execution_count": 11,
   "id": "8621d182-18fb-4dcd-952c-2ef16264ce3a",
   "metadata": {},
   "outputs": [
    {
     "data": {
      "text/html": [
       "<div>\n",
       "<style scoped>\n",
       "    .dataframe tbody tr th:only-of-type {\n",
       "        vertical-align: middle;\n",
       "    }\n",
       "\n",
       "    .dataframe tbody tr th {\n",
       "        vertical-align: top;\n",
       "    }\n",
       "\n",
       "    .dataframe thead th {\n",
       "        text-align: right;\n",
       "    }\n",
       "</style>\n",
       "<table border=\"1\" class=\"dataframe\">\n",
       "  <thead>\n",
       "    <tr style=\"text-align: right;\">\n",
       "      <th></th>\n",
       "      <th>accountNumber</th>\n",
       "      <th>customerId</th>\n",
       "      <th>creditLimit</th>\n",
       "      <th>availableMoney</th>\n",
       "      <th>transactionAmount</th>\n",
       "      <th>cardCVV</th>\n",
       "      <th>enteredCVV</th>\n",
       "      <th>cardLast4Digits</th>\n",
       "      <th>currentBalance</th>\n",
       "    </tr>\n",
       "  </thead>\n",
       "  <tbody>\n",
       "    <tr>\n",
       "      <th>count</th>\n",
       "      <td>1.000000e+05</td>\n",
       "      <td>1.000000e+05</td>\n",
       "      <td>100000.000000</td>\n",
       "      <td>100000.000000</td>\n",
       "      <td>100000.000000</td>\n",
       "      <td>100000.000000</td>\n",
       "      <td>100000.000000</td>\n",
       "      <td>100000.00000</td>\n",
       "      <td>100000.000000</td>\n",
       "    </tr>\n",
       "    <tr>\n",
       "      <th>mean</th>\n",
       "      <td>5.377965e+08</td>\n",
       "      <td>5.377965e+08</td>\n",
       "      <td>10768.535000</td>\n",
       "      <td>6274.121577</td>\n",
       "      <td>137.078117</td>\n",
       "      <td>544.759140</td>\n",
       "      <td>544.382760</td>\n",
       "      <td>4759.36946</td>\n",
       "      <td>4494.413423</td>\n",
       "    </tr>\n",
       "    <tr>\n",
       "      <th>std</th>\n",
       "      <td>2.554387e+08</td>\n",
       "      <td>2.554387e+08</td>\n",
       "      <td>11715.556815</td>\n",
       "      <td>8983.873589</td>\n",
       "      <td>147.414605</td>\n",
       "      <td>261.687931</td>\n",
       "      <td>261.759319</td>\n",
       "      <td>2993.88875</td>\n",
       "      <td>6455.880633</td>\n",
       "    </tr>\n",
       "    <tr>\n",
       "      <th>min</th>\n",
       "      <td>1.000881e+08</td>\n",
       "      <td>1.000881e+08</td>\n",
       "      <td>250.000000</td>\n",
       "      <td>-834.700000</td>\n",
       "      <td>0.000000</td>\n",
       "      <td>100.000000</td>\n",
       "      <td>0.000000</td>\n",
       "      <td>0.00000</td>\n",
       "      <td>0.000000</td>\n",
       "    </tr>\n",
       "    <tr>\n",
       "      <th>25%</th>\n",
       "      <td>3.306507e+08</td>\n",
       "      <td>3.306507e+08</td>\n",
       "      <td>5000.000000</td>\n",
       "      <td>1060.872500</td>\n",
       "      <td>34.000000</td>\n",
       "      <td>310.000000</td>\n",
       "      <td>309.000000</td>\n",
       "      <td>2178.00000</td>\n",
       "      <td>687.185000</td>\n",
       "    </tr>\n",
       "    <tr>\n",
       "      <th>50%</th>\n",
       "      <td>5.074561e+08</td>\n",
       "      <td>5.074561e+08</td>\n",
       "      <td>7500.000000</td>\n",
       "      <td>3156.790000</td>\n",
       "      <td>88.265000</td>\n",
       "      <td>535.000000</td>\n",
       "      <td>535.000000</td>\n",
       "      <td>4743.50000</td>\n",
       "      <td>2440.355000</td>\n",
       "    </tr>\n",
       "    <tr>\n",
       "      <th>75%</th>\n",
       "      <td>7.676200e+08</td>\n",
       "      <td>7.676200e+08</td>\n",
       "      <td>15000.000000</td>\n",
       "      <td>7500.000000</td>\n",
       "      <td>191.360000</td>\n",
       "      <td>787.000000</td>\n",
       "      <td>786.000000</td>\n",
       "      <td>7338.00000</td>\n",
       "      <td>5241.947500</td>\n",
       "    </tr>\n",
       "    <tr>\n",
       "      <th>max</th>\n",
       "      <td>9.993896e+08</td>\n",
       "      <td>9.993896e+08</td>\n",
       "      <td>50000.000000</td>\n",
       "      <td>50000.000000</td>\n",
       "      <td>1767.500000</td>\n",
       "      <td>998.000000</td>\n",
       "      <td>998.000000</td>\n",
       "      <td>9998.00000</td>\n",
       "      <td>47498.810000</td>\n",
       "    </tr>\n",
       "  </tbody>\n",
       "</table>\n",
       "</div>"
      ],
      "text/plain": [
       "       accountNumber    customerId    creditLimit  availableMoney  \\\n",
       "count   1.000000e+05  1.000000e+05  100000.000000   100000.000000   \n",
       "mean    5.377965e+08  5.377965e+08   10768.535000     6274.121577   \n",
       "std     2.554387e+08  2.554387e+08   11715.556815     8983.873589   \n",
       "min     1.000881e+08  1.000881e+08     250.000000     -834.700000   \n",
       "25%     3.306507e+08  3.306507e+08    5000.000000     1060.872500   \n",
       "50%     5.074561e+08  5.074561e+08    7500.000000     3156.790000   \n",
       "75%     7.676200e+08  7.676200e+08   15000.000000     7500.000000   \n",
       "max     9.993896e+08  9.993896e+08   50000.000000    50000.000000   \n",
       "\n",
       "       transactionAmount        cardCVV     enteredCVV  cardLast4Digits  \\\n",
       "count      100000.000000  100000.000000  100000.000000     100000.00000   \n",
       "mean          137.078117     544.759140     544.382760       4759.36946   \n",
       "std           147.414605     261.687931     261.759319       2993.88875   \n",
       "min             0.000000     100.000000       0.000000          0.00000   \n",
       "25%            34.000000     310.000000     309.000000       2178.00000   \n",
       "50%            88.265000     535.000000     535.000000       4743.50000   \n",
       "75%           191.360000     787.000000     786.000000       7338.00000   \n",
       "max          1767.500000     998.000000     998.000000       9998.00000   \n",
       "\n",
       "       currentBalance  \n",
       "count   100000.000000  \n",
       "mean      4494.413423  \n",
       "std       6455.880633  \n",
       "min          0.000000  \n",
       "25%        687.185000  \n",
       "50%       2440.355000  \n",
       "75%       5241.947500  \n",
       "max      47498.810000  "
      ]
     },
     "execution_count": 11,
     "metadata": {},
     "output_type": "execute_result"
    }
   ],
   "source": [
    "df.describe()"
   ]
  },
  {
   "cell_type": "code",
   "execution_count": 12,
   "id": "2ce92eda-5364-40db-8c28-1e033471464a",
   "metadata": {},
   "outputs": [
    {
     "data": {
      "image/png": "[encoded data removed]",
      "text/plain": [
       "<Figure size 640x480 with 1 Axes>"
      ]
     },
     "metadata": {},
     "output_type": "display_data"
    },
    {
     "data": {
      "image/png": "[encoded data removed]",
      "text/plain": [
       "<Figure size 640x480 with 1 Axes>"
      ]
     },
     "metadata": {},
     "output_type": "display_data"
    },
    {
     "data": {
      "image/png": "[encoded data removed]",
      "text/plain": [
       "<Figure size 640x480 with 1 Axes>"
      ]
     },
     "metadata": {},
     "output_type": "display_data"
    },
    {
     "data": {
      "image/png": "[encoded data removed]",
      "text/plain": [
       "<Figure size 640x480 with 1 Axes>"
      ]
     },
     "metadata": {},
     "output_type": "display_data"
    },
    {
     "data": {
      "image/png": "[encoded data removed]",
      "text/plain": [
       "<Figure size 640x480 with 1 Axes>"
      ]
     },
     "metadata": {},
     "output_type": "display_data"
    },
    {
     "data": {
      "image/png": "[encoded data removed]",
      "text/plain": [
       "<Figure size 640x480 with 1 Axes>"
      ]
     },
     "metadata": {},
     "output_type": "display_data"
    },
    {
     "data": {
      "image/png": "[encoded data removed]",
      "text/plain": [
       "<Figure size 640x480 with 1 Axes>"
      ]
     },
     "metadata": {},
     "output_type": "display_data"
    },
    {
     "data": {
      "image/png": "[encoded data removed]",
      "text/plain": [
       "<Figure size 640x480 with 1 Axes>"
      ]
     },
     "metadata": {},
     "output_type": "display_data"
    },
    {
     "data": {
      "image/png": "[encoded data removed]",
      "text/plain": [
       "<Figure size 640x480 with 1 Axes>"
      ]
     },
     "metadata": {},
     "output_type": "display_data"
    }
   ],
   "source": [
    "for i in df.select_dtypes(include='number').columns:\n",
    "    sns.histplot(data=df, x = i)\n",
    "    plt.show()"
   ]
  },
  {
   "cell_type": "code",
   "execution_count": 13,
   "id": "ba29da00-35b6-48a2-91a0-f3da04b8e845",
   "metadata": {
    "scrolled": true
   },
   "outputs": [
    {
     "data": {
      "image/png": "[encoded data removed]",
      "text/plain": [
       "<Figure size 640x480 with 1 Axes>"
      ]
     },
     "metadata": {},
     "output_type": "display_data"
    },
    {
     "data": {
      "image/png": "[encoded data removed]",
      "text/plain": [
       "<Figure size 640x480 with 1 Axes>"
      ]
     },
     "metadata": {},
     "output_type": "display_data"
    },
    {
     "data": {
      "image/png": "[encoded data removed]",
      "text/plain": [
       "<Figure size 640x480 with 1 Axes>"
      ]
     },
     "metadata": {},
     "output_type": "display_data"
    },
    {
     "data": {
      "image/png": "[encoded data removed]",
      "text/plain": [
       "<Figure size 640x480 with 1 Axes>"
      ]
     },
     "metadata": {},
     "output_type": "display_data"
    },
    {
     "data": {
      "image/png": "[encoded data removed]",
      "text/plain": [
       "<Figure size 640x480 with 1 Axes>"
      ]
     },
     "metadata": {},
     "output_type": "display_data"
    },
    {
     "data": {
      "image/png": "[encoded data removed]",
      "text/plain": [
       "<Figure size 640x480 with 1 Axes>"
      ]
     },
     "metadata": {},
     "output_type": "display_data"
    },
    {
     "data": {
      "image/png": "[encoded data removed]",
      "text/plain": [
       "<Figure size 640x480 with 1 Axes>"
      ]
     },
     "metadata": {},
     "output_type": "display_data"
    },
    {
     "data": {
      "image/png": "[encoded data removed]",
      "text/plain": [
       "<Figure size 640x480 with 1 Axes>"
      ]
     },
     "metadata": {},
     "output_type": "display_data"
    },
    {
     "data": {
      "image/png": "[encoded data removed]",
      "text/plain": [
       "<Figure size 640x480 with 1 Axes>"
      ]
     },
     "metadata": {},
     "output_type": "display_data"
    }
   ],
   "source": [
    "for i in df.select_dtypes(include='number').columns:\n",
    "    sns.boxplot(data=df, x = i)\n",
    "    plt.show()"
   ]
  },
  {
   "cell_type": "code",
   "execution_count": 14,
   "id": "6e8c9d16-af38-474d-9cb4-cae99b36368f",
   "metadata": {},
   "outputs": [
    {
     "data": {
      "text/html": [
       "<div>\n",
       "<style scoped>\n",
       "    .dataframe tbody tr th:only-of-type {\n",
       "        vertical-align: middle;\n",
       "    }\n",
       "\n",
       "    .dataframe tbody tr th {\n",
       "        vertical-align: top;\n",
       "    }\n",
       "\n",
       "    .dataframe thead th {\n",
       "        text-align: right;\n",
       "    }\n",
       "</style>\n",
       "<table border=\"1\" class=\"dataframe\">\n",
       "  <thead>\n",
       "    <tr style=\"text-align: right;\">\n",
       "      <th></th>\n",
       "      <th>accountNumber</th>\n",
       "      <th>customerId</th>\n",
       "      <th>creditLimit</th>\n",
       "      <th>availableMoney</th>\n",
       "      <th>transactionDateTime</th>\n",
       "      <th>transactionAmount</th>\n",
       "      <th>merchantName</th>\n",
       "      <th>acqCountry</th>\n",
       "      <th>merchantCountryCode</th>\n",
       "      <th>posEntryMode</th>\n",
       "      <th>posConditionCode</th>\n",
       "      <th>merchantCategoryCode</th>\n",
       "      <th>currentExpDate</th>\n",
       "      <th>accountOpenDate</th>\n",
       "      <th>dateOfLastAddressChange</th>\n",
       "      <th>cardCVV</th>\n",
       "      <th>enteredCVV</th>\n",
       "      <th>cardLast4Digits</th>\n",
       "      <th>transactionType</th>\n",
       "      <th>echoBuffer</th>\n",
       "      <th>currentBalance</th>\n",
       "      <th>merchantCity</th>\n",
       "      <th>merchantState</th>\n",
       "      <th>merchantZip</th>\n",
       "      <th>cardPresent</th>\n",
       "      <th>posOnPremises</th>\n",
       "      <th>recurringAuthInd</th>\n",
       "      <th>expirationDateKeyInMatch</th>\n",
       "      <th>isFraud</th>\n",
       "    </tr>\n",
       "  </thead>\n",
       "  <tbody>\n",
       "    <tr>\n",
       "      <th>297484</th>\n",
       "      <td>253508360</td>\n",
       "      <td>253508360</td>\n",
       "      <td>5000</td>\n",
       "      <td>759.27</td>\n",
       "      <td>2016-12-15T22:02:53</td>\n",
       "      <td>141.75</td>\n",
       "      <td>Uptown Fries</td>\n",
       "      <td>US</td>\n",
       "      <td>US</td>\n",
       "      <td>05</td>\n",
       "      <td>01</td>\n",
       "      <td>food</td>\n",
       "      <td>09/2026</td>\n",
       "      <td>2012-10-18</td>\n",
       "      <td>2016-04-06</td>\n",
       "      <td>557</td>\n",
       "      <td>556</td>\n",
       "      <td>1510</td>\n",
       "      <td>PURCHASE</td>\n",
       "      <td></td>\n",
       "      <td>4240.73</td>\n",
       "      <td></td>\n",
       "      <td></td>\n",
       "      <td></td>\n",
       "      <td>True</td>\n",
       "      <td></td>\n",
       "      <td></td>\n",
       "      <td>False</td>\n",
       "      <td>False</td>\n",
       "    </tr>\n",
       "    <tr>\n",
       "      <th>646589</th>\n",
       "      <td>481670604</td>\n",
       "      <td>481670604</td>\n",
       "      <td>250</td>\n",
       "      <td>-14.56</td>\n",
       "      <td>2016-11-23T18:19:01</td>\n",
       "      <td>43.18</td>\n",
       "      <td>Texas Gas #763333</td>\n",
       "      <td>US</td>\n",
       "      <td>US</td>\n",
       "      <td>05</td>\n",
       "      <td>01</td>\n",
       "      <td>fuel</td>\n",
       "      <td>12/2021</td>\n",
       "      <td>2014-08-26</td>\n",
       "      <td>2014-08-26</td>\n",
       "      <td>575</td>\n",
       "      <td>575</td>\n",
       "      <td>6631</td>\n",
       "      <td>PURCHASE</td>\n",
       "      <td></td>\n",
       "      <td>264.56</td>\n",
       "      <td></td>\n",
       "      <td></td>\n",
       "      <td></td>\n",
       "      <td>True</td>\n",
       "      <td></td>\n",
       "      <td></td>\n",
       "      <td>False</td>\n",
       "      <td>False</td>\n",
       "    </tr>\n",
       "    <tr>\n",
       "      <th>319743</th>\n",
       "      <td>822166888</td>\n",
       "      <td>822166888</td>\n",
       "      <td>20000</td>\n",
       "      <td>15325.03</td>\n",
       "      <td>2016-01-15T17:14:47</td>\n",
       "      <td>144.66</td>\n",
       "      <td>Domino's Pizza #61297</td>\n",
       "      <td>US</td>\n",
       "      <td>US</td>\n",
       "      <td>09</td>\n",
       "      <td>01</td>\n",
       "      <td>fastfood</td>\n",
       "      <td>09/2027</td>\n",
       "      <td>2015-03-08</td>\n",
       "      <td>2015-03-08</td>\n",
       "      <td>204</td>\n",
       "      <td>204</td>\n",
       "      <td>3581</td>\n",
       "      <td>PURCHASE</td>\n",
       "      <td></td>\n",
       "      <td>4674.97</td>\n",
       "      <td></td>\n",
       "      <td></td>\n",
       "      <td></td>\n",
       "      <td>True</td>\n",
       "      <td></td>\n",
       "      <td></td>\n",
       "      <td>False</td>\n",
       "      <td>False</td>\n",
       "    </tr>\n",
       "    <tr>\n",
       "      <th>713942</th>\n",
       "      <td>275424063</td>\n",
       "      <td>275424063</td>\n",
       "      <td>5000</td>\n",
       "      <td>3903.14</td>\n",
       "      <td>2016-08-18T03:32:37</td>\n",
       "      <td>112.12</td>\n",
       "      <td>EZ Putt Putt #982199</td>\n",
       "      <td>US</td>\n",
       "      <td>US</td>\n",
       "      <td>02</td>\n",
       "      <td>01</td>\n",
       "      <td>entertainment</td>\n",
       "      <td>06/2023</td>\n",
       "      <td>2014-07-04</td>\n",
       "      <td>2014-07-04</td>\n",
       "      <td>486</td>\n",
       "      <td>486</td>\n",
       "      <td>9619</td>\n",
       "      <td>PURCHASE</td>\n",
       "      <td></td>\n",
       "      <td>1096.86</td>\n",
       "      <td></td>\n",
       "      <td></td>\n",
       "      <td></td>\n",
       "      <td>True</td>\n",
       "      <td></td>\n",
       "      <td></td>\n",
       "      <td>False</td>\n",
       "      <td>False</td>\n",
       "    </tr>\n",
       "    <tr>\n",
       "      <th>429181</th>\n",
       "      <td>419709514</td>\n",
       "      <td>419709514</td>\n",
       "      <td>5000</td>\n",
       "      <td>1089.20</td>\n",
       "      <td>2016-06-09T23:47:14</td>\n",
       "      <td>121.43</td>\n",
       "      <td>alibaba.com</td>\n",
       "      <td>US</td>\n",
       "      <td>US</td>\n",
       "      <td>02</td>\n",
       "      <td>01</td>\n",
       "      <td>online_retail</td>\n",
       "      <td>08/2022</td>\n",
       "      <td>2015-03-01</td>\n",
       "      <td>2016-06-08</td>\n",
       "      <td>917</td>\n",
       "      <td>917</td>\n",
       "      <td>2178</td>\n",
       "      <td>PURCHASE</td>\n",
       "      <td></td>\n",
       "      <td>3910.80</td>\n",
       "      <td></td>\n",
       "      <td></td>\n",
       "      <td></td>\n",
       "      <td>False</td>\n",
       "      <td></td>\n",
       "      <td></td>\n",
       "      <td>False</td>\n",
       "      <td>False</td>\n",
       "    </tr>\n",
       "  </tbody>\n",
       "</table>\n",
       "</div>"
      ],
      "text/plain": [
       "        accountNumber  customerId  creditLimit  availableMoney  \\\n",
       "297484      253508360   253508360         5000          759.27   \n",
       "646589      481670604   481670604          250          -14.56   \n",
       "319743      822166888   822166888        20000        15325.03   \n",
       "713942      275424063   275424063         5000         3903.14   \n",
       "429181      419709514   419709514         5000         1089.20   \n",
       "\n",
       "        transactionDateTime  transactionAmount           merchantName  \\\n",
       "297484  2016-12-15T22:02:53             141.75           Uptown Fries   \n",
       "646589  2016-11-23T18:19:01              43.18      Texas Gas #763333   \n",
       "319743  2016-01-15T17:14:47             144.66  Domino's Pizza #61297   \n",
       "713942  2016-08-18T03:32:37             112.12   EZ Putt Putt #982199   \n",
       "429181  2016-06-09T23:47:14             121.43            alibaba.com   \n",
       "\n",
       "       acqCountry merchantCountryCode posEntryMode posConditionCode  \\\n",
       "297484         US                  US           05               01   \n",
       "646589         US                  US           05               01   \n",
       "319743         US                  US           09               01   \n",
       "713942         US                  US           02               01   \n",
       "429181         US                  US           02               01   \n",
       "\n",
       "       merchantCategoryCode currentExpDate accountOpenDate  \\\n",
       "297484                 food        09/2026      2012-10-18   \n",
       "646589                 fuel        12/2021      2014-08-26   \n",
       "319743             fastfood        09/2027      2015-03-08   \n",
       "713942        entertainment        06/2023      2014-07-04   \n",
       "429181        online_retail        08/2022      2015-03-01   \n",
       "\n",
       "       dateOfLastAddressChange  cardCVV  enteredCVV  cardLast4Digits  \\\n",
       "297484              2016-04-06      557         556             1510   \n",
       "646589              2014-08-26      575         575             6631   \n",
       "319743              2015-03-08      204         204             3581   \n",
       "713942              2014-07-04      486         486             9619   \n",
       "429181              2016-06-08      917         917             2178   \n",
       "\n",
       "       transactionType echoBuffer  currentBalance merchantCity merchantState  \\\n",
       "297484        PURCHASE                    4240.73                              \n",
       "646589        PURCHASE                     264.56                              \n",
       "319743        PURCHASE                    4674.97                              \n",
       "713942        PURCHASE                    1096.86                              \n",
       "429181        PURCHASE                    3910.80                              \n",
       "\n",
       "       merchantZip  cardPresent posOnPremises recurringAuthInd  \\\n",
       "297484                     True                                  \n",
       "646589                     True                                  \n",
       "319743                     True                                  \n",
       "713942                     True                                  \n",
       "429181                    False                                  \n",
       "\n",
       "        expirationDateKeyInMatch  isFraud  \n",
       "297484                     False    False  \n",
       "646589                     False    False  \n",
       "319743                     False    False  \n",
       "713942                     False    False  \n",
       "429181                     False    False  "
      ]
     },
     "execution_count": 14,
     "metadata": {},
     "output_type": "execute_result"
    }
   ],
   "source": [
    "df.head()"
   ]
  },
  {
   "cell_type": "code",
   "execution_count": 15,
   "id": "0f8495dc-2b51-424b-ad6e-85206299931e",
   "metadata": {},
   "outputs": [
    {
     "data": {
      "text/plain": [
       "echoBuffer\n",
       "    100000\n",
       "Name: count, dtype: int64"
      ]
     },
     "execution_count": 15,
     "metadata": {},
     "output_type": "execute_result"
    }
   ],
   "source": [
    "df.echoBuffer.value_counts()"
   ]
  },
  {
   "cell_type": "code",
   "execution_count": 16,
   "id": "6d355bd0-8dae-4136-820e-bcdc881a4948",
   "metadata": {},
   "outputs": [
    {
     "data": {
      "text/plain": [
       "merchantCity\n",
       "    100000\n",
       "Name: count, dtype: int64"
      ]
     },
     "execution_count": 16,
     "metadata": {},
     "output_type": "execute_result"
    }
   ],
   "source": [
    "df.merchantCity.value_counts()"
   ]
  },
  {
   "cell_type": "code",
   "execution_count": 17,
   "id": "f139f193-3402-45f5-96a8-700c4d923b41",
   "metadata": {},
   "outputs": [
    {
     "data": {
      "text/plain": [
       "merchantState\n",
       "    100000\n",
       "Name: count, dtype: int64"
      ]
     },
     "execution_count": 17,
     "metadata": {},
     "output_type": "execute_result"
    }
   ],
   "source": [
    "df.merchantState.value_counts()"
   ]
  },
  {
   "cell_type": "code",
   "execution_count": 18,
   "id": "77d71b11-afa1-4a54-a080-e7062cfef583",
   "metadata": {},
   "outputs": [
    {
     "data": {
      "text/plain": [
       "merchantZip\n",
       "    100000\n",
       "Name: count, dtype: int64"
      ]
     },
     "execution_count": 18,
     "metadata": {},
     "output_type": "execute_result"
    }
   ],
   "source": [
    "df.merchantZip.value_counts()"
   ]
  },
  {
   "cell_type": "code",
   "execution_count": 19,
   "id": "96263b13-8fdd-4dec-91c8-b00777a3359a",
   "metadata": {},
   "outputs": [
    {
     "data": {
      "text/plain": [
       "posOnPremises\n",
       "    100000\n",
       "Name: count, dtype: int64"
      ]
     },
     "execution_count": 19,
     "metadata": {},
     "output_type": "execute_result"
    }
   ],
   "source": [
    "df.posOnPremises.value_counts()"
   ]
  },
  {
   "cell_type": "code",
   "execution_count": 20,
   "id": "f28096d8-51c6-4b5e-a13b-cca16503c583",
   "metadata": {},
   "outputs": [
    {
     "data": {
      "text/plain": [
       "recurringAuthInd\n",
       "    100000\n",
       "Name: count, dtype: int64"
      ]
     },
     "execution_count": 20,
     "metadata": {},
     "output_type": "execute_result"
    }
   ],
   "source": [
    "df.recurringAuthInd.value_counts()"
   ]
  },
  {
   "cell_type": "code",
   "execution_count": 21,
   "id": "d5a2574f-8356-471d-9e09-7e830edd3776",
   "metadata": {},
   "outputs": [],
   "source": [
    "df.drop(columns=['echoBuffer', 'merchantCity', 'merchantState', 'merchantZip', 'posOnPremises', 'recurringAuthInd'], axis=1, inplace=True)"
   ]
  },
  {
   "cell_type": "code",
   "execution_count": 22,
   "id": "9a8a1498-b329-4f03-9fe6-91389d8c22cb",
   "metadata": {},
   "outputs": [
    {
     "data": {
      "text/plain": [
       "(100000, 23)"
      ]
     },
     "execution_count": 22,
     "metadata": {},
     "output_type": "execute_result"
    }
   ],
   "source": [
    "df.shape"
   ]
  },
  {
   "cell_type": "code",
   "execution_count": 23,
   "id": "75a8dae7-8ac8-4964-81e5-a819c36f2250",
   "metadata": {},
   "outputs": [
    {
     "data": {
      "text/html": [
       "<div>\n",
       "<style scoped>\n",
       "    .dataframe tbody tr th:only-of-type {\n",
       "        vertical-align: middle;\n",
       "    }\n",
       "\n",
       "    .dataframe tbody tr th {\n",
       "        vertical-align: top;\n",
       "    }\n",
       "\n",
       "    .dataframe thead th {\n",
       "        text-align: right;\n",
       "    }\n",
       "</style>\n",
       "<table border=\"1\" class=\"dataframe\">\n",
       "  <thead>\n",
       "    <tr style=\"text-align: right;\">\n",
       "      <th></th>\n",
       "      <th>accountNumber</th>\n",
       "      <th>customerId</th>\n",
       "      <th>creditLimit</th>\n",
       "      <th>availableMoney</th>\n",
       "      <th>transactionDateTime</th>\n",
       "      <th>transactionAmount</th>\n",
       "      <th>merchantName</th>\n",
       "      <th>acqCountry</th>\n",
       "      <th>merchantCountryCode</th>\n",
       "      <th>posEntryMode</th>\n",
       "      <th>posConditionCode</th>\n",
       "      <th>merchantCategoryCode</th>\n",
       "      <th>currentExpDate</th>\n",
       "      <th>accountOpenDate</th>\n",
       "      <th>dateOfLastAddressChange</th>\n",
       "      <th>cardCVV</th>\n",
       "      <th>enteredCVV</th>\n",
       "      <th>cardLast4Digits</th>\n",
       "      <th>transactionType</th>\n",
       "      <th>currentBalance</th>\n",
       "      <th>cardPresent</th>\n",
       "      <th>expirationDateKeyInMatch</th>\n",
       "      <th>isFraud</th>\n",
       "    </tr>\n",
       "  </thead>\n",
       "  <tbody>\n",
       "    <tr>\n",
       "      <th>297484</th>\n",
       "      <td>253508360</td>\n",
       "      <td>253508360</td>\n",
       "      <td>5000</td>\n",
       "      <td>759.27</td>\n",
       "      <td>2016-12-15T22:02:53</td>\n",
       "      <td>141.75</td>\n",
       "      <td>Uptown Fries</td>\n",
       "      <td>US</td>\n",
       "      <td>US</td>\n",
       "      <td>05</td>\n",
       "      <td>01</td>\n",
       "      <td>food</td>\n",
       "      <td>09/2026</td>\n",
       "      <td>2012-10-18</td>\n",
       "      <td>2016-04-06</td>\n",
       "      <td>557</td>\n",
       "      <td>556</td>\n",
       "      <td>1510</td>\n",
       "      <td>PURCHASE</td>\n",
       "      <td>4240.73</td>\n",
       "      <td>True</td>\n",
       "      <td>False</td>\n",
       "      <td>False</td>\n",
       "    </tr>\n",
       "    <tr>\n",
       "      <th>646589</th>\n",
       "      <td>481670604</td>\n",
       "      <td>481670604</td>\n",
       "      <td>250</td>\n",
       "      <td>-14.56</td>\n",
       "      <td>2016-11-23T18:19:01</td>\n",
       "      <td>43.18</td>\n",
       "      <td>Texas Gas #763333</td>\n",
       "      <td>US</td>\n",
       "      <td>US</td>\n",
       "      <td>05</td>\n",
       "      <td>01</td>\n",
       "      <td>fuel</td>\n",
       "      <td>12/2021</td>\n",
       "      <td>2014-08-26</td>\n",
       "      <td>2014-08-26</td>\n",
       "      <td>575</td>\n",
       "      <td>575</td>\n",
       "      <td>6631</td>\n",
       "      <td>PURCHASE</td>\n",
       "      <td>264.56</td>\n",
       "      <td>True</td>\n",
       "      <td>False</td>\n",
       "      <td>False</td>\n",
       "    </tr>\n",
       "    <tr>\n",
       "      <th>319743</th>\n",
       "      <td>822166888</td>\n",
       "      <td>822166888</td>\n",
       "      <td>20000</td>\n",
       "      <td>15325.03</td>\n",
       "      <td>2016-01-15T17:14:47</td>\n",
       "      <td>144.66</td>\n",
       "      <td>Domino's Pizza #61297</td>\n",
       "      <td>US</td>\n",
       "      <td>US</td>\n",
       "      <td>09</td>\n",
       "      <td>01</td>\n",
       "      <td>fastfood</td>\n",
       "      <td>09/2027</td>\n",
       "      <td>2015-03-08</td>\n",
       "      <td>2015-03-08</td>\n",
       "      <td>204</td>\n",
       "      <td>204</td>\n",
       "      <td>3581</td>\n",
       "      <td>PURCHASE</td>\n",
       "      <td>4674.97</td>\n",
       "      <td>True</td>\n",
       "      <td>False</td>\n",
       "      <td>False</td>\n",
       "    </tr>\n",
       "    <tr>\n",
       "      <th>713942</th>\n",
       "      <td>275424063</td>\n",
       "      <td>275424063</td>\n",
       "      <td>5000</td>\n",
       "      <td>3903.14</td>\n",
       "      <td>2016-08-18T03:32:37</td>\n",
       "      <td>112.12</td>\n",
       "      <td>EZ Putt Putt #982199</td>\n",
       "      <td>US</td>\n",
       "      <td>US</td>\n",
       "      <td>02</td>\n",
       "      <td>01</td>\n",
       "      <td>entertainment</td>\n",
       "      <td>06/2023</td>\n",
       "      <td>2014-07-04</td>\n",
       "      <td>2014-07-04</td>\n",
       "      <td>486</td>\n",
       "      <td>486</td>\n",
       "      <td>9619</td>\n",
       "      <td>PURCHASE</td>\n",
       "      <td>1096.86</td>\n",
       "      <td>True</td>\n",
       "      <td>False</td>\n",
       "      <td>False</td>\n",
       "    </tr>\n",
       "    <tr>\n",
       "      <th>429181</th>\n",
       "      <td>419709514</td>\n",
       "      <td>419709514</td>\n",
       "      <td>5000</td>\n",
       "      <td>1089.20</td>\n",
       "      <td>2016-06-09T23:47:14</td>\n",
       "      <td>121.43</td>\n",
       "      <td>alibaba.com</td>\n",
       "      <td>US</td>\n",
       "      <td>US</td>\n",
       "      <td>02</td>\n",
       "      <td>01</td>\n",
       "      <td>online_retail</td>\n",
       "      <td>08/2022</td>\n",
       "      <td>2015-03-01</td>\n",
       "      <td>2016-06-08</td>\n",
       "      <td>917</td>\n",
       "      <td>917</td>\n",
       "      <td>2178</td>\n",
       "      <td>PURCHASE</td>\n",
       "      <td>3910.80</td>\n",
       "      <td>False</td>\n",
       "      <td>False</td>\n",
       "      <td>False</td>\n",
       "    </tr>\n",
       "  </tbody>\n",
       "</table>\n",
       "</div>"
      ],
      "text/plain": [
       "        accountNumber  customerId  creditLimit  availableMoney  \\\n",
       "297484      253508360   253508360         5000          759.27   \n",
       "646589      481670604   481670604          250          -14.56   \n",
       "319743      822166888   822166888        20000        15325.03   \n",
       "713942      275424063   275424063         5000         3903.14   \n",
       "429181      419709514   419709514         5000         1089.20   \n",
       "\n",
       "        transactionDateTime  transactionAmount           merchantName  \\\n",
       "297484  2016-12-15T22:02:53             141.75           Uptown Fries   \n",
       "646589  2016-11-23T18:19:01              43.18      Texas Gas #763333   \n",
       "319743  2016-01-15T17:14:47             144.66  Domino's Pizza #61297   \n",
       "713942  2016-08-18T03:32:37             112.12   EZ Putt Putt #982199   \n",
       "429181  2016-06-09T23:47:14             121.43            alibaba.com   \n",
       "\n",
       "       acqCountry merchantCountryCode posEntryMode posConditionCode  \\\n",
       "297484         US                  US           05               01   \n",
       "646589         US                  US           05               01   \n",
       "319743         US                  US           09               01   \n",
       "713942         US                  US           02               01   \n",
       "429181         US                  US           02               01   \n",
       "\n",
       "       merchantCategoryCode currentExpDate accountOpenDate  \\\n",
       "297484                 food        09/2026      2012-10-18   \n",
       "646589                 fuel        12/2021      2014-08-26   \n",
       "319743             fastfood        09/2027      2015-03-08   \n",
       "713942        entertainment        06/2023      2014-07-04   \n",
       "429181        online_retail        08/2022      2015-03-01   \n",
       "\n",
       "       dateOfLastAddressChange  cardCVV  enteredCVV  cardLast4Digits  \\\n",
       "297484              2016-04-06      557         556             1510   \n",
       "646589              2014-08-26      575         575             6631   \n",
       "319743              2015-03-08      204         204             3581   \n",
       "713942              2014-07-04      486         486             9619   \n",
       "429181              2016-06-08      917         917             2178   \n",
       "\n",
       "       transactionType  currentBalance  cardPresent  expirationDateKeyInMatch  \\\n",
       "297484        PURCHASE         4240.73         True                     False   \n",
       "646589        PURCHASE          264.56         True                     False   \n",
       "319743        PURCHASE         4674.97         True                     False   \n",
       "713942        PURCHASE         1096.86         True                     False   \n",
       "429181        PURCHASE         3910.80        False                     False   \n",
       "\n",
       "        isFraud  \n",
       "297484    False  \n",
       "646589    False  \n",
       "319743    False  \n",
       "713942    False  \n",
       "429181    False  "
      ]
     },
     "execution_count": 23,
     "metadata": {},
     "output_type": "execute_result"
    }
   ],
   "source": [
    "df.head()"
   ]
  },
  {
   "cell_type": "code",
   "execution_count": 24,
   "id": "9b5f5c45-2a5b-4620-a408-96886367759b",
   "metadata": {},
   "outputs": [],
   "source": [
    "df.drop(columns=['accountNumber', 'customerId'], axis=1, inplace=True)"
   ]
  },
  {
   "cell_type": "code",
   "execution_count": 25,
   "id": "f5bd8cb1-177f-4983-a651-4f4b708dcf91",
   "metadata": {},
   "outputs": [
    {
     "name": "stdout",
     "output_type": "stream",
     "text": [
      "<class 'pandas.core.frame.DataFrame'>\n",
      "Index: 100000 entries, 297484 to 767365\n",
      "Data columns (total 21 columns):\n",
      " #   Column                    Non-Null Count   Dtype  \n",
      "---  ------                    --------------   -----  \n",
      " 0   creditLimit               100000 non-null  int64  \n",
      " 1   availableMoney            100000 non-null  float64\n",
      " 2   transactionDateTime       100000 non-null  object \n",
      " 3   transactionAmount         100000 non-null  float64\n",
      " 4   merchantName              100000 non-null  object \n",
      " 5   acqCountry                100000 non-null  object \n",
      " 6   merchantCountryCode       100000 non-null  object \n",
      " 7   posEntryMode              100000 non-null  object \n",
      " 8   posConditionCode          100000 non-null  object \n",
      " 9   merchantCategoryCode      100000 non-null  object \n",
      " 10  currentExpDate            100000 non-null  object \n",
      " 11  accountOpenDate           100000 non-null  object \n",
      " 12  dateOfLastAddressChange   100000 non-null  object \n",
      " 13  cardCVV                   100000 non-null  int64  \n",
      " 14  enteredCVV                100000 non-null  int64  \n",
      " 15  cardLast4Digits           100000 non-null  int64  \n",
      " 16  transactionType           100000 non-null  object \n",
      " 17  currentBalance            100000 non-null  float64\n",
      " 18  cardPresent               100000 non-null  bool   \n",
      " 19  expirationDateKeyInMatch  100000 non-null  bool   \n",
      " 20  isFraud                   100000 non-null  bool   \n",
      "dtypes: bool(3), float64(3), int64(4), object(11)\n",
      "memory usage: 14.8+ MB\n"
     ]
    }
   ],
   "source": [
    "df.info()"
   ]
  },
  {
   "cell_type": "code",
   "execution_count": 26,
   "id": "115c901d-3f0f-4e1a-889f-8d11d59f1e26",
   "metadata": {
    "scrolled": true
   },
   "outputs": [
    {
     "data": {
      "text/plain": [
       "acqCountry\n",
       "US     98493\n",
       "         577\n",
       "MEX      400\n",
       "CAN      329\n",
       "PR       201\n",
       "Name: count, dtype: int64"
      ]
     },
     "execution_count": 26,
     "metadata": {},
     "output_type": "execute_result"
    }
   ],
   "source": [
    "df.acqCountry.value_counts()"
   ]
  },
  {
   "cell_type": "code",
   "execution_count": 27,
   "id": "e2d135cb-9d15-47eb-a468-0b2682e97f6a",
   "metadata": {},
   "outputs": [
    {
     "data": {
      "text/plain": [
       "array(['US', 'MEX', '', 'PR', 'CAN'], dtype=object)"
      ]
     },
     "execution_count": 27,
     "metadata": {},
     "output_type": "execute_result"
    }
   ],
   "source": [
    "df.acqCountry.unique()"
   ]
  },
  {
   "cell_type": "code",
   "execution_count": 28,
   "id": "1275f6ba-ebfa-4e92-8eaf-f735dc6db047",
   "metadata": {},
   "outputs": [
    {
     "data": {
      "text/plain": [
       "merchantCountryCode\n",
       "US     98983\n",
       "MEX      398\n",
       "CAN      326\n",
       "PR       203\n",
       "          90\n",
       "Name: count, dtype: int64"
      ]
     },
     "execution_count": 28,
     "metadata": {},
     "output_type": "execute_result"
    }
   ],
   "source": [
    "df.merchantCountryCode.value_counts()"
   ]
  },
  {
   "cell_type": "code",
   "execution_count": 29,
   "id": "3f80cf65-fb56-417f-b0f1-e68bcd956bc7",
   "metadata": {},
   "outputs": [
    {
     "data": {
      "text/plain": [
       "array(['US', 'MEX', 'PR', '', 'CAN'], dtype=object)"
      ]
     },
     "execution_count": 29,
     "metadata": {},
     "output_type": "execute_result"
    }
   ],
   "source": [
    "df.merchantCountryCode.unique()"
   ]
  },
  {
   "cell_type": "code",
   "execution_count": 30,
   "id": "da0bd3b0-118a-4e27-879e-c5facd54365b",
   "metadata": {},
   "outputs": [
    {
     "data": {
      "text/plain": [
       "posEntryMode\n",
       "05    40050\n",
       "09    30013\n",
       "02    24951\n",
       "90     2471\n",
       "80     1993\n",
       "        522\n",
       "Name: count, dtype: int64"
      ]
     },
     "execution_count": 30,
     "metadata": {},
     "output_type": "execute_result"
    }
   ],
   "source": [
    "df.posEntryMode.value_counts()"
   ]
  },
  {
   "cell_type": "code",
   "execution_count": 31,
   "id": "147daea3-d6d2-451d-9c2c-a21f3f6a6a32",
   "metadata": {},
   "outputs": [
    {
     "data": {
      "text/plain": [
       "array(['05', '09', '02', '90', '', '80'], dtype=object)"
      ]
     },
     "execution_count": 31,
     "metadata": {},
     "output_type": "execute_result"
    }
   ],
   "source": [
    "df.posEntryMode.unique()"
   ]
  },
  {
   "cell_type": "code",
   "execution_count": 32,
   "id": "cc782ee1-f3a6-4a49-a3b3-06df37df18f1",
   "metadata": {},
   "outputs": [
    {
     "data": {
      "text/plain": [
       "posConditionCode\n",
       "01    80125\n",
       "08    18818\n",
       "99     1000\n",
       "         57\n",
       "Name: count, dtype: int64"
      ]
     },
     "execution_count": 32,
     "metadata": {},
     "output_type": "execute_result"
    }
   ],
   "source": [
    "df.posConditionCode.value_counts()"
   ]
  },
  {
   "cell_type": "code",
   "execution_count": 33,
   "id": "9145d194-b663-43a0-bb65-ed77f94127d3",
   "metadata": {},
   "outputs": [
    {
     "data": {
      "text/plain": [
       "array(['01', '08', '99', ''], dtype=object)"
      ]
     },
     "execution_count": 33,
     "metadata": {},
     "output_type": "execute_result"
    }
   ],
   "source": [
    "df.posConditionCode.unique()"
   ]
  },
  {
   "cell_type": "code",
   "execution_count": 34,
   "id": "42c796e9-4530-4bdf-8b8e-cbc7f5e09dff",
   "metadata": {},
   "outputs": [
    {
     "data": {
      "text/plain": [
       "merchantCategoryCode\n",
       "online_retail           25959\n",
       "fastfood                14116\n",
       "entertainment           10219\n",
       "food                     9596\n",
       "online_gifts             8363\n",
       "rideshare                6479\n",
       "hotels                   4353\n",
       "fuel                     2980\n",
       "subscriptions            2899\n",
       "auto                     2751\n",
       "health                   2476\n",
       "personal care            2340\n",
       "airline                  1973\n",
       "mobileapps               1888\n",
       "online_subscriptions     1426\n",
       "furniture                 972\n",
       "food_delivery             742\n",
       "gym                       290\n",
       "cable/phone               178\n",
       "Name: count, dtype: int64"
      ]
     },
     "execution_count": 34,
     "metadata": {},
     "output_type": "execute_result"
    }
   ],
   "source": [
    "df.merchantCategoryCode.value_counts()"
   ]
  },
  {
   "cell_type": "code",
   "execution_count": 35,
   "id": "1a30a334-c94a-40de-a6e2-b3011e94793b",
   "metadata": {},
   "outputs": [
    {
     "data": {
      "text/plain": [
       "array(['food', 'fuel', 'fastfood', 'entertainment', 'online_retail',\n",
       "       'gym', 'mobileapps', 'hotels', 'online_gifts', 'airline', 'health',\n",
       "       'personal care', 'subscriptions', 'rideshare',\n",
       "       'online_subscriptions', 'auto', 'food_delivery', 'furniture',\n",
       "       'cable/phone'], dtype=object)"
      ]
     },
     "execution_count": 35,
     "metadata": {},
     "output_type": "execute_result"
    }
   ],
   "source": [
    "df.merchantCategoryCode.unique()"
   ]
  },
  {
   "cell_type": "code",
   "execution_count": 36,
   "id": "4e27115c-1cb9-492f-b5f1-4be94465f923",
   "metadata": {},
   "outputs": [
    {
     "data": {
      "text/plain": [
       "transactionType\n",
       "PURCHASE                94820\n",
       "ADDRESS_VERIFICATION     2578\n",
       "REVERSAL                 2522\n",
       "                           80\n",
       "Name: count, dtype: int64"
      ]
     },
     "execution_count": 36,
     "metadata": {},
     "output_type": "execute_result"
    }
   ],
   "source": [
    "df.transactionType.value_counts()"
   ]
  },
  {
   "cell_type": "code",
   "execution_count": 37,
   "id": "a1e6f9e5-880b-45a4-8958-fef1e4caa3d8",
   "metadata": {},
   "outputs": [
    {
     "data": {
      "text/plain": [
       "array(['PURCHASE', 'REVERSAL', 'ADDRESS_VERIFICATION', ''], dtype=object)"
      ]
     },
     "execution_count": 37,
     "metadata": {},
     "output_type": "execute_result"
    }
   ],
   "source": [
    "df.transactionType.unique()"
   ]
  },
  {
   "cell_type": "code",
   "execution_count": 38,
   "id": "65730293-4950-4ffd-86df-bf22b6fb5c56",
   "metadata": {},
   "outputs": [
    {
     "data": {
      "text/plain": [
       "cardPresent\n",
       "False    55331\n",
       "True     44669\n",
       "Name: count, dtype: int64"
      ]
     },
     "execution_count": 38,
     "metadata": {},
     "output_type": "execute_result"
    }
   ],
   "source": [
    "df.cardPresent.value_counts()"
   ]
  },
  {
   "cell_type": "code",
   "execution_count": 39,
   "id": "b32fbf7c-8879-4946-a0f9-6c679e50b995",
   "metadata": {},
   "outputs": [
    {
     "data": {
      "text/plain": [
       "expirationDateKeyInMatch\n",
       "False    99841\n",
       "True       159\n",
       "Name: count, dtype: int64"
      ]
     },
     "execution_count": 39,
     "metadata": {},
     "output_type": "execute_result"
    }
   ],
   "source": [
    "df.expirationDateKeyInMatch.value_counts()"
   ]
  },
  {
   "cell_type": "code",
   "execution_count": 40,
   "id": "bb4764e0-f5be-4a50-9f3c-e7c3a625a4d9",
   "metadata": {},
   "outputs": [
    {
     "data": {
      "text/plain": [
       "isFraud\n",
       "False    98433\n",
       "True      1567\n",
       "Name: count, dtype: int64"
      ]
     },
     "execution_count": 40,
     "metadata": {},
     "output_type": "execute_result"
    }
   ],
   "source": [
    "df.isFraud.value_counts()"
   ]
  },
  {
   "cell_type": "markdown",
   "id": "912693c3-3f91-453b-8311-997ae1384678",
   "metadata": {},
   "source": [
    "### Removing Garbage Values"
   ]
  },
  {
   "cell_type": "code",
   "execution_count": 41,
   "id": "0034ea63-aec4-470b-b2b2-874bc781d1f2",
   "metadata": {},
   "outputs": [],
   "source": [
    "columns= ['transactionType','posConditionCode','posEntryMode','merchantCountryCode','acqCountry']"
   ]
  },
  {
   "cell_type": "code",
   "execution_count": 42,
   "id": "1dc4e12e-f3fe-4195-8ad2-48a7538f39ba",
   "metadata": {},
   "outputs": [],
   "source": [
    "# Remove rows with empty strings in the transactionType column\n",
    "for i in columns:\n",
    "    df = df[df[i].str.strip()!='']"
   ]
  },
  {
   "cell_type": "code",
   "execution_count": 43,
   "id": "26ba6c60-d225-4cee-93a5-52e3309a0823",
   "metadata": {},
   "outputs": [
    {
     "data": {
      "text/plain": [
       "merchantName\n",
       "Lyft                      3226\n",
       "Uber                      3167\n",
       "oldnavy.com               2210\n",
       "cheapfast.com             2168\n",
       "gap.com                   2166\n",
       "                          ... \n",
       "CVS #752481                  1\n",
       "Fast Mobile #238495          1\n",
       "Golds Gym #837214            1\n",
       "Planet Fitness #429624       1\n",
       "WSC #08521                   1\n",
       "Name: count, Length: 2451, dtype: int64"
      ]
     },
     "execution_count": 43,
     "metadata": {},
     "output_type": "execute_result"
    }
   ],
   "source": [
    "df.merchantName.value_counts()"
   ]
  },
  {
   "cell_type": "markdown",
   "id": "38901eab-859c-4427-a489-3d4090a92db5",
   "metadata": {},
   "source": [
    "### Encoding all categorical column"
   ]
  },
  {
   "cell_type": "code",
   "execution_count": 44,
   "id": "e9a6aa57-74f8-4bab-a6a6-35a9987590a6",
   "metadata": {},
   "outputs": [],
   "source": [
    "encode_columns = ['merchantName', 'acqCountry', 'merchantCountryCode', 'posEntryMode', 'posConditionCode', 'merchantCategoryCode', 'transactionType']"
   ]
  },
  {
   "cell_type": "code",
   "execution_count": 45,
   "id": "8ccd5929-8937-424c-9534-ad4d30781672",
   "metadata": {},
   "outputs": [],
   "source": [
    "for i in encode_columns:\n",
    "    l_encoder = LabelEncoder()\n",
    "    df[i] = l_encoder.fit_transform(df[i])"
   ]
  },
  {
   "cell_type": "markdown",
   "id": "8db4be16-dc45-4f55-844f-29bdc8813bf9",
   "metadata": {},
   "source": [
    "### Converting all datetime column to datetime format"
   ]
  },
  {
   "cell_type": "code",
   "execution_count": 46,
   "id": "7a769f76-ad59-4fde-813a-f25de59f1735",
   "metadata": {},
   "outputs": [],
   "source": [
    "df['transactionDateTime'] = pd.to_datetime(df['transactionDateTime'])\n",
    "# df['currentExpDate'] = pd.to_datetime(df['currentExpDate'])\n",
    "df['accountOpenDate'] = pd.to_datetime(df['accountOpenDate'])\n",
    "df['dateOfLastAddressChange'] = pd.to_datetime(df['dateOfLastAddressChange'])"
   ]
  },
  {
   "cell_type": "markdown",
   "id": "ab4290b0-efc9-4de0-890b-15b9b4aa98b6",
   "metadata": {},
   "source": [
    "### Fixing dateOfLastAddressChange column "
   ]
  },
  {
   "cell_type": "code",
   "execution_count": 47,
   "id": "3a4116b6-65b8-4641-96e2-6281605c959e",
   "metadata": {},
   "outputs": [],
   "source": [
    "df['daysSinceLastAddressChange'] = (df['transactionDateTime'] - df['dateOfLastAddressChange']).dt.days"
   ]
  },
  {
   "cell_type": "code",
   "execution_count": 48,
   "id": "a33cc154-3b77-452b-9db8-857ce60c7343",
   "metadata": {},
   "outputs": [
    {
     "data": {
      "text/plain": [
       "(98768, 22)"
      ]
     },
     "execution_count": 48,
     "metadata": {},
     "output_type": "execute_result"
    }
   ],
   "source": [
    "df.shape"
   ]
  },
  {
   "cell_type": "markdown",
   "id": "2104af2a-b080-4032-8fa7-d4beeb1aff47",
   "metadata": {},
   "source": [
    "### Fixing transactionDateTime column"
   ]
  },
  {
   "cell_type": "code",
   "execution_count": 49,
   "id": "f42e497e-706f-47be-b4bf-16c8b85c5f96",
   "metadata": {},
   "outputs": [],
   "source": [
    "df['transactionHour'] = df['transactionDateTime'].dt.hour  # Extract hour of the transaction\n",
    "df['transactionDayOfWeek'] = df['transactionDateTime'].dt.dayofweek  # Extract day of the week (0=Monday, 6=Sunday)"
   ]
  },
  {
   "cell_type": "code",
   "execution_count": 50,
   "id": "77b05b47-68ca-40c4-a93e-53c0f2186749",
   "metadata": {},
   "outputs": [
    {
     "data": {
      "text/plain": [
       "(98768, 24)"
      ]
     },
     "execution_count": 50,
     "metadata": {},
     "output_type": "execute_result"
    }
   ],
   "source": [
    "df.shape"
   ]
  },
  {
   "cell_type": "markdown",
   "id": "b8f7e733-9540-4d28-be77-624180b62e8c",
   "metadata": {},
   "source": [
    "### Fixing accountOpenDate column"
   ]
  },
  {
   "cell_type": "code",
   "execution_count": 51,
   "id": "1f6225c1-75a5-480c-bc2c-2950b41c63e9",
   "metadata": {},
   "outputs": [],
   "source": [
    "df['accountAgeDays'] = (df['transactionDateTime'] - df['accountOpenDate']).dt.days  # Days since account creation"
   ]
  },
  {
   "cell_type": "code",
   "execution_count": 52,
   "id": "26b7379a-731d-43da-80bd-81aa75e67ed9",
   "metadata": {},
   "outputs": [
    {
     "data": {
      "text/plain": [
       "(98768, 25)"
      ]
     },
     "execution_count": 52,
     "metadata": {},
     "output_type": "execute_result"
    }
   ],
   "source": [
    "df.shape"
   ]
  },
  {
   "cell_type": "markdown",
   "id": "9e653db6-9ec7-4a7b-8a77-a6cf377ab1df",
   "metadata": {},
   "source": [
    "### Fixing currentExpDate column"
   ]
  },
  {
   "cell_type": "code",
   "execution_count": 53,
   "id": "bd155708-5ce8-4a55-8e00-8d20b2f8c3ef",
   "metadata": {},
   "outputs": [],
   "source": [
    "df['expMonth'] = df['currentExpDate'].str.split('/').str[0].astype(int)\n",
    "df['expYear'] = df['currentExpDate'].str.split('/').str[1].astype(int) + 2000  # Convert YY to YYYY"
   ]
  },
  {
   "cell_type": "code",
   "execution_count": 54,
   "id": "83182a96-32cf-45ea-aab8-c86b98d7460e",
   "metadata": {},
   "outputs": [],
   "source": [
    "df['monthsToExpiry'] = (df['expYear'] - df['transactionDateTime'].dt.year) * 12 + (df['expMonth'] - df['transactionDateTime'].dt.month)"
   ]
  },
  {
   "cell_type": "code",
   "execution_count": 55,
   "id": "d9c03796-5633-4a8a-9d2c-1bf0a2c2fa34",
   "metadata": {},
   "outputs": [
    {
     "data": {
      "text/plain": [
       "(98768, 28)"
      ]
     },
     "execution_count": 55,
     "metadata": {},
     "output_type": "execute_result"
    }
   ],
   "source": [
    "df.shape"
   ]
  },
  {
   "cell_type": "markdown",
   "id": "a55c5460-0b91-4e7a-a172-890531c24c17",
   "metadata": {},
   "source": [
    "### Droping transactionDateTime, currentExpDate, accountOpenDate, dateOfLastAddressChange"
   ]
  },
  {
   "cell_type": "code",
   "execution_count": 56,
   "id": "c7d23ccf-b721-49cc-baa1-34eb0ddd1408",
   "metadata": {},
   "outputs": [],
   "source": [
    "df.drop(columns=['transactionDateTime', 'currentExpDate', 'accountOpenDate', 'dateOfLastAddressChange'], axis = 1, inplace=True)"
   ]
  },
  {
   "cell_type": "code",
   "execution_count": 57,
   "id": "2b27ecea-8882-4b59-9999-6f871d18ec6e",
   "metadata": {},
   "outputs": [
    {
     "name": "stdout",
     "output_type": "stream",
     "text": [
      "<class 'pandas.core.frame.DataFrame'>\n",
      "Index: 98768 entries, 297484 to 767365\n",
      "Data columns (total 24 columns):\n",
      " #   Column                      Non-Null Count  Dtype  \n",
      "---  ------                      --------------  -----  \n",
      " 0   creditLimit                 98768 non-null  int64  \n",
      " 1   availableMoney              98768 non-null  float64\n",
      " 2   transactionAmount           98768 non-null  float64\n",
      " 3   merchantName                98768 non-null  int32  \n",
      " 4   acqCountry                  98768 non-null  int32  \n",
      " 5   merchantCountryCode         98768 non-null  int32  \n",
      " 6   posEntryMode                98768 non-null  int32  \n",
      " 7   posConditionCode            98768 non-null  int32  \n",
      " 8   merchantCategoryCode        98768 non-null  int32  \n",
      " 9   cardCVV                     98768 non-null  int64  \n",
      " 10  enteredCVV                  98768 non-null  int64  \n",
      " 11  cardLast4Digits             98768 non-null  int64  \n",
      " 12  transactionType             98768 non-null  int32  \n",
      " 13  currentBalance              98768 non-null  float64\n",
      " 14  cardPresent                 98768 non-null  bool   \n",
      " 15  expirationDateKeyInMatch    98768 non-null  bool   \n",
      " 16  isFraud                     98768 non-null  bool   \n",
      " 17  daysSinceLastAddressChange  98768 non-null  int64  \n",
      " 18  transactionHour             98768 non-null  int32  \n",
      " 19  transactionDayOfWeek        98768 non-null  int32  \n",
      " 20  accountAgeDays              98768 non-null  int64  \n",
      " 21  expMonth                    98768 non-null  int32  \n",
      " 22  expYear                     98768 non-null  int32  \n",
      " 23  monthsToExpiry              98768 non-null  int32  \n",
      "dtypes: bool(3), float64(3), int32(12), int64(6)\n",
      "memory usage: 12.3 MB\n"
     ]
    }
   ],
   "source": [
    "df.info()"
   ]
  },
  {
   "cell_type": "markdown",
   "id": "4ddd7ac3-7202-4ca1-888c-97a2c966dda7",
   "metadata": {},
   "source": [
    "### Applying SMOTE (Synthetic Minority Oversampling Technique) to balance the isFraud column "
   ]
  },
  {
   "cell_type": "code",
   "execution_count": 58,
   "id": "78b3523f-6eac-4688-805e-ddc6d3976c5e",
   "metadata": {},
   "outputs": [],
   "source": [
    "X = df.drop('isFraud', axis = 1)\n",
    "y = df['isFraud']"
   ]
  },
  {
   "cell_type": "code",
   "execution_count": 59,
   "id": "41dc9aaa-090b-46cc-af1a-ec63208c9166",
   "metadata": {},
   "outputs": [
    {
     "data": {
      "text/html": [
       "<div>\n",
       "<style scoped>\n",
       "    .dataframe tbody tr th:only-of-type {\n",
       "        vertical-align: middle;\n",
       "    }\n",
       "\n",
       "    .dataframe tbody tr th {\n",
       "        vertical-align: top;\n",
       "    }\n",
       "\n",
       "    .dataframe thead th {\n",
       "        text-align: right;\n",
       "    }\n",
       "</style>\n",
       "<table border=\"1\" class=\"dataframe\">\n",
       "  <thead>\n",
       "    <tr style=\"text-align: right;\">\n",
       "      <th></th>\n",
       "      <th>creditLimit</th>\n",
       "      <th>availableMoney</th>\n",
       "      <th>transactionAmount</th>\n",
       "      <th>merchantName</th>\n",
       "      <th>acqCountry</th>\n",
       "      <th>merchantCountryCode</th>\n",
       "      <th>posEntryMode</th>\n",
       "      <th>posConditionCode</th>\n",
       "      <th>merchantCategoryCode</th>\n",
       "      <th>cardCVV</th>\n",
       "      <th>enteredCVV</th>\n",
       "      <th>cardLast4Digits</th>\n",
       "      <th>transactionType</th>\n",
       "      <th>currentBalance</th>\n",
       "      <th>cardPresent</th>\n",
       "      <th>expirationDateKeyInMatch</th>\n",
       "      <th>daysSinceLastAddressChange</th>\n",
       "      <th>transactionHour</th>\n",
       "      <th>transactionDayOfWeek</th>\n",
       "      <th>accountAgeDays</th>\n",
       "      <th>expMonth</th>\n",
       "      <th>expYear</th>\n",
       "      <th>monthsToExpiry</th>\n",
       "    </tr>\n",
       "  </thead>\n",
       "  <tbody>\n",
       "    <tr>\n",
       "      <th>297484</th>\n",
       "      <td>5000</td>\n",
       "      <td>759.27</td>\n",
       "      <td>141.75</td>\n",
       "      <td>2100</td>\n",
       "      <td>3</td>\n",
       "      <td>3</td>\n",
       "      <td>1</td>\n",
       "      <td>0</td>\n",
       "      <td>5</td>\n",
       "      <td>557</td>\n",
       "      <td>556</td>\n",
       "      <td>1510</td>\n",
       "      <td>1</td>\n",
       "      <td>4240.73</td>\n",
       "      <td>True</td>\n",
       "      <td>False</td>\n",
       "      <td>253</td>\n",
       "      <td>22</td>\n",
       "      <td>3</td>\n",
       "      <td>1519</td>\n",
       "      <td>9</td>\n",
       "      <td>4026</td>\n",
       "      <td>24117</td>\n",
       "    </tr>\n",
       "    <tr>\n",
       "      <th>646589</th>\n",
       "      <td>250</td>\n",
       "      <td>-14.56</td>\n",
       "      <td>43.18</td>\n",
       "      <td>2029</td>\n",
       "      <td>3</td>\n",
       "      <td>3</td>\n",
       "      <td>1</td>\n",
       "      <td>0</td>\n",
       "      <td>7</td>\n",
       "      <td>575</td>\n",
       "      <td>575</td>\n",
       "      <td>6631</td>\n",
       "      <td>1</td>\n",
       "      <td>264.56</td>\n",
       "      <td>True</td>\n",
       "      <td>False</td>\n",
       "      <td>820</td>\n",
       "      <td>18</td>\n",
       "      <td>2</td>\n",
       "      <td>820</td>\n",
       "      <td>12</td>\n",
       "      <td>4021</td>\n",
       "      <td>24061</td>\n",
       "    </tr>\n",
       "    <tr>\n",
       "      <th>319743</th>\n",
       "      <td>20000</td>\n",
       "      <td>15325.03</td>\n",
       "      <td>144.66</td>\n",
       "      <td>401</td>\n",
       "      <td>3</td>\n",
       "      <td>3</td>\n",
       "      <td>2</td>\n",
       "      <td>0</td>\n",
       "      <td>4</td>\n",
       "      <td>204</td>\n",
       "      <td>204</td>\n",
       "      <td>3581</td>\n",
       "      <td>1</td>\n",
       "      <td>4674.97</td>\n",
       "      <td>True</td>\n",
       "      <td>False</td>\n",
       "      <td>313</td>\n",
       "      <td>17</td>\n",
       "      <td>4</td>\n",
       "      <td>313</td>\n",
       "      <td>9</td>\n",
       "      <td>4027</td>\n",
       "      <td>24140</td>\n",
       "    </tr>\n",
       "    <tr>\n",
       "      <th>713942</th>\n",
       "      <td>5000</td>\n",
       "      <td>3903.14</td>\n",
       "      <td>112.12</td>\n",
       "      <td>528</td>\n",
       "      <td>3</td>\n",
       "      <td>3</td>\n",
       "      <td>0</td>\n",
       "      <td>0</td>\n",
       "      <td>3</td>\n",
       "      <td>486</td>\n",
       "      <td>486</td>\n",
       "      <td>9619</td>\n",
       "      <td>1</td>\n",
       "      <td>1096.86</td>\n",
       "      <td>True</td>\n",
       "      <td>False</td>\n",
       "      <td>776</td>\n",
       "      <td>3</td>\n",
       "      <td>3</td>\n",
       "      <td>776</td>\n",
       "      <td>6</td>\n",
       "      <td>4023</td>\n",
       "      <td>24082</td>\n",
       "    </tr>\n",
       "    <tr>\n",
       "      <th>429181</th>\n",
       "      <td>5000</td>\n",
       "      <td>1089.20</td>\n",
       "      <td>121.43</td>\n",
       "      <td>2431</td>\n",
       "      <td>3</td>\n",
       "      <td>3</td>\n",
       "      <td>0</td>\n",
       "      <td>0</td>\n",
       "      <td>14</td>\n",
       "      <td>917</td>\n",
       "      <td>917</td>\n",
       "      <td>2178</td>\n",
       "      <td>1</td>\n",
       "      <td>3910.80</td>\n",
       "      <td>False</td>\n",
       "      <td>False</td>\n",
       "      <td>1</td>\n",
       "      <td>23</td>\n",
       "      <td>3</td>\n",
       "      <td>466</td>\n",
       "      <td>8</td>\n",
       "      <td>4022</td>\n",
       "      <td>24074</td>\n",
       "    </tr>\n",
       "  </tbody>\n",
       "</table>\n",
       "</div>"
      ],
      "text/plain": [
       "        creditLimit  availableMoney  transactionAmount  merchantName  \\\n",
       "297484         5000          759.27             141.75          2100   \n",
       "646589          250          -14.56              43.18          2029   \n",
       "319743        20000        15325.03             144.66           401   \n",
       "713942         5000         3903.14             112.12           528   \n",
       "429181         5000         1089.20             121.43          2431   \n",
       "\n",
       "        acqCountry  merchantCountryCode  posEntryMode  posConditionCode  \\\n",
       "297484           3                    3             1                 0   \n",
       "646589           3                    3             1                 0   \n",
       "319743           3                    3             2                 0   \n",
       "713942           3                    3             0                 0   \n",
       "429181           3                    3             0                 0   \n",
       "\n",
       "        merchantCategoryCode  cardCVV  enteredCVV  cardLast4Digits  \\\n",
       "297484                     5      557         556             1510   \n",
       "646589                     7      575         575             6631   \n",
       "319743                     4      204         204             3581   \n",
       "713942                     3      486         486             9619   \n",
       "429181                    14      917         917             2178   \n",
       "\n",
       "        transactionType  currentBalance  cardPresent  \\\n",
       "297484                1         4240.73         True   \n",
       "646589                1          264.56         True   \n",
       "319743                1         4674.97         True   \n",
       "713942                1         1096.86         True   \n",
       "429181                1         3910.80        False   \n",
       "\n",
       "        expirationDateKeyInMatch  daysSinceLastAddressChange  transactionHour  \\\n",
       "297484                     False                         253               22   \n",
       "646589                     False                         820               18   \n",
       "319743                     False                         313               17   \n",
       "713942                     False                         776                3   \n",
       "429181                     False                           1               23   \n",
       "\n",
       "        transactionDayOfWeek  accountAgeDays  expMonth  expYear  \\\n",
       "297484                     3            1519         9     4026   \n",
       "646589                     2             820        12     4021   \n",
       "319743                     4             313         9     4027   \n",
       "713942                     3             776         6     4023   \n",
       "429181                     3             466         8     4022   \n",
       "\n",
       "        monthsToExpiry  \n",
       "297484           24117  \n",
       "646589           24061  \n",
       "319743           24140  \n",
       "713942           24082  \n",
       "429181           24074  "
      ]
     },
     "execution_count": 59,
     "metadata": {},
     "output_type": "execute_result"
    }
   ],
   "source": [
    "X.head()"
   ]
  },
  {
   "cell_type": "code",
   "execution_count": 60,
   "id": "ad969f22-a5a8-4896-8157-2e1a870c423b",
   "metadata": {},
   "outputs": [
    {
     "data": {
      "text/plain": [
       "297484    False\n",
       "646589    False\n",
       "319743    False\n",
       "713942    False\n",
       "429181    False\n",
       "          ...  \n",
       "265775    False\n",
       "728406    False\n",
       "59374     False\n",
       "334831     True\n",
       "767365    False\n",
       "Name: isFraud, Length: 98768, dtype: bool"
      ]
     },
     "execution_count": 60,
     "metadata": {},
     "output_type": "execute_result"
    }
   ],
   "source": [
    "y"
   ]
  },
  {
   "cell_type": "code",
   "execution_count": 61,
   "id": "879ce997-7836-4ee8-b97c-96f84071bc32",
   "metadata": {},
   "outputs": [
    {
     "data": {
      "text/plain": [
       "(98768, 23)"
      ]
     },
     "execution_count": 61,
     "metadata": {},
     "output_type": "execute_result"
    }
   ],
   "source": [
    "X.shape"
   ]
  },
  {
   "cell_type": "code",
   "execution_count": 62,
   "id": "94327cca-b371-4c5a-8f03-c761832aff4f",
   "metadata": {},
   "outputs": [
    {
     "data": {
      "text/plain": [
       "(98768,)"
      ]
     },
     "execution_count": 62,
     "metadata": {},
     "output_type": "execute_result"
    }
   ],
   "source": [
    "y.shape"
   ]
  },
  {
   "cell_type": "code",
   "execution_count": null,
   "id": "25465a97-b5c0-4c26-b61a-c5b27f837b93",
   "metadata": {},
   "outputs": [],
   "source": []
  },
  {
   "cell_type": "code",
   "execution_count": 63,
   "id": "8f7409f1-731e-4114-8459-8e1e756045bc",
   "metadata": {},
   "outputs": [],
   "source": [
    "smote = SMOTE(random_state=42)\n",
    "X_resampled, y_resampled = smote.fit_resample(X, y)"
   ]
  },
  {
   "cell_type": "code",
   "execution_count": 64,
   "id": "fd580983-d1bc-41c8-bbd6-4feb8ce71f80",
   "metadata": {},
   "outputs": [
    {
     "data": {
      "text/plain": [
       "(194530, 23)"
      ]
     },
     "execution_count": 64,
     "metadata": {},
     "output_type": "execute_result"
    }
   ],
   "source": [
    "X_resampled.shape"
   ]
  },
  {
   "cell_type": "code",
   "execution_count": 65,
   "id": "009b1d7e-c71e-47a4-b770-257f33133d2b",
   "metadata": {},
   "outputs": [
    {
     "data": {
      "text/plain": [
       "(194530,)"
      ]
     },
     "execution_count": 65,
     "metadata": {},
     "output_type": "execute_result"
    }
   ],
   "source": [
    "y_resampled.shape"
   ]
  },
  {
   "cell_type": "code",
   "execution_count": 66,
   "id": "639e6e8b-9fc0-4f61-9104-92a79b9e1560",
   "metadata": {},
   "outputs": [
    {
     "name": "stdout",
     "output_type": "stream",
     "text": [
      "Class distribution before SMOTE: isFraud\n",
      "False    97265\n",
      "True      1503\n",
      "Name: count, dtype: int64\n",
      "Class distribution after SMOTE: isFraud\n",
      "False    97265\n",
      "True     97265\n",
      "Name: count, dtype: int64\n"
     ]
    }
   ],
   "source": [
    "print(\"Class distribution before SMOTE:\", y.value_counts())\n",
    "print(\"Class distribution after SMOTE:\", pd.Series(y_resampled).value_counts())"
   ]
  },
  {
   "cell_type": "code",
   "execution_count": null,
   "id": "de3dda03-fac5-4b63-84ef-40776296601f",
   "metadata": {},
   "outputs": [],
   "source": []
  },
  {
   "cell_type": "markdown",
   "id": "53ec508c-471e-483c-a006-d0d372dfd91f",
   "metadata": {},
   "source": [
    "## Spliting Data inot Train Test Split"
   ]
  },
  {
   "cell_type": "code",
   "execution_count": 67,
   "id": "316834e2-ec53-49d9-b232-43b596a3b88c",
   "metadata": {},
   "outputs": [],
   "source": [
    "X_train, X_test, y_train, y_test = train_test_split(X_resampled, y_resampled, test_size=0.3)"
   ]
  },
  {
   "cell_type": "code",
   "execution_count": null,
   "id": "cdd9dfe0-35f6-499a-bfac-42bfb205f493",
   "metadata": {},
   "outputs": [],
   "source": []
  },
  {
   "cell_type": "markdown",
   "id": "2a3440cd-3ed8-4f7e-8145-00551351ecfd",
   "metadata": {},
   "source": [
    "# Feature Scaling"
   ]
  },
  {
   "cell_type": "code",
   "execution_count": 68,
   "id": "4d56a209-cf09-41bb-af12-d2c622e7a2c5",
   "metadata": {},
   "outputs": [],
   "source": [
    "scaler = MinMaxScaler()"
   ]
  },
  {
   "cell_type": "code",
   "execution_count": 69,
   "id": "a9cd96d2-9823-40cb-930c-ddc716ee9a95",
   "metadata": {},
   "outputs": [],
   "source": [
    "X_train_scaled = scaler.fit_transform(X_train)"
   ]
  },
  {
   "cell_type": "code",
   "execution_count": 70,
   "id": "2e01a119-f9c2-4efc-9bd5-d7798f818ab8",
   "metadata": {},
   "outputs": [],
   "source": [
    "X_test_scaled = scaler.transform(X_test)"
   ]
  },
  {
   "cell_type": "code",
   "execution_count": 71,
   "id": "1d2ea1d4-e81d-410e-99de-1a82da95f592",
   "metadata": {},
   "outputs": [],
   "source": [
    "X_train = pd.DataFrame(X_train_scaled, columns=X_train.columns)\n",
    "X_test = pd.DataFrame(X_test_scaled, columns=X_test.columns)"
   ]
  },
  {
   "cell_type": "code",
   "execution_count": 72,
   "id": "ed6f43c2-7d39-4808-8deb-7182a2ac52ce",
   "metadata": {},
   "outputs": [
    {
     "data": {
      "text/html": [
       "<div>\n",
       "<style scoped>\n",
       "    .dataframe tbody tr th:only-of-type {\n",
       "        vertical-align: middle;\n",
       "    }\n",
       "\n",
       "    .dataframe tbody tr th {\n",
       "        vertical-align: top;\n",
       "    }\n",
       "\n",
       "    .dataframe thead th {\n",
       "        text-align: right;\n",
       "    }\n",
       "</style>\n",
       "<table border=\"1\" class=\"dataframe\">\n",
       "  <thead>\n",
       "    <tr style=\"text-align: right;\">\n",
       "      <th></th>\n",
       "      <th>creditLimit</th>\n",
       "      <th>availableMoney</th>\n",
       "      <th>transactionAmount</th>\n",
       "      <th>merchantName</th>\n",
       "      <th>acqCountry</th>\n",
       "      <th>merchantCountryCode</th>\n",
       "      <th>posEntryMode</th>\n",
       "      <th>posConditionCode</th>\n",
       "      <th>merchantCategoryCode</th>\n",
       "      <th>cardCVV</th>\n",
       "      <th>enteredCVV</th>\n",
       "      <th>cardLast4Digits</th>\n",
       "      <th>transactionType</th>\n",
       "      <th>currentBalance</th>\n",
       "      <th>cardPresent</th>\n",
       "      <th>expirationDateKeyInMatch</th>\n",
       "      <th>daysSinceLastAddressChange</th>\n",
       "      <th>transactionHour</th>\n",
       "      <th>transactionDayOfWeek</th>\n",
       "      <th>accountAgeDays</th>\n",
       "      <th>expMonth</th>\n",
       "      <th>expYear</th>\n",
       "      <th>monthsToExpiry</th>\n",
       "    </tr>\n",
       "  </thead>\n",
       "  <tbody>\n",
       "    <tr>\n",
       "      <th>0</th>\n",
       "      <td>0.095477</td>\n",
       "      <td>0.079558</td>\n",
       "      <td>0.056753</td>\n",
       "      <td>0.050204</td>\n",
       "      <td>1.0</td>\n",
       "      <td>1.0</td>\n",
       "      <td>0.00</td>\n",
       "      <td>0.0</td>\n",
       "      <td>0.222222</td>\n",
       "      <td>0.167038</td>\n",
       "      <td>0.250501</td>\n",
       "      <td>0.220544</td>\n",
       "      <td>0.5</td>\n",
       "      <td>0.035134</td>\n",
       "      <td>1.0</td>\n",
       "      <td>0.0</td>\n",
       "      <td>0.012938</td>\n",
       "      <td>0.913043</td>\n",
       "      <td>0.166667</td>\n",
       "      <td>0.124849</td>\n",
       "      <td>0.363636</td>\n",
       "      <td>0.857143</td>\n",
       "      <td>0.845714</td>\n",
       "    </tr>\n",
       "    <tr>\n",
       "      <th>1</th>\n",
       "      <td>0.145729</td>\n",
       "      <td>0.064306</td>\n",
       "      <td>0.030433</td>\n",
       "      <td>0.282449</td>\n",
       "      <td>1.0</td>\n",
       "      <td>1.0</td>\n",
       "      <td>0.25</td>\n",
       "      <td>0.0</td>\n",
       "      <td>0.222222</td>\n",
       "      <td>0.191537</td>\n",
       "      <td>0.272545</td>\n",
       "      <td>0.064313</td>\n",
       "      <td>0.5</td>\n",
       "      <td>0.104048</td>\n",
       "      <td>1.0</td>\n",
       "      <td>0.0</td>\n",
       "      <td>0.118042</td>\n",
       "      <td>0.695652</td>\n",
       "      <td>0.833333</td>\n",
       "      <td>0.117423</td>\n",
       "      <td>0.454545</td>\n",
       "      <td>0.928571</td>\n",
       "      <td>0.914286</td>\n",
       "    </tr>\n",
       "    <tr>\n",
       "      <th>2</th>\n",
       "      <td>0.095477</td>\n",
       "      <td>0.055908</td>\n",
       "      <td>0.298058</td>\n",
       "      <td>0.064082</td>\n",
       "      <td>1.0</td>\n",
       "      <td>1.0</td>\n",
       "      <td>0.25</td>\n",
       "      <td>0.0</td>\n",
       "      <td>0.722222</td>\n",
       "      <td>0.856347</td>\n",
       "      <td>0.870741</td>\n",
       "      <td>0.059312</td>\n",
       "      <td>0.5</td>\n",
       "      <td>0.060379</td>\n",
       "      <td>0.0</td>\n",
       "      <td>0.0</td>\n",
       "      <td>0.000100</td>\n",
       "      <td>0.173913</td>\n",
       "      <td>0.833333</td>\n",
       "      <td>0.072461</td>\n",
       "      <td>0.727273</td>\n",
       "      <td>0.428571</td>\n",
       "      <td>0.462857</td>\n",
       "    </tr>\n",
       "    <tr>\n",
       "      <th>3</th>\n",
       "      <td>0.296482</td>\n",
       "      <td>0.239259</td>\n",
       "      <td>0.078857</td>\n",
       "      <td>0.362449</td>\n",
       "      <td>1.0</td>\n",
       "      <td>1.0</td>\n",
       "      <td>0.00</td>\n",
       "      <td>0.5</td>\n",
       "      <td>0.222222</td>\n",
       "      <td>0.608018</td>\n",
       "      <td>0.647295</td>\n",
       "      <td>0.936887</td>\n",
       "      <td>0.5</td>\n",
       "      <td>0.075193</td>\n",
       "      <td>1.0</td>\n",
       "      <td>0.0</td>\n",
       "      <td>0.055862</td>\n",
       "      <td>0.173913</td>\n",
       "      <td>0.333333</td>\n",
       "      <td>0.055199</td>\n",
       "      <td>0.454545</td>\n",
       "      <td>0.500000</td>\n",
       "      <td>0.462857</td>\n",
       "    </tr>\n",
       "    <tr>\n",
       "      <th>4</th>\n",
       "      <td>0.095477</td>\n",
       "      <td>0.032813</td>\n",
       "      <td>0.124364</td>\n",
       "      <td>0.997959</td>\n",
       "      <td>1.0</td>\n",
       "      <td>1.0</td>\n",
       "      <td>0.25</td>\n",
       "      <td>0.5</td>\n",
       "      <td>0.777778</td>\n",
       "      <td>0.010022</td>\n",
       "      <td>0.109218</td>\n",
       "      <td>0.015703</td>\n",
       "      <td>0.5</td>\n",
       "      <td>0.085033</td>\n",
       "      <td>0.0</td>\n",
       "      <td>0.0</td>\n",
       "      <td>0.008525</td>\n",
       "      <td>0.304348</td>\n",
       "      <td>0.833333</td>\n",
       "      <td>0.044862</td>\n",
       "      <td>0.090909</td>\n",
       "      <td>0.142857</td>\n",
       "      <td>0.165714</td>\n",
       "    </tr>\n",
       "  </tbody>\n",
       "</table>\n",
       "</div>"
      ],
      "text/plain": [
       "   creditLimit  availableMoney  transactionAmount  merchantName  acqCountry  \\\n",
       "0     0.095477        0.079558           0.056753      0.050204         1.0   \n",
       "1     0.145729        0.064306           0.030433      0.282449         1.0   \n",
       "2     0.095477        0.055908           0.298058      0.064082         1.0   \n",
       "3     0.296482        0.239259           0.078857      0.362449         1.0   \n",
       "4     0.095477        0.032813           0.124364      0.997959         1.0   \n",
       "\n",
       "   merchantCountryCode  posEntryMode  posConditionCode  merchantCategoryCode  \\\n",
       "0                  1.0          0.00               0.0              0.222222   \n",
       "1                  1.0          0.25               0.0              0.222222   \n",
       "2                  1.0          0.25               0.0              0.722222   \n",
       "3                  1.0          0.00               0.5              0.222222   \n",
       "4                  1.0          0.25               0.5              0.777778   \n",
       "\n",
       "    cardCVV  enteredCVV  cardLast4Digits  transactionType  currentBalance  \\\n",
       "0  0.167038    0.250501         0.220544              0.5        0.035134   \n",
       "1  0.191537    0.272545         0.064313              0.5        0.104048   \n",
       "2  0.856347    0.870741         0.059312              0.5        0.060379   \n",
       "3  0.608018    0.647295         0.936887              0.5        0.075193   \n",
       "4  0.010022    0.109218         0.015703              0.5        0.085033   \n",
       "\n",
       "   cardPresent  expirationDateKeyInMatch  daysSinceLastAddressChange  \\\n",
       "0          1.0                       0.0                    0.012938   \n",
       "1          1.0                       0.0                    0.118042   \n",
       "2          0.0                       0.0                    0.000100   \n",
       "3          1.0                       0.0                    0.055862   \n",
       "4          0.0                       0.0                    0.008525   \n",
       "\n",
       "   transactionHour  transactionDayOfWeek  accountAgeDays  expMonth   expYear  \\\n",
       "0         0.913043              0.166667        0.124849  0.363636  0.857143   \n",
       "1         0.695652              0.833333        0.117423  0.454545  0.928571   \n",
       "2         0.173913              0.833333        0.072461  0.727273  0.428571   \n",
       "3         0.173913              0.333333        0.055199  0.454545  0.500000   \n",
       "4         0.304348              0.833333        0.044862  0.090909  0.142857   \n",
       "\n",
       "   monthsToExpiry  \n",
       "0        0.845714  \n",
       "1        0.914286  \n",
       "2        0.462857  \n",
       "3        0.462857  \n",
       "4        0.165714  "
      ]
     },
     "execution_count": 72,
     "metadata": {},
     "output_type": "execute_result"
    }
   ],
   "source": [
    "X_train.head()"
   ]
  },
  {
   "cell_type": "code",
   "execution_count": 73,
   "id": "043329e3-5bb2-4c15-9e54-4c11674c5e77",
   "metadata": {},
   "outputs": [
    {
     "data": {
      "text/html": [
       "<div>\n",
       "<style scoped>\n",
       "    .dataframe tbody tr th:only-of-type {\n",
       "        vertical-align: middle;\n",
       "    }\n",
       "\n",
       "    .dataframe tbody tr th {\n",
       "        vertical-align: top;\n",
       "    }\n",
       "\n",
       "    .dataframe thead th {\n",
       "        text-align: right;\n",
       "    }\n",
       "</style>\n",
       "<table border=\"1\" class=\"dataframe\">\n",
       "  <thead>\n",
       "    <tr style=\"text-align: right;\">\n",
       "      <th></th>\n",
       "      <th>creditLimit</th>\n",
       "      <th>availableMoney</th>\n",
       "      <th>transactionAmount</th>\n",
       "      <th>merchantName</th>\n",
       "      <th>acqCountry</th>\n",
       "      <th>merchantCountryCode</th>\n",
       "      <th>posEntryMode</th>\n",
       "      <th>posConditionCode</th>\n",
       "      <th>merchantCategoryCode</th>\n",
       "      <th>cardCVV</th>\n",
       "      <th>enteredCVV</th>\n",
       "      <th>cardLast4Digits</th>\n",
       "      <th>transactionType</th>\n",
       "      <th>currentBalance</th>\n",
       "      <th>cardPresent</th>\n",
       "      <th>expirationDateKeyInMatch</th>\n",
       "      <th>daysSinceLastAddressChange</th>\n",
       "      <th>transactionHour</th>\n",
       "      <th>transactionDayOfWeek</th>\n",
       "      <th>accountAgeDays</th>\n",
       "      <th>expMonth</th>\n",
       "      <th>expYear</th>\n",
       "      <th>monthsToExpiry</th>\n",
       "    </tr>\n",
       "  </thead>\n",
       "  <tbody>\n",
       "    <tr>\n",
       "      <th>0</th>\n",
       "      <td>0.095477</td>\n",
       "      <td>0.055162</td>\n",
       "      <td>0.087208</td>\n",
       "      <td>0.302041</td>\n",
       "      <td>1.0</td>\n",
       "      <td>1.0</td>\n",
       "      <td>0.25</td>\n",
       "      <td>0.0</td>\n",
       "      <td>0.222222</td>\n",
       "      <td>0.710468</td>\n",
       "      <td>0.739479</td>\n",
       "      <td>0.718644</td>\n",
       "      <td>0.5</td>\n",
       "      <td>0.061176</td>\n",
       "      <td>1.0</td>\n",
       "      <td>0.0</td>\n",
       "      <td>0.001203</td>\n",
       "      <td>0.608696</td>\n",
       "      <td>0.000000</td>\n",
       "      <td>0.003312</td>\n",
       "      <td>0.545455</td>\n",
       "      <td>0.642857</td>\n",
       "      <td>0.645714</td>\n",
       "    </tr>\n",
       "    <tr>\n",
       "      <th>1</th>\n",
       "      <td>0.095477</td>\n",
       "      <td>0.055744</td>\n",
       "      <td>0.038382</td>\n",
       "      <td>0.064082</td>\n",
       "      <td>1.0</td>\n",
       "      <td>1.0</td>\n",
       "      <td>0.25</td>\n",
       "      <td>0.0</td>\n",
       "      <td>0.722222</td>\n",
       "      <td>0.041203</td>\n",
       "      <td>0.137275</td>\n",
       "      <td>0.237648</td>\n",
       "      <td>0.5</td>\n",
       "      <td>0.060554</td>\n",
       "      <td>0.0</td>\n",
       "      <td>0.0</td>\n",
       "      <td>0.000301</td>\n",
       "      <td>0.869565</td>\n",
       "      <td>0.166667</td>\n",
       "      <td>0.115817</td>\n",
       "      <td>0.181818</td>\n",
       "      <td>1.000000</td>\n",
       "      <td>0.908571</td>\n",
       "    </tr>\n",
       "    <tr>\n",
       "      <th>2</th>\n",
       "      <td>0.396985</td>\n",
       "      <td>0.385498</td>\n",
       "      <td>0.117245</td>\n",
       "      <td>0.482449</td>\n",
       "      <td>1.0</td>\n",
       "      <td>1.0</td>\n",
       "      <td>0.25</td>\n",
       "      <td>0.0</td>\n",
       "      <td>0.722222</td>\n",
       "      <td>0.384187</td>\n",
       "      <td>0.445892</td>\n",
       "      <td>0.879876</td>\n",
       "      <td>0.5</td>\n",
       "      <td>0.024355</td>\n",
       "      <td>0.0</td>\n",
       "      <td>0.0</td>\n",
       "      <td>0.240899</td>\n",
       "      <td>0.913043</td>\n",
       "      <td>0.500000</td>\n",
       "      <td>0.240365</td>\n",
       "      <td>0.454545</td>\n",
       "      <td>0.785714</td>\n",
       "      <td>0.771429</td>\n",
       "    </tr>\n",
       "    <tr>\n",
       "      <th>3</th>\n",
       "      <td>0.296482</td>\n",
       "      <td>0.080176</td>\n",
       "      <td>0.006540</td>\n",
       "      <td>0.426939</td>\n",
       "      <td>1.0</td>\n",
       "      <td>1.0</td>\n",
       "      <td>0.50</td>\n",
       "      <td>0.5</td>\n",
       "      <td>0.944444</td>\n",
       "      <td>0.541203</td>\n",
       "      <td>0.587174</td>\n",
       "      <td>0.061912</td>\n",
       "      <td>0.5</td>\n",
       "      <td>0.245006</td>\n",
       "      <td>0.0</td>\n",
       "      <td>0.0</td>\n",
       "      <td>0.002407</td>\n",
       "      <td>0.565217</td>\n",
       "      <td>0.000000</td>\n",
       "      <td>0.197210</td>\n",
       "      <td>0.181818</td>\n",
       "      <td>0.785714</td>\n",
       "      <td>0.760000</td>\n",
       "    </tr>\n",
       "    <tr>\n",
       "      <th>4</th>\n",
       "      <td>0.195980</td>\n",
       "      <td>0.141186</td>\n",
       "      <td>0.053697</td>\n",
       "      <td>0.993469</td>\n",
       "      <td>1.0</td>\n",
       "      <td>1.0</td>\n",
       "      <td>0.00</td>\n",
       "      <td>0.0</td>\n",
       "      <td>0.777778</td>\n",
       "      <td>0.652561</td>\n",
       "      <td>0.687375</td>\n",
       "      <td>0.206841</td>\n",
       "      <td>0.5</td>\n",
       "      <td>0.074615</td>\n",
       "      <td>0.0</td>\n",
       "      <td>0.0</td>\n",
       "      <td>0.004914</td>\n",
       "      <td>0.826087</td>\n",
       "      <td>0.666667</td>\n",
       "      <td>0.025391</td>\n",
       "      <td>0.727273</td>\n",
       "      <td>0.500000</td>\n",
       "      <td>0.542857</td>\n",
       "    </tr>\n",
       "  </tbody>\n",
       "</table>\n",
       "</div>"
      ],
      "text/plain": [
       "   creditLimit  availableMoney  transactionAmount  merchantName  acqCountry  \\\n",
       "0     0.095477        0.055162           0.087208      0.302041         1.0   \n",
       "1     0.095477        0.055744           0.038382      0.064082         1.0   \n",
       "2     0.396985        0.385498           0.117245      0.482449         1.0   \n",
       "3     0.296482        0.080176           0.006540      0.426939         1.0   \n",
       "4     0.195980        0.141186           0.053697      0.993469         1.0   \n",
       "\n",
       "   merchantCountryCode  posEntryMode  posConditionCode  merchantCategoryCode  \\\n",
       "0                  1.0          0.25               0.0              0.222222   \n",
       "1                  1.0          0.25               0.0              0.722222   \n",
       "2                  1.0          0.25               0.0              0.722222   \n",
       "3                  1.0          0.50               0.5              0.944444   \n",
       "4                  1.0          0.00               0.0              0.777778   \n",
       "\n",
       "    cardCVV  enteredCVV  cardLast4Digits  transactionType  currentBalance  \\\n",
       "0  0.710468    0.739479         0.718644              0.5        0.061176   \n",
       "1  0.041203    0.137275         0.237648              0.5        0.060554   \n",
       "2  0.384187    0.445892         0.879876              0.5        0.024355   \n",
       "3  0.541203    0.587174         0.061912              0.5        0.245006   \n",
       "4  0.652561    0.687375         0.206841              0.5        0.074615   \n",
       "\n",
       "   cardPresent  expirationDateKeyInMatch  daysSinceLastAddressChange  \\\n",
       "0          1.0                       0.0                    0.001203   \n",
       "1          0.0                       0.0                    0.000301   \n",
       "2          0.0                       0.0                    0.240899   \n",
       "3          0.0                       0.0                    0.002407   \n",
       "4          0.0                       0.0                    0.004914   \n",
       "\n",
       "   transactionHour  transactionDayOfWeek  accountAgeDays  expMonth   expYear  \\\n",
       "0         0.608696              0.000000        0.003312  0.545455  0.642857   \n",
       "1         0.869565              0.166667        0.115817  0.181818  1.000000   \n",
       "2         0.913043              0.500000        0.240365  0.454545  0.785714   \n",
       "3         0.565217              0.000000        0.197210  0.181818  0.785714   \n",
       "4         0.826087              0.666667        0.025391  0.727273  0.500000   \n",
       "\n",
       "   monthsToExpiry  \n",
       "0        0.645714  \n",
       "1        0.908571  \n",
       "2        0.771429  \n",
       "3        0.760000  \n",
       "4        0.542857  "
      ]
     },
     "execution_count": 73,
     "metadata": {},
     "output_type": "execute_result"
    }
   ],
   "source": [
    "X_test.head()"
   ]
  },
  {
   "cell_type": "code",
   "execution_count": null,
   "id": "b0c49fa6-403c-417d-9b42-5a362447058a",
   "metadata": {},
   "outputs": [],
   "source": []
  },
  {
   "cell_type": "markdown",
   "id": "9126e477-a6e7-4e1e-9de1-f41c83b36c92",
   "metadata": {},
   "source": [
    "# Model Building"
   ]
  },
  {
   "cell_type": "markdown",
   "id": "b76c1400-b6e4-4a56-9dfa-a1ee903b5eee",
   "metadata": {},
   "source": [
    "### Logistic Regression"
   ]
  },
  {
   "cell_type": "code",
   "execution_count": 74,
   "id": "e4bdd1ca-2190-4385-bbad-53cf6e16af16",
   "metadata": {},
   "outputs": [
    {
     "data": {
      "text/html": [
       "<style>#sk-container-id-1 {color: black;}#sk-container-id-1 pre{padding: 0;}#sk-container-id-1 div.sk-toggleable {background-color: white;}#sk-container-id-1 label.sk-toggleable__label {cursor: pointer;display: block;width: 100%;margin-bottom: 0;padding: 0.3em;box-sizing: border-box;text-align: center;}#sk-container-id-1 label.sk-toggleable__label-arrow:before {content: \"▸\";float: left;margin-right: 0.25em;color: #696969;}#sk-container-id-1 label.sk-toggleable__label-arrow:hover:before {color: black;}#sk-container-id-1 div.sk-estimator:hover label.sk-toggleable__label-arrow:before {color: black;}#sk-container-id-1 div.sk-toggleable__content {max-height: 0;max-width: 0;overflow: hidden;text-align: left;background-color: #f0f8ff;}#sk-container-id-1 div.sk-toggleable__content pre {margin: 0.2em;color: black;border-radius: 0.25em;background-color: #f0f8ff;}#sk-container-id-1 input.sk-toggleable__control:checked~div.sk-toggleable__content {max-height: 200px;max-width: 100%;overflow: auto;}#sk-container-id-1 input.sk-toggleable__control:checked~label.sk-toggleable__label-arrow:before {content: \"▾\";}#sk-container-id-1 div.sk-estimator input.sk-toggleable__control:checked~label.sk-toggleable__label {background-color: #d4ebff;}#sk-container-id-1 div.sk-label input.sk-toggleable__control:checked~label.sk-toggleable__label {background-color: #d4ebff;}#sk-container-id-1 input.sk-hidden--visually {border: 0;clip: rect(1px 1px 1px 1px);clip: rect(1px, 1px, 1px, 1px);height: 1px;margin: -1px;overflow: hidden;padding: 0;position: absolute;width: 1px;}#sk-container-id-1 div.sk-estimator {font-family: monospace;background-color: #f0f8ff;border: 1px dotted black;border-radius: 0.25em;box-sizing: border-box;margin-bottom: 0.5em;}#sk-container-id-1 div.sk-estimator:hover {background-color: #d4ebff;}#sk-container-id-1 div.sk-parallel-item::after {content: \"\";width: 100%;border-bottom: 1px solid gray;flex-grow: 1;}#sk-container-id-1 div.sk-label:hover label.sk-toggleable__label {background-color: #d4ebff;}#sk-container-id-1 div.sk-serial::before {content: \"\";position: absolute;border-left: 1px solid gray;box-sizing: border-box;top: 0;bottom: 0;left: 50%;z-index: 0;}#sk-container-id-1 div.sk-serial {display: flex;flex-direction: column;align-items: center;background-color: white;padding-right: 0.2em;padding-left: 0.2em;position: relative;}#sk-container-id-1 div.sk-item {position: relative;z-index: 1;}#sk-container-id-1 div.sk-parallel {display: flex;align-items: stretch;justify-content: center;background-color: white;position: relative;}#sk-container-id-1 div.sk-item::before, #sk-container-id-1 div.sk-parallel-item::before {content: \"\";position: absolute;border-left: 1px solid gray;box-sizing: border-box;top: 0;bottom: 0;left: 50%;z-index: -1;}#sk-container-id-1 div.sk-parallel-item {display: flex;flex-direction: column;z-index: 1;position: relative;background-color: white;}#sk-container-id-1 div.sk-parallel-item:first-child::after {align-self: flex-end;width: 50%;}#sk-container-id-1 div.sk-parallel-item:last-child::after {align-self: flex-start;width: 50%;}#sk-container-id-1 div.sk-parallel-item:only-child::after {width: 0;}#sk-container-id-1 div.sk-dashed-wrapped {border: 1px dashed gray;margin: 0 0.4em 0.5em 0.4em;box-sizing: border-box;padding-bottom: 0.4em;background-color: white;}#sk-container-id-1 div.sk-label label {font-family: monospace;font-weight: bold;display: inline-block;line-height: 1.2em;}#sk-container-id-1 div.sk-label-container {text-align: center;}#sk-container-id-1 div.sk-container {/* jupyter's `normalize.less` sets `[hidden] { display: none; }` but bootstrap.min.css set `[hidden] { display: none !important; }` so we also need the `!important` here to be able to override the default hidden behavior on the sphinx rendered scikit-learn.org. See: https://github.com/scikit-learn/scikit-learn/issues/21755 */display: inline-block !important;position: relative;}#sk-container-id-1 div.sk-text-repr-fallback {display: none;}</style><div id=\"sk-container-id-1\" class=\"sk-top-container\"><div class=\"sk-text-repr-fallback\"><pre>LogisticRegression()</pre><b>In a Jupyter environment, please rerun this cell to show the HTML representation or trust the notebook. <br />On GitHub, the HTML representation is unable to render, please try loading this page with nbviewer.org.</b></div><div class=\"sk-container\" hidden><div class=\"sk-item\"><div class=\"sk-estimator sk-toggleable\"><input class=\"sk-toggleable__control sk-hidden--visually\" id=\"sk-estimator-id-1\" type=\"checkbox\" checked><label for=\"sk-estimator-id-1\" class=\"sk-toggleable__label sk-toggleable__label-arrow\">LogisticRegression</label><div class=\"sk-toggleable__content\"><pre>LogisticRegression()</pre></div></div></div></div></div>"
      ],
      "text/plain": [
       "LogisticRegression()"
      ]
     },
     "execution_count": 74,
     "metadata": {},
     "output_type": "execute_result"
    }
   ],
   "source": [
    "logistic_model = LogisticRegression()\n",
    "logistic_model.fit(X_train, y_train)"
   ]
  },
  {
   "cell_type": "code",
   "execution_count": 75,
   "id": "6e1e4129-78b7-4b2c-b153-45b1f5be291e",
   "metadata": {},
   "outputs": [
    {
     "data": {
      "text/plain": [
       "array([ True, False, False, ..., False, False,  True])"
      ]
     },
     "execution_count": 75,
     "metadata": {},
     "output_type": "execute_result"
    }
   ],
   "source": [
    "y_pred = logistic_model.predict(X_test)\n",
    "y_pred"
   ]
  },
  {
   "cell_type": "code",
   "execution_count": 76,
   "id": "d0231fce-e42a-467d-94a1-44e678b4d6c3",
   "metadata": {},
   "outputs": [],
   "source": [
    "accuracy = accuracy_score(y_test, y_pred)\n",
    "conf_matrix = confusion_matrix(y_test, y_pred)\n",
    "class_report = classification_report(y_test, y_pred)"
   ]
  },
  {
   "cell_type": "code",
   "execution_count": 77,
   "id": "b743fc6a-8119-4c6e-9208-9b0e2ccc2516",
   "metadata": {},
   "outputs": [
    {
     "name": "stdout",
     "output_type": "stream",
     "text": [
      "0.7898010589626279\n"
     ]
    }
   ],
   "source": [
    "print(accuracy)"
   ]
  },
  {
   "cell_type": "code",
   "execution_count": 78,
   "id": "dff32706-9bd9-4cb0-ae50-0a9b49df7b86",
   "metadata": {},
   "outputs": [
    {
     "name": "stdout",
     "output_type": "stream",
     "text": [
      "[[23240  6042]\n",
      " [ 6225 22852]]\n"
     ]
    }
   ],
   "source": [
    "print(conf_matrix)"
   ]
  },
  {
   "cell_type": "code",
   "execution_count": 79,
   "id": "7f22c19e-daf8-46e6-804a-7468620ea560",
   "metadata": {},
   "outputs": [
    {
     "name": "stdout",
     "output_type": "stream",
     "text": [
      "              precision    recall  f1-score   support\n",
      "\n",
      "       False       0.79      0.79      0.79     29282\n",
      "        True       0.79      0.79      0.79     29077\n",
      "\n",
      "    accuracy                           0.79     58359\n",
      "   macro avg       0.79      0.79      0.79     58359\n",
      "weighted avg       0.79      0.79      0.79     58359\n",
      "\n"
     ]
    }
   ],
   "source": [
    "print(class_report)"
   ]
  },
  {
   "cell_type": "markdown",
   "id": "209f9412-f900-49e1-ae7d-1618e50827e9",
   "metadata": {},
   "source": [
    "# SVM (Support Vector Machine)"
   ]
  },
  {
   "cell_type": "code",
   "execution_count": 80,
   "id": "b3afd316-122a-42e3-b9fd-32ea2cf84498",
   "metadata": {},
   "outputs": [],
   "source": [
    "# # Define the SVM model\n",
    "# svm = SVC()"
   ]
  },
  {
   "cell_type": "code",
   "execution_count": 81,
   "id": "fc21406a-0dbb-4eb1-89dc-04e782e47c81",
   "metadata": {},
   "outputs": [],
   "source": [
    "# # Define the hyperparameter grid\n",
    "# param_grid = {\n",
    "#     'C': [0.1, 1, 10, 100],  # Regularization parameter\n",
    "#     'kernel': ['linear', 'poly', 'rbf', 'sigmoid'],  # Kernel type\n",
    "#     'gamma': ['scale', 'auto'],  # Kernel coefficient for 'rbf', 'poly', and 'sigmoid'\n",
    "# }"
   ]
  },
  {
   "cell_type": "code",
   "execution_count": 82,
   "id": "9d228503-b7c5-411d-8204-9aea2f7aa6dd",
   "metadata": {},
   "outputs": [],
   "source": [
    "# # Perform Grid Search with Cross-Validation\n",
    "# grid_search = GridSearchCV(estimator=svm, param_grid=param_grid, cv=5, scoring='accuracy' )\n",
    "# grid_search.fit(X_train, y_train)"
   ]
  },
  {
   "cell_type": "code",
   "execution_count": null,
   "id": "0a022d6c-9734-4a0e-9f5d-13e5f6c47e63",
   "metadata": {},
   "outputs": [],
   "source": []
  },
  {
   "cell_type": "markdown",
   "id": "b206ea02-4974-41e5-987f-c043f4a18059",
   "metadata": {},
   "source": [
    "### Check Overfitting and Underfitting"
   ]
  },
  {
   "cell_type": "code",
   "execution_count": 83,
   "id": "6bdc0653-afa1-47ff-ba27-46e3ed61fc6d",
   "metadata": {},
   "outputs": [
    {
     "data": {
      "text/plain": [
       "0.7916663606788523"
      ]
     },
     "execution_count": 83,
     "metadata": {},
     "output_type": "execute_result"
    }
   ],
   "source": [
    "logistic_model.score(X_train, y_train)"
   ]
  },
  {
   "cell_type": "code",
   "execution_count": 84,
   "id": "59664943-80d9-41d6-acc3-e540c345831b",
   "metadata": {},
   "outputs": [
    {
     "data": {
      "text/plain": [
       "0.7898010589626279"
      ]
     },
     "execution_count": 84,
     "metadata": {},
     "output_type": "execute_result"
    }
   ],
   "source": [
    "logistic_model.score(X_test, y_test)"
   ]
  },
  {
   "cell_type": "code",
   "execution_count": null,
   "id": "5dfc9e9c-afde-4373-b08a-3f1182075425",
   "metadata": {},
   "outputs": [],
   "source": []
  },
  {
   "cell_type": "code",
   "execution_count": 85,
   "id": "3534ec18-16a9-4bdd-b900-c0e81281fdf4",
   "metadata": {},
   "outputs": [],
   "source": [
    "# isFraud\n",
    "# False    764702\n",
    "# True     764702\n",
    "# Name: count, dtype: int64\n",
    "# 1070582 "
   ]
  },
  {
   "cell_type": "markdown",
   "id": "927ab956",
   "metadata": {},
   "source": [
    "## XGboost"
   ]
  },
  {
   "cell_type": "code",
   "execution_count": 86,
   "id": "74fa963b-6596-4213-8b99-941a26659b31",
   "metadata": {},
   "outputs": [],
   "source": [
    "# Define the parameter grid\n",
    "param_grid = {\n",
    "    'max_depth': [3, 5, 7],\n",
    "    'learning_rate': [0.01, 0.1, 0.2],\n",
    "    'n_estimators': [100, 200, 300],\n",
    "    'subsample': [0.8, 1.0],\n",
    "    'colsample_bytree': [0.8, 1.0]\n",
    "}"
   ]
  },
  {
   "cell_type": "code",
   "execution_count": 87,
   "id": "000a91fb-4cbd-405b-a387-74bc611ef01f",
   "metadata": {},
   "outputs": [],
   "source": [
    "xgboost= XGBClassifier()"
   ]
  },
  {
   "cell_type": "code",
   "execution_count": 88,
   "id": "ca4283f1",
   "metadata": {},
   "outputs": [],
   "source": [
    "# Initialize GridSearchCV\n",
    "grid_search = GridSearchCV(xgboost, param_grid, scoring='roc_auc', n_jobs=-1, cv=5, verbose=3)"
   ]
  },
  {
   "cell_type": "code",
   "execution_count": 89,
   "id": "06dc968e",
   "metadata": {},
   "outputs": [
    {
     "name": "stdout",
     "output_type": "stream",
     "text": [
      "Fitting 5 folds for each of 108 candidates, totalling 540 fits\n"
     ]
    },
    {
     "data": {
      "text/html": [
       "<style>#sk-container-id-2 {color: black;}#sk-container-id-2 pre{padding: 0;}#sk-container-id-2 div.sk-toggleable {background-color: white;}#sk-container-id-2 label.sk-toggleable__label {cursor: pointer;display: block;width: 100%;margin-bottom: 0;padding: 0.3em;box-sizing: border-box;text-align: center;}#sk-container-id-2 label.sk-toggleable__label-arrow:before {content: \"▸\";float: left;margin-right: 0.25em;color: #696969;}#sk-container-id-2 label.sk-toggleable__label-arrow:hover:before {color: black;}#sk-container-id-2 div.sk-estimator:hover label.sk-toggleable__label-arrow:before {color: black;}#sk-container-id-2 div.sk-toggleable__content {max-height: 0;max-width: 0;overflow: hidden;text-align: left;background-color: #f0f8ff;}#sk-container-id-2 div.sk-toggleable__content pre {margin: 0.2em;color: black;border-radius: 0.25em;background-color: #f0f8ff;}#sk-container-id-2 input.sk-toggleable__control:checked~div.sk-toggleable__content {max-height: 200px;max-width: 100%;overflow: auto;}#sk-container-id-2 input.sk-toggleable__control:checked~label.sk-toggleable__label-arrow:before {content: \"▾\";}#sk-container-id-2 div.sk-estimator input.sk-toggleable__control:checked~label.sk-toggleable__label {background-color: #d4ebff;}#sk-container-id-2 div.sk-label input.sk-toggleable__control:checked~label.sk-toggleable__label {background-color: #d4ebff;}#sk-container-id-2 input.sk-hidden--visually {border: 0;clip: rect(1px 1px 1px 1px);clip: rect(1px, 1px, 1px, 1px);height: 1px;margin: -1px;overflow: hidden;padding: 0;position: absolute;width: 1px;}#sk-container-id-2 div.sk-estimator {font-family: monospace;background-color: #f0f8ff;border: 1px dotted black;border-radius: 0.25em;box-sizing: border-box;margin-bottom: 0.5em;}#sk-container-id-2 div.sk-estimator:hover {background-color: #d4ebff;}#sk-container-id-2 div.sk-parallel-item::after {content: \"\";width: 100%;border-bottom: 1px solid gray;flex-grow: 1;}#sk-container-id-2 div.sk-label:hover label.sk-toggleable__label {background-color: #d4ebff;}#sk-container-id-2 div.sk-serial::before {content: \"\";position: absolute;border-left: 1px solid gray;box-sizing: border-box;top: 0;bottom: 0;left: 50%;z-index: 0;}#sk-container-id-2 div.sk-serial {display: flex;flex-direction: column;align-items: center;background-color: white;padding-right: 0.2em;padding-left: 0.2em;position: relative;}#sk-container-id-2 div.sk-item {position: relative;z-index: 1;}#sk-container-id-2 div.sk-parallel {display: flex;align-items: stretch;justify-content: center;background-color: white;position: relative;}#sk-container-id-2 div.sk-item::before, #sk-container-id-2 div.sk-parallel-item::before {content: \"\";position: absolute;border-left: 1px solid gray;box-sizing: border-box;top: 0;bottom: 0;left: 50%;z-index: -1;}#sk-container-id-2 div.sk-parallel-item {display: flex;flex-direction: column;z-index: 1;position: relative;background-color: white;}#sk-container-id-2 div.sk-parallel-item:first-child::after {align-self: flex-end;width: 50%;}#sk-container-id-2 div.sk-parallel-item:last-child::after {align-self: flex-start;width: 50%;}#sk-container-id-2 div.sk-parallel-item:only-child::after {width: 0;}#sk-container-id-2 div.sk-dashed-wrapped {border: 1px dashed gray;margin: 0 0.4em 0.5em 0.4em;box-sizing: border-box;padding-bottom: 0.4em;background-color: white;}#sk-container-id-2 div.sk-label label {font-family: monospace;font-weight: bold;display: inline-block;line-height: 1.2em;}#sk-container-id-2 div.sk-label-container {text-align: center;}#sk-container-id-2 div.sk-container {/* jupyter's `normalize.less` sets `[hidden] { display: none; }` but bootstrap.min.css set `[hidden] { display: none !important; }` so we also need the `!important` here to be able to override the default hidden behavior on the sphinx rendered scikit-learn.org. See: https://github.com/scikit-learn/scikit-learn/issues/21755 */display: inline-block !important;position: relative;}#sk-container-id-2 div.sk-text-repr-fallback {display: none;}</style><div id=\"sk-container-id-2\" class=\"sk-top-container\"><div class=\"sk-text-repr-fallback\"><pre>GridSearchCV(cv=5,\n",
       "             estimator=XGBClassifier(base_score=None, booster=None,\n",
       "                                     callbacks=None, colsample_bylevel=None,\n",
       "                                     colsample_bynode=None,\n",
       "                                     colsample_bytree=None, device=None,\n",
       "                                     early_stopping_rounds=None,\n",
       "                                     enable_categorical=False, eval_metric=None,\n",
       "                                     feature_types=None, gamma=None,\n",
       "                                     grow_policy=None, importance_type=None,\n",
       "                                     interaction_constraints=None,\n",
       "                                     learning_rate=None,...\n",
       "                                     max_leaves=None, min_child_weight=None,\n",
       "                                     missing=nan, monotone_constraints=None,\n",
       "                                     multi_strategy=None, n_estimators=None,\n",
       "                                     n_jobs=None, num_parallel_tree=None,\n",
       "                                     random_state=None, ...),\n",
       "             n_jobs=-1,\n",
       "             param_grid={&#x27;colsample_bytree&#x27;: [0.8, 1.0],\n",
       "                         &#x27;learning_rate&#x27;: [0.01, 0.1, 0.2],\n",
       "                         &#x27;max_depth&#x27;: [3, 5, 7],\n",
       "                         &#x27;n_estimators&#x27;: [100, 200, 300],\n",
       "                         &#x27;subsample&#x27;: [0.8, 1.0]},\n",
       "             scoring=&#x27;roc_auc&#x27;, verbose=3)</pre><b>In a Jupyter environment, please rerun this cell to show the HTML representation or trust the notebook. <br />On GitHub, the HTML representation is unable to render, please try loading this page with nbviewer.org.</b></div><div class=\"sk-container\" hidden><div class=\"sk-item sk-dashed-wrapped\"><div class=\"sk-label-container\"><div class=\"sk-label sk-toggleable\"><input class=\"sk-toggleable__control sk-hidden--visually\" id=\"sk-estimator-id-2\" type=\"checkbox\" ><label for=\"sk-estimator-id-2\" class=\"sk-toggleable__label sk-toggleable__label-arrow\">GridSearchCV</label><div class=\"sk-toggleable__content\"><pre>GridSearchCV(cv=5,\n",
       "             estimator=XGBClassifier(base_score=None, booster=None,\n",
       "                                     callbacks=None, colsample_bylevel=None,\n",
       "                                     colsample_bynode=None,\n",
       "                                     colsample_bytree=None, device=None,\n",
       "                                     early_stopping_rounds=None,\n",
       "                                     enable_categorical=False, eval_metric=None,\n",
       "                                     feature_types=None, gamma=None,\n",
       "                                     grow_policy=None, importance_type=None,\n",
       "                                     interaction_constraints=None,\n",
       "                                     learning_rate=None,...\n",
       "                                     max_leaves=None, min_child_weight=None,\n",
       "                                     missing=nan, monotone_constraints=None,\n",
       "                                     multi_strategy=None, n_estimators=None,\n",
       "                                     n_jobs=None, num_parallel_tree=None,\n",
       "                                     random_state=None, ...),\n",
       "             n_jobs=-1,\n",
       "             param_grid={&#x27;colsample_bytree&#x27;: [0.8, 1.0],\n",
       "                         &#x27;learning_rate&#x27;: [0.01, 0.1, 0.2],\n",
       "                         &#x27;max_depth&#x27;: [3, 5, 7],\n",
       "                         &#x27;n_estimators&#x27;: [100, 200, 300],\n",
       "                         &#x27;subsample&#x27;: [0.8, 1.0]},\n",
       "             scoring=&#x27;roc_auc&#x27;, verbose=3)</pre></div></div></div><div class=\"sk-parallel\"><div class=\"sk-parallel-item\"><div class=\"sk-item\"><div class=\"sk-label-container\"><div class=\"sk-label sk-toggleable\"><input class=\"sk-toggleable__control sk-hidden--visually\" id=\"sk-estimator-id-3\" type=\"checkbox\" ><label for=\"sk-estimator-id-3\" class=\"sk-toggleable__label sk-toggleable__label-arrow\">estimator: XGBClassifier</label><div class=\"sk-toggleable__content\"><pre>XGBClassifier(base_score=None, booster=None, callbacks=None,\n",
       "              colsample_bylevel=None, colsample_bynode=None,\n",
       "              colsample_bytree=None, device=None, early_stopping_rounds=None,\n",
       "              enable_categorical=False, eval_metric=None, feature_types=None,\n",
       "              gamma=None, grow_policy=None, importance_type=None,\n",
       "              interaction_constraints=None, learning_rate=None, max_bin=None,\n",
       "              max_cat_threshold=None, max_cat_to_onehot=None,\n",
       "              max_delta_step=None, max_depth=None, max_leaves=None,\n",
       "              min_child_weight=None, missing=nan, monotone_constraints=None,\n",
       "              multi_strategy=None, n_estimators=None, n_jobs=None,\n",
       "              num_parallel_tree=None, random_state=None, ...)</pre></div></div></div><div class=\"sk-serial\"><div class=\"sk-item\"><div class=\"sk-estimator sk-toggleable\"><input class=\"sk-toggleable__control sk-hidden--visually\" id=\"sk-estimator-id-4\" type=\"checkbox\" ><label for=\"sk-estimator-id-4\" class=\"sk-toggleable__label sk-toggleable__label-arrow\">XGBClassifier</label><div class=\"sk-toggleable__content\"><pre>XGBClassifier(base_score=None, booster=None, callbacks=None,\n",
       "              colsample_bylevel=None, colsample_bynode=None,\n",
       "              colsample_bytree=None, device=None, early_stopping_rounds=None,\n",
       "              enable_categorical=False, eval_metric=None, feature_types=None,\n",
       "              gamma=None, grow_policy=None, importance_type=None,\n",
       "              interaction_constraints=None, learning_rate=None, max_bin=None,\n",
       "              max_cat_threshold=None, max_cat_to_onehot=None,\n",
       "              max_delta_step=None, max_depth=None, max_leaves=None,\n",
       "              min_child_weight=None, missing=nan, monotone_constraints=None,\n",
       "              multi_strategy=None, n_estimators=None, n_jobs=None,\n",
       "              num_parallel_tree=None, random_state=None, ...)</pre></div></div></div></div></div></div></div></div></div></div>"
      ],
      "text/plain": [
       "GridSearchCV(cv=5,\n",
       "             estimator=XGBClassifier(base_score=None, booster=None,\n",
       "                                     callbacks=None, colsample_bylevel=None,\n",
       "                                     colsample_bynode=None,\n",
       "                                     colsample_bytree=None, device=None,\n",
       "                                     early_stopping_rounds=None,\n",
       "                                     enable_categorical=False, eval_metric=None,\n",
       "                                     feature_types=None, gamma=None,\n",
       "                                     grow_policy=None, importance_type=None,\n",
       "                                     interaction_constraints=None,\n",
       "                                     learning_rate=None,...\n",
       "                                     max_leaves=None, min_child_weight=None,\n",
       "                                     missing=nan, monotone_constraints=None,\n",
       "                                     multi_strategy=None, n_estimators=None,\n",
       "                                     n_jobs=None, num_parallel_tree=None,\n",
       "                                     random_state=None, ...),\n",
       "             n_jobs=-1,\n",
       "             param_grid={'colsample_bytree': [0.8, 1.0],\n",
       "                         'learning_rate': [0.01, 0.1, 0.2],\n",
       "                         'max_depth': [3, 5, 7],\n",
       "                         'n_estimators': [100, 200, 300],\n",
       "                         'subsample': [0.8, 1.0]},\n",
       "             scoring='roc_auc', verbose=3)"
      ]
     },
     "execution_count": 89,
     "metadata": {},
     "output_type": "execute_result"
    }
   ],
   "source": [
    "# Fit the model\n",
    "grid_search.fit(X_train, y_train)"
   ]
  },
  {
   "cell_type": "code",
   "execution_count": 90,
   "id": "d49857b2",
   "metadata": {},
   "outputs": [
    {
     "name": "stdout",
     "output_type": "stream",
     "text": [
      "XGBClassifier(base_score=None, booster=None, callbacks=None,\n",
      "              colsample_bylevel=None, colsample_bynode=None,\n",
      "              colsample_bytree=1.0, device=None, early_stopping_rounds=None,\n",
      "              enable_categorical=False, eval_metric=None, feature_types=None,\n",
      "              gamma=None, grow_policy=None, importance_type=None,\n",
      "              interaction_constraints=None, learning_rate=0.2, max_bin=None,\n",
      "              max_cat_threshold=None, max_cat_to_onehot=None,\n",
      "              max_delta_step=None, max_depth=7, max_leaves=None,\n",
      "              min_child_weight=None, missing=nan, monotone_constraints=None,\n",
      "              multi_strategy=None, n_estimators=300, n_jobs=None,\n",
      "              num_parallel_tree=None, random_state=None, ...)\n"
     ]
    }
   ],
   "source": [
    "# Train with the best parameters\n",
    "best_xgb_model = grid_search.best_estimator_\n",
    "print(best_xgb_model)"
   ]
  },
  {
   "cell_type": "code",
   "execution_count": 91,
   "id": "a2688b6e",
   "metadata": {},
   "outputs": [
    {
     "data": {
      "text/plain": [
       "array([0, 0, 0, ..., 0, 1, 0])"
      ]
     },
     "execution_count": 91,
     "metadata": {},
     "output_type": "execute_result"
    }
   ],
   "source": [
    "y_pred = best_xgb_model.predict(X_test)\n",
    "y_pred"
   ]
  },
  {
   "cell_type": "code",
   "execution_count": 92,
   "id": "eefc5298",
   "metadata": {},
   "outputs": [
    {
     "name": "stdout",
     "output_type": "stream",
     "text": [
      "Best Parameters: {'colsample_bytree': 1.0, 'learning_rate': 0.2, 'max_depth': 7, 'n_estimators': 300, 'subsample': 0.8}\n"
     ]
    }
   ],
   "source": [
    "# Best parameters\n",
    "print(\"Best Parameters:\", grid_search.best_params_)\n"
   ]
  },
  {
   "cell_type": "code",
   "execution_count": 93,
   "id": "7c7dac60",
   "metadata": {},
   "outputs": [
    {
     "name": "stdout",
     "output_type": "stream",
     "text": [
      "Tuned Model Accuracy: 0.9868914820336195\n"
     ]
    }
   ],
   "source": [
    "# Evaluate the tuned model\n",
    "print(\"Tuned Model Accuracy:\", accuracy_score(y_test, y_pred))"
   ]
  },
  {
   "cell_type": "markdown",
   "id": "f5bf1f38",
   "metadata": {},
   "source": [
    "## Save a Model to Pickel File "
   ]
  },
  {
   "cell_type": "code",
   "execution_count": 94,
   "id": "43a6ffce",
   "metadata": {},
   "outputs": [],
   "source": [
    "import pickle"
   ]
  },
  {
   "cell_type": "code",
   "execution_count": 100,
   "id": "2743fc64",
   "metadata": {},
   "outputs": [],
   "source": [
    "with open(r'D:\\transactions\\XGboost_Fraud_Detection_model.pkl','wb') as file:\n",
    "    pickle.dump(grid_search,file)"
   ]
  },
  {
   "cell_type": "markdown",
   "id": "0e6d6846",
   "metadata": {},
   "source": [
    "## Load a xgboost_customer_churn_model.pkl"
   ]
  },
  {
   "cell_type": "code",
   "execution_count": 101,
   "id": "a4df6637",
   "metadata": {},
   "outputs": [],
   "source": [
    "with open(r'D:\\transactions\\XGboost_Fraud_Detection_model.pkl','rb') as file:\n",
    "    loaded_model=pickle.load(file)"
   ]
  },
  {
   "cell_type": "code",
   "execution_count": 102,
   "id": "cbcc1195",
   "metadata": {
    "scrolled": true
   },
   "outputs": [
    {
     "data": {
      "text/plain": [
       "array([0, 0, 0, ..., 0, 1, 0])"
      ]
     },
     "execution_count": 102,
     "metadata": {},
     "output_type": "execute_result"
    }
   ],
   "source": [
    "loaded_model.predict(X_test)"
   ]
  },
  {
   "cell_type": "code",
   "execution_count": 98,
   "id": "09c7b5cb",
   "metadata": {},
   "outputs": [
    {
     "data": {
      "text/html": [
       "<div>\n",
       "<style scoped>\n",
       "    .dataframe tbody tr th:only-of-type {\n",
       "        vertical-align: middle;\n",
       "    }\n",
       "\n",
       "    .dataframe tbody tr th {\n",
       "        vertical-align: top;\n",
       "    }\n",
       "\n",
       "    .dataframe thead th {\n",
       "        text-align: right;\n",
       "    }\n",
       "</style>\n",
       "<table border=\"1\" class=\"dataframe\">\n",
       "  <thead>\n",
       "    <tr style=\"text-align: right;\">\n",
       "      <th></th>\n",
       "      <th>creditLimit</th>\n",
       "      <th>availableMoney</th>\n",
       "      <th>transactionAmount</th>\n",
       "      <th>merchantName</th>\n",
       "      <th>acqCountry</th>\n",
       "      <th>merchantCountryCode</th>\n",
       "      <th>posEntryMode</th>\n",
       "      <th>posConditionCode</th>\n",
       "      <th>merchantCategoryCode</th>\n",
       "      <th>cardCVV</th>\n",
       "      <th>enteredCVV</th>\n",
       "      <th>cardLast4Digits</th>\n",
       "      <th>transactionType</th>\n",
       "      <th>currentBalance</th>\n",
       "      <th>cardPresent</th>\n",
       "      <th>expirationDateKeyInMatch</th>\n",
       "      <th>isFraud</th>\n",
       "      <th>daysSinceLastAddressChange</th>\n",
       "      <th>transactionHour</th>\n",
       "      <th>transactionDayOfWeek</th>\n",
       "      <th>accountAgeDays</th>\n",
       "      <th>expMonth</th>\n",
       "      <th>expYear</th>\n",
       "      <th>monthsToExpiry</th>\n",
       "    </tr>\n",
       "  </thead>\n",
       "  <tbody>\n",
       "    <tr>\n",
       "      <th>297484</th>\n",
       "      <td>5000</td>\n",
       "      <td>759.27</td>\n",
       "      <td>141.75</td>\n",
       "      <td>2100</td>\n",
       "      <td>3</td>\n",
       "      <td>3</td>\n",
       "      <td>1</td>\n",
       "      <td>0</td>\n",
       "      <td>5</td>\n",
       "      <td>557</td>\n",
       "      <td>556</td>\n",
       "      <td>1510</td>\n",
       "      <td>1</td>\n",
       "      <td>4240.73</td>\n",
       "      <td>True</td>\n",
       "      <td>False</td>\n",
       "      <td>False</td>\n",
       "      <td>253</td>\n",
       "      <td>22</td>\n",
       "      <td>3</td>\n",
       "      <td>1519</td>\n",
       "      <td>9</td>\n",
       "      <td>4026</td>\n",
       "      <td>24117</td>\n",
       "    </tr>\n",
       "    <tr>\n",
       "      <th>646589</th>\n",
       "      <td>250</td>\n",
       "      <td>-14.56</td>\n",
       "      <td>43.18</td>\n",
       "      <td>2029</td>\n",
       "      <td>3</td>\n",
       "      <td>3</td>\n",
       "      <td>1</td>\n",
       "      <td>0</td>\n",
       "      <td>7</td>\n",
       "      <td>575</td>\n",
       "      <td>575</td>\n",
       "      <td>6631</td>\n",
       "      <td>1</td>\n",
       "      <td>264.56</td>\n",
       "      <td>True</td>\n",
       "      <td>False</td>\n",
       "      <td>False</td>\n",
       "      <td>820</td>\n",
       "      <td>18</td>\n",
       "      <td>2</td>\n",
       "      <td>820</td>\n",
       "      <td>12</td>\n",
       "      <td>4021</td>\n",
       "      <td>24061</td>\n",
       "    </tr>\n",
       "    <tr>\n",
       "      <th>319743</th>\n",
       "      <td>20000</td>\n",
       "      <td>15325.03</td>\n",
       "      <td>144.66</td>\n",
       "      <td>401</td>\n",
       "      <td>3</td>\n",
       "      <td>3</td>\n",
       "      <td>2</td>\n",
       "      <td>0</td>\n",
       "      <td>4</td>\n",
       "      <td>204</td>\n",
       "      <td>204</td>\n",
       "      <td>3581</td>\n",
       "      <td>1</td>\n",
       "      <td>4674.97</td>\n",
       "      <td>True</td>\n",
       "      <td>False</td>\n",
       "      <td>False</td>\n",
       "      <td>313</td>\n",
       "      <td>17</td>\n",
       "      <td>4</td>\n",
       "      <td>313</td>\n",
       "      <td>9</td>\n",
       "      <td>4027</td>\n",
       "      <td>24140</td>\n",
       "    </tr>\n",
       "    <tr>\n",
       "      <th>713942</th>\n",
       "      <td>5000</td>\n",
       "      <td>3903.14</td>\n",
       "      <td>112.12</td>\n",
       "      <td>528</td>\n",
       "      <td>3</td>\n",
       "      <td>3</td>\n",
       "      <td>0</td>\n",
       "      <td>0</td>\n",
       "      <td>3</td>\n",
       "      <td>486</td>\n",
       "      <td>486</td>\n",
       "      <td>9619</td>\n",
       "      <td>1</td>\n",
       "      <td>1096.86</td>\n",
       "      <td>True</td>\n",
       "      <td>False</td>\n",
       "      <td>False</td>\n",
       "      <td>776</td>\n",
       "      <td>3</td>\n",
       "      <td>3</td>\n",
       "      <td>776</td>\n",
       "      <td>6</td>\n",
       "      <td>4023</td>\n",
       "      <td>24082</td>\n",
       "    </tr>\n",
       "    <tr>\n",
       "      <th>429181</th>\n",
       "      <td>5000</td>\n",
       "      <td>1089.20</td>\n",
       "      <td>121.43</td>\n",
       "      <td>2431</td>\n",
       "      <td>3</td>\n",
       "      <td>3</td>\n",
       "      <td>0</td>\n",
       "      <td>0</td>\n",
       "      <td>14</td>\n",
       "      <td>917</td>\n",
       "      <td>917</td>\n",
       "      <td>2178</td>\n",
       "      <td>1</td>\n",
       "      <td>3910.80</td>\n",
       "      <td>False</td>\n",
       "      <td>False</td>\n",
       "      <td>False</td>\n",
       "      <td>1</td>\n",
       "      <td>23</td>\n",
       "      <td>3</td>\n",
       "      <td>466</td>\n",
       "      <td>8</td>\n",
       "      <td>4022</td>\n",
       "      <td>24074</td>\n",
       "    </tr>\n",
       "  </tbody>\n",
       "</table>\n",
       "</div>"
      ],
      "text/plain": [
       "        creditLimit  availableMoney  transactionAmount  merchantName  \\\n",
       "297484         5000          759.27             141.75          2100   \n",
       "646589          250          -14.56              43.18          2029   \n",
       "319743        20000        15325.03             144.66           401   \n",
       "713942         5000         3903.14             112.12           528   \n",
       "429181         5000         1089.20             121.43          2431   \n",
       "\n",
       "        acqCountry  merchantCountryCode  posEntryMode  posConditionCode  \\\n",
       "297484           3                    3             1                 0   \n",
       "646589           3                    3             1                 0   \n",
       "319743           3                    3             2                 0   \n",
       "713942           3                    3             0                 0   \n",
       "429181           3                    3             0                 0   \n",
       "\n",
       "        merchantCategoryCode  cardCVV  enteredCVV  cardLast4Digits  \\\n",
       "297484                     5      557         556             1510   \n",
       "646589                     7      575         575             6631   \n",
       "319743                     4      204         204             3581   \n",
       "713942                     3      486         486             9619   \n",
       "429181                    14      917         917             2178   \n",
       "\n",
       "        transactionType  currentBalance  cardPresent  \\\n",
       "297484                1         4240.73         True   \n",
       "646589                1          264.56         True   \n",
       "319743                1         4674.97         True   \n",
       "713942                1         1096.86         True   \n",
       "429181                1         3910.80        False   \n",
       "\n",
       "        expirationDateKeyInMatch  isFraud  daysSinceLastAddressChange  \\\n",
       "297484                     False    False                         253   \n",
       "646589                     False    False                         820   \n",
       "319743                     False    False                         313   \n",
       "713942                     False    False                         776   \n",
       "429181                     False    False                           1   \n",
       "\n",
       "        transactionHour  transactionDayOfWeek  accountAgeDays  expMonth  \\\n",
       "297484               22                     3            1519         9   \n",
       "646589               18                     2             820        12   \n",
       "319743               17                     4             313         9   \n",
       "713942                3                     3             776         6   \n",
       "429181               23                     3             466         8   \n",
       "\n",
       "        expYear  monthsToExpiry  \n",
       "297484     4026           24117  \n",
       "646589     4021           24061  \n",
       "319743     4027           24140  \n",
       "713942     4023           24082  \n",
       "429181     4022           24074  "
      ]
     },
     "execution_count": 98,
     "metadata": {},
     "output_type": "execute_result"
    }
   ],
   "source": [
    "df.head()"
   ]
  },
  {
   "cell_type": "code",
   "execution_count": 103,
   "id": "9dd48485",
   "metadata": {},
   "outputs": [
    {
     "data": {
      "text/plain": [
       "array([0])"
      ]
     },
     "execution_count": 103,
     "metadata": {},
     "output_type": "execute_result"
    }
   ],
   "source": [
    "loaded_model.predict([[5000,759.27,141.75,2100,3,3,1,0,5,557,556,1510,1,4240.73,True,False,253,22,3,1519,9,4026,24117]])"
   ]
  },
  {
   "cell_type": "code",
   "execution_count": null,
   "id": "a8701418",
   "metadata": {},
   "outputs": [],
   "source": []
  }
 ],
 "metadata": {
  "kernelspec": {
   "display_name": "Python 3 (ipykernel)",
   "language": "python",
   "name": "python3"
  },
  "language_info": {
   "codemirror_mode": {
    "name": "ipython",
    "version": 3
   },
   "file_extension": ".py",
   "mimetype": "text/x-python",
   "name": "python",
   "nbconvert_exporter": "python",
   "pygments_lexer": "ipython3",
   "version": "3.11.5"
  }
 },
 "nbformat": 4,
 "nbformat_minor": 5
}
