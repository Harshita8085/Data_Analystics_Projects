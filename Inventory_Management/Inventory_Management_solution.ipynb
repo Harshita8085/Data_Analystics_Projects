{
 "cells": [
  {
   "cell_type": "code",
   "execution_count": 1,
   "id": "d3948437",
   "metadata": {},
   "outputs": [],
   "source": [
    "import pandas as pd\n",
    "import numpy as np\n",
    "import matplotlib.pyplot as plt \n",
    "import seaborn as sns \n",
    "import warnings\n",
    "warnings.filterwarnings('ignore')\n",
    "from sklearn.cluster import KMeans\n",
    "from sklearn.preprocessing import OrdinalEncoder,LabelEncoder\n",
    "from sklearn.preprocessing import StandardScaler\n"
   ]
  },
  {
   "cell_type": "code",
   "execution_count": 2,
   "id": "00551085",
   "metadata": {},
   "outputs": [],
   "source": [
    "df=pd.read_csv(r'C:\\Users\\ASUS\\Desktop\\PythonProjects\\8_important_projects\\Inventory_Management\\Data_set\\sales_data_sample.csv',encoding='ISO-8859-1')"
   ]
  },
  {
   "cell_type": "code",
   "execution_count": 3,
   "id": "e3e98a85",
   "metadata": {},
   "outputs": [
    {
     "data": {
      "text/html": [
       "<div>\n",
       "<style scoped>\n",
       "    .dataframe tbody tr th:only-of-type {\n",
       "        vertical-align: middle;\n",
       "    }\n",
       "\n",
       "    .dataframe tbody tr th {\n",
       "        vertical-align: top;\n",
       "    }\n",
       "\n",
       "    .dataframe thead th {\n",
       "        text-align: right;\n",
       "    }\n",
       "</style>\n",
       "<table border=\"1\" class=\"dataframe\">\n",
       "  <thead>\n",
       "    <tr style=\"text-align: right;\">\n",
       "      <th></th>\n",
       "      <th>ORDERNUMBER</th>\n",
       "      <th>QUANTITYORDERED</th>\n",
       "      <th>PRICEEACH</th>\n",
       "      <th>ORDERLINENUMBER</th>\n",
       "      <th>SALES</th>\n",
       "      <th>ORDERDATE</th>\n",
       "      <th>STATUS</th>\n",
       "      <th>QTR_ID</th>\n",
       "      <th>MONTH_ID</th>\n",
       "      <th>YEAR_ID</th>\n",
       "      <th>...</th>\n",
       "      <th>ADDRESSLINE1</th>\n",
       "      <th>ADDRESSLINE2</th>\n",
       "      <th>CITY</th>\n",
       "      <th>STATE</th>\n",
       "      <th>POSTALCODE</th>\n",
       "      <th>COUNTRY</th>\n",
       "      <th>TERRITORY</th>\n",
       "      <th>CONTACTLASTNAME</th>\n",
       "      <th>CONTACTFIRSTNAME</th>\n",
       "      <th>DEALSIZE</th>\n",
       "    </tr>\n",
       "  </thead>\n",
       "  <tbody>\n",
       "    <tr>\n",
       "      <th>0</th>\n",
       "      <td>10107</td>\n",
       "      <td>30</td>\n",
       "      <td>95.70</td>\n",
       "      <td>2</td>\n",
       "      <td>2871.00</td>\n",
       "      <td>2/24/2003 0:00</td>\n",
       "      <td>Shipped</td>\n",
       "      <td>1</td>\n",
       "      <td>2</td>\n",
       "      <td>2003</td>\n",
       "      <td>...</td>\n",
       "      <td>897 Long Airport Avenue</td>\n",
       "      <td>NaN</td>\n",
       "      <td>NYC</td>\n",
       "      <td>NY</td>\n",
       "      <td>10022</td>\n",
       "      <td>USA</td>\n",
       "      <td>NaN</td>\n",
       "      <td>Yu</td>\n",
       "      <td>Kwai</td>\n",
       "      <td>Small</td>\n",
       "    </tr>\n",
       "    <tr>\n",
       "      <th>1</th>\n",
       "      <td>10121</td>\n",
       "      <td>34</td>\n",
       "      <td>81.35</td>\n",
       "      <td>5</td>\n",
       "      <td>2765.90</td>\n",
       "      <td>5/7/2003 0:00</td>\n",
       "      <td>Shipped</td>\n",
       "      <td>2</td>\n",
       "      <td>5</td>\n",
       "      <td>2003</td>\n",
       "      <td>...</td>\n",
       "      <td>59 rue de l'Abbaye</td>\n",
       "      <td>NaN</td>\n",
       "      <td>Reims</td>\n",
       "      <td>NaN</td>\n",
       "      <td>51100</td>\n",
       "      <td>France</td>\n",
       "      <td>EMEA</td>\n",
       "      <td>Henriot</td>\n",
       "      <td>Paul</td>\n",
       "      <td>Small</td>\n",
       "    </tr>\n",
       "    <tr>\n",
       "      <th>2</th>\n",
       "      <td>10134</td>\n",
       "      <td>41</td>\n",
       "      <td>94.74</td>\n",
       "      <td>2</td>\n",
       "      <td>3884.34</td>\n",
       "      <td>7/1/2003 0:00</td>\n",
       "      <td>Shipped</td>\n",
       "      <td>3</td>\n",
       "      <td>7</td>\n",
       "      <td>2003</td>\n",
       "      <td>...</td>\n",
       "      <td>27 rue du Colonel Pierre Avia</td>\n",
       "      <td>NaN</td>\n",
       "      <td>Paris</td>\n",
       "      <td>NaN</td>\n",
       "      <td>75508</td>\n",
       "      <td>France</td>\n",
       "      <td>EMEA</td>\n",
       "      <td>Da Cunha</td>\n",
       "      <td>Daniel</td>\n",
       "      <td>Medium</td>\n",
       "    </tr>\n",
       "    <tr>\n",
       "      <th>3</th>\n",
       "      <td>10145</td>\n",
       "      <td>45</td>\n",
       "      <td>83.26</td>\n",
       "      <td>6</td>\n",
       "      <td>3746.70</td>\n",
       "      <td>8/25/2003 0:00</td>\n",
       "      <td>Shipped</td>\n",
       "      <td>3</td>\n",
       "      <td>8</td>\n",
       "      <td>2003</td>\n",
       "      <td>...</td>\n",
       "      <td>78934 Hillside Dr.</td>\n",
       "      <td>NaN</td>\n",
       "      <td>Pasadena</td>\n",
       "      <td>CA</td>\n",
       "      <td>90003</td>\n",
       "      <td>USA</td>\n",
       "      <td>NaN</td>\n",
       "      <td>Young</td>\n",
       "      <td>Julie</td>\n",
       "      <td>Medium</td>\n",
       "    </tr>\n",
       "    <tr>\n",
       "      <th>4</th>\n",
       "      <td>10159</td>\n",
       "      <td>49</td>\n",
       "      <td>100.00</td>\n",
       "      <td>14</td>\n",
       "      <td>5205.27</td>\n",
       "      <td>10/10/2003 0:00</td>\n",
       "      <td>Shipped</td>\n",
       "      <td>4</td>\n",
       "      <td>10</td>\n",
       "      <td>2003</td>\n",
       "      <td>...</td>\n",
       "      <td>7734 Strong St.</td>\n",
       "      <td>NaN</td>\n",
       "      <td>San Francisco</td>\n",
       "      <td>CA</td>\n",
       "      <td>NaN</td>\n",
       "      <td>USA</td>\n",
       "      <td>NaN</td>\n",
       "      <td>Brown</td>\n",
       "      <td>Julie</td>\n",
       "      <td>Medium</td>\n",
       "    </tr>\n",
       "  </tbody>\n",
       "</table>\n",
       "<p>5 rows × 25 columns</p>\n",
       "</div>"
      ],
      "text/plain": [
       "   ORDERNUMBER  QUANTITYORDERED  PRICEEACH  ORDERLINENUMBER    SALES  \\\n",
       "0        10107               30      95.70                2  2871.00   \n",
       "1        10121               34      81.35                5  2765.90   \n",
       "2        10134               41      94.74                2  3884.34   \n",
       "3        10145               45      83.26                6  3746.70   \n",
       "4        10159               49     100.00               14  5205.27   \n",
       "\n",
       "         ORDERDATE   STATUS  QTR_ID  MONTH_ID  YEAR_ID  ...  \\\n",
       "0   2/24/2003 0:00  Shipped       1         2     2003  ...   \n",
       "1    5/7/2003 0:00  Shipped       2         5     2003  ...   \n",
       "2    7/1/2003 0:00  Shipped       3         7     2003  ...   \n",
       "3   8/25/2003 0:00  Shipped       3         8     2003  ...   \n",
       "4  10/10/2003 0:00  Shipped       4        10     2003  ...   \n",
       "\n",
       "                    ADDRESSLINE1  ADDRESSLINE2           CITY STATE  \\\n",
       "0        897 Long Airport Avenue           NaN            NYC    NY   \n",
       "1             59 rue de l'Abbaye           NaN          Reims   NaN   \n",
       "2  27 rue du Colonel Pierre Avia           NaN          Paris   NaN   \n",
       "3             78934 Hillside Dr.           NaN       Pasadena    CA   \n",
       "4                7734 Strong St.           NaN  San Francisco    CA   \n",
       "\n",
       "  POSTALCODE COUNTRY TERRITORY CONTACTLASTNAME CONTACTFIRSTNAME DEALSIZE  \n",
       "0      10022     USA       NaN              Yu             Kwai    Small  \n",
       "1      51100  France      EMEA         Henriot             Paul    Small  \n",
       "2      75508  France      EMEA        Da Cunha           Daniel   Medium  \n",
       "3      90003     USA       NaN           Young            Julie   Medium  \n",
       "4        NaN     USA       NaN           Brown            Julie   Medium  \n",
       "\n",
       "[5 rows x 25 columns]"
      ]
     },
     "execution_count": 3,
     "metadata": {},
     "output_type": "execute_result"
    }
   ],
   "source": [
    "df.head()"
   ]
  },
  {
   "cell_type": "code",
   "execution_count": 4,
   "id": "90cbcb32",
   "metadata": {},
   "outputs": [
    {
     "name": "stdout",
     "output_type": "stream",
     "text": [
      "<class 'pandas.core.frame.DataFrame'>\n",
      "RangeIndex: 2823 entries, 0 to 2822\n",
      "Data columns (total 25 columns):\n",
      " #   Column            Non-Null Count  Dtype  \n",
      "---  ------            --------------  -----  \n",
      " 0   ORDERNUMBER       2823 non-null   int64  \n",
      " 1   QUANTITYORDERED   2823 non-null   int64  \n",
      " 2   PRICEEACH         2823 non-null   float64\n",
      " 3   ORDERLINENUMBER   2823 non-null   int64  \n",
      " 4   SALES             2823 non-null   float64\n",
      " 5   ORDERDATE         2823 non-null   object \n",
      " 6   STATUS            2823 non-null   object \n",
      " 7   QTR_ID            2823 non-null   int64  \n",
      " 8   MONTH_ID          2823 non-null   int64  \n",
      " 9   YEAR_ID           2823 non-null   int64  \n",
      " 10  PRODUCTLINE       2823 non-null   object \n",
      " 11  MSRP              2823 non-null   int64  \n",
      " 12  PRODUCTCODE       2823 non-null   object \n",
      " 13  CUSTOMERNAME      2823 non-null   object \n",
      " 14  PHONE             2823 non-null   object \n",
      " 15  ADDRESSLINE1      2823 non-null   object \n",
      " 16  ADDRESSLINE2      302 non-null    object \n",
      " 17  CITY              2823 non-null   object \n",
      " 18  STATE             1337 non-null   object \n",
      " 19  POSTALCODE        2747 non-null   object \n",
      " 20  COUNTRY           2823 non-null   object \n",
      " 21  TERRITORY         1749 non-null   object \n",
      " 22  CONTACTLASTNAME   2823 non-null   object \n",
      " 23  CONTACTFIRSTNAME  2823 non-null   object \n",
      " 24  DEALSIZE          2823 non-null   object \n",
      "dtypes: float64(2), int64(7), object(16)\n",
      "memory usage: 551.5+ KB\n"
     ]
    }
   ],
   "source": [
    "df.info()\n"
   ]
  },
  {
   "cell_type": "code",
   "execution_count": 5,
   "id": "14d126e1",
   "metadata": {},
   "outputs": [
    {
     "data": {
      "text/html": [
       "<div>\n",
       "<style scoped>\n",
       "    .dataframe tbody tr th:only-of-type {\n",
       "        vertical-align: middle;\n",
       "    }\n",
       "\n",
       "    .dataframe tbody tr th {\n",
       "        vertical-align: top;\n",
       "    }\n",
       "\n",
       "    .dataframe thead th {\n",
       "        text-align: right;\n",
       "    }\n",
       "</style>\n",
       "<table border=\"1\" class=\"dataframe\">\n",
       "  <thead>\n",
       "    <tr style=\"text-align: right;\">\n",
       "      <th></th>\n",
       "      <th>ORDERNUMBER</th>\n",
       "      <th>QUANTITYORDERED</th>\n",
       "      <th>PRICEEACH</th>\n",
       "      <th>ORDERLINENUMBER</th>\n",
       "      <th>SALES</th>\n",
       "      <th>QTR_ID</th>\n",
       "      <th>MONTH_ID</th>\n",
       "      <th>YEAR_ID</th>\n",
       "      <th>MSRP</th>\n",
       "    </tr>\n",
       "  </thead>\n",
       "  <tbody>\n",
       "    <tr>\n",
       "      <th>count</th>\n",
       "      <td>2823.000000</td>\n",
       "      <td>2823.000000</td>\n",
       "      <td>2823.000000</td>\n",
       "      <td>2823.000000</td>\n",
       "      <td>2823.000000</td>\n",
       "      <td>2823.000000</td>\n",
       "      <td>2823.000000</td>\n",
       "      <td>2823.00000</td>\n",
       "      <td>2823.000000</td>\n",
       "    </tr>\n",
       "    <tr>\n",
       "      <th>mean</th>\n",
       "      <td>10258.725115</td>\n",
       "      <td>35.092809</td>\n",
       "      <td>83.658544</td>\n",
       "      <td>6.466171</td>\n",
       "      <td>3553.889072</td>\n",
       "      <td>2.717676</td>\n",
       "      <td>7.092455</td>\n",
       "      <td>2003.81509</td>\n",
       "      <td>100.715551</td>\n",
       "    </tr>\n",
       "    <tr>\n",
       "      <th>std</th>\n",
       "      <td>92.085478</td>\n",
       "      <td>9.741443</td>\n",
       "      <td>20.174277</td>\n",
       "      <td>4.225841</td>\n",
       "      <td>1841.865106</td>\n",
       "      <td>1.203878</td>\n",
       "      <td>3.656633</td>\n",
       "      <td>0.69967</td>\n",
       "      <td>40.187912</td>\n",
       "    </tr>\n",
       "    <tr>\n",
       "      <th>min</th>\n",
       "      <td>10100.000000</td>\n",
       "      <td>6.000000</td>\n",
       "      <td>26.880000</td>\n",
       "      <td>1.000000</td>\n",
       "      <td>482.130000</td>\n",
       "      <td>1.000000</td>\n",
       "      <td>1.000000</td>\n",
       "      <td>2003.00000</td>\n",
       "      <td>33.000000</td>\n",
       "    </tr>\n",
       "    <tr>\n",
       "      <th>25%</th>\n",
       "      <td>10180.000000</td>\n",
       "      <td>27.000000</td>\n",
       "      <td>68.860000</td>\n",
       "      <td>3.000000</td>\n",
       "      <td>2203.430000</td>\n",
       "      <td>2.000000</td>\n",
       "      <td>4.000000</td>\n",
       "      <td>2003.00000</td>\n",
       "      <td>68.000000</td>\n",
       "    </tr>\n",
       "    <tr>\n",
       "      <th>50%</th>\n",
       "      <td>10262.000000</td>\n",
       "      <td>35.000000</td>\n",
       "      <td>95.700000</td>\n",
       "      <td>6.000000</td>\n",
       "      <td>3184.800000</td>\n",
       "      <td>3.000000</td>\n",
       "      <td>8.000000</td>\n",
       "      <td>2004.00000</td>\n",
       "      <td>99.000000</td>\n",
       "    </tr>\n",
       "    <tr>\n",
       "      <th>75%</th>\n",
       "      <td>10333.500000</td>\n",
       "      <td>43.000000</td>\n",
       "      <td>100.000000</td>\n",
       "      <td>9.000000</td>\n",
       "      <td>4508.000000</td>\n",
       "      <td>4.000000</td>\n",
       "      <td>11.000000</td>\n",
       "      <td>2004.00000</td>\n",
       "      <td>124.000000</td>\n",
       "    </tr>\n",
       "    <tr>\n",
       "      <th>max</th>\n",
       "      <td>10425.000000</td>\n",
       "      <td>97.000000</td>\n",
       "      <td>100.000000</td>\n",
       "      <td>18.000000</td>\n",
       "      <td>14082.800000</td>\n",
       "      <td>4.000000</td>\n",
       "      <td>12.000000</td>\n",
       "      <td>2005.00000</td>\n",
       "      <td>214.000000</td>\n",
       "    </tr>\n",
       "  </tbody>\n",
       "</table>\n",
       "</div>"
      ],
      "text/plain": [
       "        ORDERNUMBER  QUANTITYORDERED    PRICEEACH  ORDERLINENUMBER  \\\n",
       "count   2823.000000      2823.000000  2823.000000      2823.000000   \n",
       "mean   10258.725115        35.092809    83.658544         6.466171   \n",
       "std       92.085478         9.741443    20.174277         4.225841   \n",
       "min    10100.000000         6.000000    26.880000         1.000000   \n",
       "25%    10180.000000        27.000000    68.860000         3.000000   \n",
       "50%    10262.000000        35.000000    95.700000         6.000000   \n",
       "75%    10333.500000        43.000000   100.000000         9.000000   \n",
       "max    10425.000000        97.000000   100.000000        18.000000   \n",
       "\n",
       "              SALES       QTR_ID     MONTH_ID     YEAR_ID         MSRP  \n",
       "count   2823.000000  2823.000000  2823.000000  2823.00000  2823.000000  \n",
       "mean    3553.889072     2.717676     7.092455  2003.81509   100.715551  \n",
       "std     1841.865106     1.203878     3.656633     0.69967    40.187912  \n",
       "min      482.130000     1.000000     1.000000  2003.00000    33.000000  \n",
       "25%     2203.430000     2.000000     4.000000  2003.00000    68.000000  \n",
       "50%     3184.800000     3.000000     8.000000  2004.00000    99.000000  \n",
       "75%     4508.000000     4.000000    11.000000  2004.00000   124.000000  \n",
       "max    14082.800000     4.000000    12.000000  2005.00000   214.000000  "
      ]
     },
     "execution_count": 5,
     "metadata": {},
     "output_type": "execute_result"
    }
   ],
   "source": [
    "df.describe()"
   ]
  },
  {
   "cell_type": "code",
   "execution_count": 6,
   "id": "2ab07697",
   "metadata": {},
   "outputs": [
    {
     "data": {
      "text/plain": [
       "(2823, 25)"
      ]
     },
     "execution_count": 6,
     "metadata": {},
     "output_type": "execute_result"
    }
   ],
   "source": [
    "df.shape"
   ]
  },
  {
   "cell_type": "code",
   "execution_count": 7,
   "id": "83f1e8ca",
   "metadata": {},
   "outputs": [
    {
     "data": {
      "text/plain": [
       "ORDERNUMBER            0\n",
       "QUANTITYORDERED        0\n",
       "PRICEEACH              0\n",
       "ORDERLINENUMBER        0\n",
       "SALES                  0\n",
       "ORDERDATE              0\n",
       "STATUS                 0\n",
       "QTR_ID                 0\n",
       "MONTH_ID               0\n",
       "YEAR_ID                0\n",
       "PRODUCTLINE            0\n",
       "MSRP                   0\n",
       "PRODUCTCODE            0\n",
       "CUSTOMERNAME           0\n",
       "PHONE                  0\n",
       "ADDRESSLINE1           0\n",
       "ADDRESSLINE2        2521\n",
       "CITY                   0\n",
       "STATE               1486\n",
       "POSTALCODE            76\n",
       "COUNTRY                0\n",
       "TERRITORY           1074\n",
       "CONTACTLASTNAME        0\n",
       "CONTACTFIRSTNAME       0\n",
       "DEALSIZE               0\n",
       "dtype: int64"
      ]
     },
     "execution_count": 7,
     "metadata": {},
     "output_type": "execute_result"
    }
   ],
   "source": [
    "df.isnull().sum()"
   ]
  },
  {
   "cell_type": "code",
   "execution_count": 8,
   "id": "083f913d",
   "metadata": {},
   "outputs": [
    {
     "data": {
      "text/plain": [
       "ORDERNUMBER          0.000000\n",
       "QUANTITYORDERED      0.000000\n",
       "PRICEEACH            0.000000\n",
       "ORDERLINENUMBER      0.000000\n",
       "SALES                0.000000\n",
       "ORDERDATE            0.000000\n",
       "STATUS               0.000000\n",
       "QTR_ID               0.000000\n",
       "MONTH_ID             0.000000\n",
       "YEAR_ID              0.000000\n",
       "PRODUCTLINE          0.000000\n",
       "MSRP                 0.000000\n",
       "PRODUCTCODE          0.000000\n",
       "CUSTOMERNAME         0.000000\n",
       "PHONE                0.000000\n",
       "ADDRESSLINE1         0.000000\n",
       "ADDRESSLINE2        89.302161\n",
       "CITY                 0.000000\n",
       "STATE               52.639036\n",
       "POSTALCODE           2.692171\n",
       "COUNTRY              0.000000\n",
       "TERRITORY           38.044633\n",
       "CONTACTLASTNAME      0.000000\n",
       "CONTACTFIRSTNAME     0.000000\n",
       "DEALSIZE             0.000000\n",
       "dtype: float64"
      ]
     },
     "execution_count": 8,
     "metadata": {},
     "output_type": "execute_result"
    }
   ],
   "source": [
    "(df.isnull().sum()/df.shape[0])*100"
   ]
  },
  {
   "cell_type": "code",
   "execution_count": 9,
   "id": "64b79206",
   "metadata": {},
   "outputs": [
    {
     "data": {
      "text/plain": [
       "7.30712008501594"
      ]
     },
     "execution_count": 9,
     "metadata": {},
     "output_type": "execute_result"
    }
   ],
   "source": [
    "(df.isnull().sum().sum()) / (df.shape[0] * df.shape[1]) * 100"
   ]
  },
  {
   "cell_type": "code",
   "execution_count": 10,
   "id": "e5d75d07",
   "metadata": {},
   "outputs": [
    {
     "data": {
      "text/plain": [
       "0"
      ]
     },
     "execution_count": 10,
     "metadata": {},
     "output_type": "execute_result"
    }
   ],
   "source": [
    "df.duplicated().sum()"
   ]
  },
  {
   "cell_type": "code",
   "execution_count": null,
   "id": "f7f851ba",
   "metadata": {},
   "outputs": [],
   "source": []
  },
  {
   "cell_type": "code",
   "execution_count": 11,
   "id": "135c0133",
   "metadata": {},
   "outputs": [
    {
     "data": {
      "text/plain": [
       "Index(['ORDERNUMBER', 'QUANTITYORDERED', 'PRICEEACH', 'ORDERLINENUMBER',\n",
       "       'SALES', 'ORDERDATE', 'STATUS', 'QTR_ID', 'MONTH_ID', 'YEAR_ID',\n",
       "       'PRODUCTLINE', 'MSRP', 'PRODUCTCODE', 'CUSTOMERNAME', 'PHONE',\n",
       "       'ADDRESSLINE1', 'ADDRESSLINE2', 'CITY', 'STATE', 'POSTALCODE',\n",
       "       'COUNTRY', 'TERRITORY', 'CONTACTLASTNAME', 'CONTACTFIRSTNAME',\n",
       "       'DEALSIZE'],\n",
       "      dtype='object')"
      ]
     },
     "execution_count": 11,
     "metadata": {},
     "output_type": "execute_result"
    }
   ],
   "source": [
    "df.columns"
   ]
  },
  {
   "cell_type": "code",
   "execution_count": 12,
   "id": "a580dc18",
   "metadata": {},
   "outputs": [],
   "source": [
    "df.rename(columns={'ORDERNUMBER': 'Order_number', 'QUANTITYORDERED': 'Quantity_ordered','PRICEEACH':'Price_each','ORDERLINENUMBER':'Order_line_number','SALES':'Sales','ORDERDATE':'Order_date','STATUS':'Status','QTR_ID':'Qtr_id',\n",
    "                  'MONTH_ID':'Month_id','YEAR_ID':'Year_id','PRODUCTLINE':'Product_line','MSRP':'Msrp','PRODUCTCODE':'Product_code','CUSTOMERNAME':'Customer_name','PHONE':'Phone','ADDRESSLINE1':'Address_line1','ADDRESSLINE2':'Address_line2',\n",
    "                   'CITY':'City','STATE':'State','POSTALCODE':'Postal_code','COUNTRY':'Country','TERRITORY':'Territory','CONTACTLASTNAME':'Contact_last_name','CONTACTFIRSTNAME':'Contact_first_name','DEALSIZE':'Deal_size'\n",
    "                  }, inplace=True)"
   ]
  },
  {
   "cell_type": "code",
   "execution_count": 13,
   "id": "3b1ceed5",
   "metadata": {},
   "outputs": [
    {
     "data": {
      "text/html": [
       "<div>\n",
       "<style scoped>\n",
       "    .dataframe tbody tr th:only-of-type {\n",
       "        vertical-align: middle;\n",
       "    }\n",
       "\n",
       "    .dataframe tbody tr th {\n",
       "        vertical-align: top;\n",
       "    }\n",
       "\n",
       "    .dataframe thead th {\n",
       "        text-align: right;\n",
       "    }\n",
       "</style>\n",
       "<table border=\"1\" class=\"dataframe\">\n",
       "  <thead>\n",
       "    <tr style=\"text-align: right;\">\n",
       "      <th></th>\n",
       "      <th>Order_number</th>\n",
       "      <th>Quantity_ordered</th>\n",
       "      <th>Price_each</th>\n",
       "      <th>Order_line_number</th>\n",
       "      <th>Sales</th>\n",
       "      <th>Order_date</th>\n",
       "      <th>Status</th>\n",
       "      <th>Qtr_id</th>\n",
       "      <th>Month_id</th>\n",
       "      <th>Year_id</th>\n",
       "      <th>...</th>\n",
       "      <th>Address_line1</th>\n",
       "      <th>Address_line2</th>\n",
       "      <th>City</th>\n",
       "      <th>State</th>\n",
       "      <th>Postal_code</th>\n",
       "      <th>Country</th>\n",
       "      <th>Territory</th>\n",
       "      <th>Contact_last_name</th>\n",
       "      <th>Contact_first_name</th>\n",
       "      <th>Deal_size</th>\n",
       "    </tr>\n",
       "  </thead>\n",
       "  <tbody>\n",
       "    <tr>\n",
       "      <th>0</th>\n",
       "      <td>10107</td>\n",
       "      <td>30</td>\n",
       "      <td>95.70</td>\n",
       "      <td>2</td>\n",
       "      <td>2871.00</td>\n",
       "      <td>2/24/2003 0:00</td>\n",
       "      <td>Shipped</td>\n",
       "      <td>1</td>\n",
       "      <td>2</td>\n",
       "      <td>2003</td>\n",
       "      <td>...</td>\n",
       "      <td>897 Long Airport Avenue</td>\n",
       "      <td>NaN</td>\n",
       "      <td>NYC</td>\n",
       "      <td>NY</td>\n",
       "      <td>10022</td>\n",
       "      <td>USA</td>\n",
       "      <td>NaN</td>\n",
       "      <td>Yu</td>\n",
       "      <td>Kwai</td>\n",
       "      <td>Small</td>\n",
       "    </tr>\n",
       "    <tr>\n",
       "      <th>1</th>\n",
       "      <td>10121</td>\n",
       "      <td>34</td>\n",
       "      <td>81.35</td>\n",
       "      <td>5</td>\n",
       "      <td>2765.90</td>\n",
       "      <td>5/7/2003 0:00</td>\n",
       "      <td>Shipped</td>\n",
       "      <td>2</td>\n",
       "      <td>5</td>\n",
       "      <td>2003</td>\n",
       "      <td>...</td>\n",
       "      <td>59 rue de l'Abbaye</td>\n",
       "      <td>NaN</td>\n",
       "      <td>Reims</td>\n",
       "      <td>NaN</td>\n",
       "      <td>51100</td>\n",
       "      <td>France</td>\n",
       "      <td>EMEA</td>\n",
       "      <td>Henriot</td>\n",
       "      <td>Paul</td>\n",
       "      <td>Small</td>\n",
       "    </tr>\n",
       "    <tr>\n",
       "      <th>2</th>\n",
       "      <td>10134</td>\n",
       "      <td>41</td>\n",
       "      <td>94.74</td>\n",
       "      <td>2</td>\n",
       "      <td>3884.34</td>\n",
       "      <td>7/1/2003 0:00</td>\n",
       "      <td>Shipped</td>\n",
       "      <td>3</td>\n",
       "      <td>7</td>\n",
       "      <td>2003</td>\n",
       "      <td>...</td>\n",
       "      <td>27 rue du Colonel Pierre Avia</td>\n",
       "      <td>NaN</td>\n",
       "      <td>Paris</td>\n",
       "      <td>NaN</td>\n",
       "      <td>75508</td>\n",
       "      <td>France</td>\n",
       "      <td>EMEA</td>\n",
       "      <td>Da Cunha</td>\n",
       "      <td>Daniel</td>\n",
       "      <td>Medium</td>\n",
       "    </tr>\n",
       "    <tr>\n",
       "      <th>3</th>\n",
       "      <td>10145</td>\n",
       "      <td>45</td>\n",
       "      <td>83.26</td>\n",
       "      <td>6</td>\n",
       "      <td>3746.70</td>\n",
       "      <td>8/25/2003 0:00</td>\n",
       "      <td>Shipped</td>\n",
       "      <td>3</td>\n",
       "      <td>8</td>\n",
       "      <td>2003</td>\n",
       "      <td>...</td>\n",
       "      <td>78934 Hillside Dr.</td>\n",
       "      <td>NaN</td>\n",
       "      <td>Pasadena</td>\n",
       "      <td>CA</td>\n",
       "      <td>90003</td>\n",
       "      <td>USA</td>\n",
       "      <td>NaN</td>\n",
       "      <td>Young</td>\n",
       "      <td>Julie</td>\n",
       "      <td>Medium</td>\n",
       "    </tr>\n",
       "    <tr>\n",
       "      <th>4</th>\n",
       "      <td>10159</td>\n",
       "      <td>49</td>\n",
       "      <td>100.00</td>\n",
       "      <td>14</td>\n",
       "      <td>5205.27</td>\n",
       "      <td>10/10/2003 0:00</td>\n",
       "      <td>Shipped</td>\n",
       "      <td>4</td>\n",
       "      <td>10</td>\n",
       "      <td>2003</td>\n",
       "      <td>...</td>\n",
       "      <td>7734 Strong St.</td>\n",
       "      <td>NaN</td>\n",
       "      <td>San Francisco</td>\n",
       "      <td>CA</td>\n",
       "      <td>NaN</td>\n",
       "      <td>USA</td>\n",
       "      <td>NaN</td>\n",
       "      <td>Brown</td>\n",
       "      <td>Julie</td>\n",
       "      <td>Medium</td>\n",
       "    </tr>\n",
       "  </tbody>\n",
       "</table>\n",
       "<p>5 rows × 25 columns</p>\n",
       "</div>"
      ],
      "text/plain": [
       "   Order_number  Quantity_ordered  Price_each  Order_line_number    Sales  \\\n",
       "0         10107                30       95.70                  2  2871.00   \n",
       "1         10121                34       81.35                  5  2765.90   \n",
       "2         10134                41       94.74                  2  3884.34   \n",
       "3         10145                45       83.26                  6  3746.70   \n",
       "4         10159                49      100.00                 14  5205.27   \n",
       "\n",
       "        Order_date   Status  Qtr_id  Month_id  Year_id  ...  \\\n",
       "0   2/24/2003 0:00  Shipped       1         2     2003  ...   \n",
       "1    5/7/2003 0:00  Shipped       2         5     2003  ...   \n",
       "2    7/1/2003 0:00  Shipped       3         7     2003  ...   \n",
       "3   8/25/2003 0:00  Shipped       3         8     2003  ...   \n",
       "4  10/10/2003 0:00  Shipped       4        10     2003  ...   \n",
       "\n",
       "                   Address_line1  Address_line2           City State  \\\n",
       "0        897 Long Airport Avenue            NaN            NYC    NY   \n",
       "1             59 rue de l'Abbaye            NaN          Reims   NaN   \n",
       "2  27 rue du Colonel Pierre Avia            NaN          Paris   NaN   \n",
       "3             78934 Hillside Dr.            NaN       Pasadena    CA   \n",
       "4                7734 Strong St.            NaN  San Francisco    CA   \n",
       "\n",
       "  Postal_code Country Territory Contact_last_name Contact_first_name Deal_size  \n",
       "0       10022     USA       NaN                Yu               Kwai     Small  \n",
       "1       51100  France      EMEA           Henriot               Paul     Small  \n",
       "2       75508  France      EMEA          Da Cunha             Daniel    Medium  \n",
       "3       90003     USA       NaN             Young              Julie    Medium  \n",
       "4         NaN     USA       NaN             Brown              Julie    Medium  \n",
       "\n",
       "[5 rows x 25 columns]"
      ]
     },
     "execution_count": 13,
     "metadata": {},
     "output_type": "execute_result"
    }
   ],
   "source": [
    "df.head()"
   ]
  },
  {
   "cell_type": "code",
   "execution_count": 14,
   "id": "52484be2",
   "metadata": {},
   "outputs": [],
   "source": [
    "df.drop(columns='Address_line2',inplace=True)"
   ]
  },
  {
   "cell_type": "code",
   "execution_count": 15,
   "id": "ced8f4b7",
   "metadata": {},
   "outputs": [
    {
     "data": {
      "text/plain": [
       "(2823, 24)"
      ]
     },
     "execution_count": 15,
     "metadata": {},
     "output_type": "execute_result"
    }
   ],
   "source": [
    "df.shape"
   ]
  },
  {
   "cell_type": "code",
   "execution_count": 16,
   "id": "3e68bd88",
   "metadata": {},
   "outputs": [],
   "source": [
    "df.dropna(inplace=True)"
   ]
  },
  {
   "cell_type": "code",
   "execution_count": 17,
   "id": "e9a2480b",
   "metadata": {},
   "outputs": [
    {
     "data": {
      "text/plain": [
       "(263, 24)"
      ]
     },
     "execution_count": 17,
     "metadata": {},
     "output_type": "execute_result"
    }
   ],
   "source": [
    "df.shape"
   ]
  },
  {
   "cell_type": "code",
   "execution_count": 18,
   "id": "7a048776",
   "metadata": {},
   "outputs": [
    {
     "data": {
      "text/plain": [
       "10       95\n",
       "21       95\n",
       "32      214\n",
       "39      214\n",
       "40      214\n",
       "       ... \n",
       "2787     49\n",
       "2789     49\n",
       "2791     49\n",
       "2796     49\n",
       "2808     54\n",
       "Name: Msrp, Length: 263, dtype: int64"
      ]
     },
     "execution_count": 18,
     "metadata": {},
     "output_type": "execute_result"
    }
   ],
   "source": [
    "df.Msrp"
   ]
  },
  {
   "cell_type": "code",
   "execution_count": 19,
   "id": "9ba08ea6",
   "metadata": {},
   "outputs": [
    {
     "data": {
      "text/plain": [
       "Index(['Order_number', 'Quantity_ordered', 'Price_each', 'Order_line_number',\n",
       "       'Sales', 'Order_date', 'Status', 'Qtr_id', 'Month_id', 'Year_id',\n",
       "       'Product_line', 'Msrp', 'Product_code', 'Customer_name', 'Phone',\n",
       "       'Address_line1', 'City', 'State', 'Postal_code', 'Country', 'Territory',\n",
       "       'Contact_last_name', 'Contact_first_name', 'Deal_size'],\n",
       "      dtype='object')"
      ]
     },
     "execution_count": 19,
     "metadata": {},
     "output_type": "execute_result"
    }
   ],
   "source": [
    "df.columns\n"
   ]
  },
  {
   "cell_type": "code",
   "execution_count": 20,
   "id": "b1db33b1",
   "metadata": {},
   "outputs": [],
   "source": [
    "dummy = df[['Order_number', 'Quantity_ordered', 'Price_each', 'Order_line_number', 'Sales', 'Order_date', 'Status',\n",
    "            'Product_line', 'Msrp', 'Product_code', 'Deal_size']]"
   ]
  },
  {
   "cell_type": "code",
   "execution_count": 21,
   "id": "835a9e25",
   "metadata": {},
   "outputs": [
    {
     "data": {
      "text/html": [
       "<div>\n",
       "<style scoped>\n",
       "    .dataframe tbody tr th:only-of-type {\n",
       "        vertical-align: middle;\n",
       "    }\n",
       "\n",
       "    .dataframe tbody tr th {\n",
       "        vertical-align: top;\n",
       "    }\n",
       "\n",
       "    .dataframe thead th {\n",
       "        text-align: right;\n",
       "    }\n",
       "</style>\n",
       "<table border=\"1\" class=\"dataframe\">\n",
       "  <thead>\n",
       "    <tr style=\"text-align: right;\">\n",
       "      <th></th>\n",
       "      <th>Order_number</th>\n",
       "      <th>Quantity_ordered</th>\n",
       "      <th>Price_each</th>\n",
       "      <th>Order_line_number</th>\n",
       "      <th>Sales</th>\n",
       "      <th>Order_date</th>\n",
       "      <th>Status</th>\n",
       "      <th>Product_line</th>\n",
       "      <th>Msrp</th>\n",
       "      <th>Product_code</th>\n",
       "      <th>Deal_size</th>\n",
       "    </tr>\n",
       "  </thead>\n",
       "  <tbody>\n",
       "    <tr>\n",
       "      <th>10</th>\n",
       "      <td>10223</td>\n",
       "      <td>37</td>\n",
       "      <td>100.00</td>\n",
       "      <td>1</td>\n",
       "      <td>3965.66</td>\n",
       "      <td>2/20/2004 0:00</td>\n",
       "      <td>Shipped</td>\n",
       "      <td>Motorcycles</td>\n",
       "      <td>95</td>\n",
       "      <td>S10_1678</td>\n",
       "      <td>Medium</td>\n",
       "    </tr>\n",
       "    <tr>\n",
       "      <th>21</th>\n",
       "      <td>10361</td>\n",
       "      <td>20</td>\n",
       "      <td>72.55</td>\n",
       "      <td>13</td>\n",
       "      <td>1451.00</td>\n",
       "      <td>12/17/2004 0:00</td>\n",
       "      <td>Shipped</td>\n",
       "      <td>Motorcycles</td>\n",
       "      <td>95</td>\n",
       "      <td>S10_1678</td>\n",
       "      <td>Small</td>\n",
       "    </tr>\n",
       "    <tr>\n",
       "      <th>32</th>\n",
       "      <td>10174</td>\n",
       "      <td>34</td>\n",
       "      <td>100.00</td>\n",
       "      <td>4</td>\n",
       "      <td>8014.82</td>\n",
       "      <td>11/6/2003 0:00</td>\n",
       "      <td>Shipped</td>\n",
       "      <td>Classic Cars</td>\n",
       "      <td>214</td>\n",
       "      <td>S10_1949</td>\n",
       "      <td>Large</td>\n",
       "    </tr>\n",
       "    <tr>\n",
       "      <th>39</th>\n",
       "      <td>10258</td>\n",
       "      <td>32</td>\n",
       "      <td>100.00</td>\n",
       "      <td>6</td>\n",
       "      <td>7680.64</td>\n",
       "      <td>6/15/2004 0:00</td>\n",
       "      <td>Shipped</td>\n",
       "      <td>Classic Cars</td>\n",
       "      <td>214</td>\n",
       "      <td>S10_1949</td>\n",
       "      <td>Large</td>\n",
       "    </tr>\n",
       "    <tr>\n",
       "      <th>40</th>\n",
       "      <td>10270</td>\n",
       "      <td>21</td>\n",
       "      <td>100.00</td>\n",
       "      <td>9</td>\n",
       "      <td>4905.39</td>\n",
       "      <td>7/19/2004 0:00</td>\n",
       "      <td>Shipped</td>\n",
       "      <td>Classic Cars</td>\n",
       "      <td>214</td>\n",
       "      <td>S10_1949</td>\n",
       "      <td>Medium</td>\n",
       "    </tr>\n",
       "  </tbody>\n",
       "</table>\n",
       "</div>"
      ],
      "text/plain": [
       "    Order_number  Quantity_ordered  Price_each  Order_line_number    Sales  \\\n",
       "10         10223                37      100.00                  1  3965.66   \n",
       "21         10361                20       72.55                 13  1451.00   \n",
       "32         10174                34      100.00                  4  8014.82   \n",
       "39         10258                32      100.00                  6  7680.64   \n",
       "40         10270                21      100.00                  9  4905.39   \n",
       "\n",
       "         Order_date   Status  Product_line  Msrp Product_code Deal_size  \n",
       "10   2/20/2004 0:00  Shipped   Motorcycles    95     S10_1678    Medium  \n",
       "21  12/17/2004 0:00  Shipped   Motorcycles    95     S10_1678     Small  \n",
       "32   11/6/2003 0:00  Shipped  Classic Cars   214     S10_1949     Large  \n",
       "39   6/15/2004 0:00  Shipped  Classic Cars   214     S10_1949     Large  \n",
       "40   7/19/2004 0:00  Shipped  Classic Cars   214     S10_1949    Medium  "
      ]
     },
     "execution_count": 21,
     "metadata": {},
     "output_type": "execute_result"
    }
   ],
   "source": [
    "dummy.head()"
   ]
  },
  {
   "cell_type": "code",
   "execution_count": 22,
   "id": "0bbfccbc",
   "metadata": {},
   "outputs": [
    {
     "data": {
      "text/plain": [
       "Deal_size\n",
       "Small     135\n",
       "Medium    118\n",
       "Large      10\n",
       "Name: count, dtype: int64"
      ]
     },
     "execution_count": 22,
     "metadata": {},
     "output_type": "execute_result"
    }
   ],
   "source": [
    "df.Deal_size.value_counts()"
   ]
  },
  {
   "cell_type": "code",
   "execution_count": 23,
   "id": "842441fc",
   "metadata": {},
   "outputs": [
    {
     "data": {
      "text/plain": [
       "Status\n",
       "Shipped       245\n",
       "In Process     13\n",
       "Disputed        5\n",
       "Name: count, dtype: int64"
      ]
     },
     "execution_count": 23,
     "metadata": {},
     "output_type": "execute_result"
    }
   ],
   "source": [
    "df.Status.value_counts()"
   ]
  },
  {
   "cell_type": "code",
   "execution_count": 24,
   "id": "23139351",
   "metadata": {
    "scrolled": true
   },
   "outputs": [
    {
     "data": {
      "text/plain": [
       "Product_line\n",
       "Vintage Cars        74\n",
       "Classic Cars        62\n",
       "Planes              50\n",
       "Motorcycles         35\n",
       "Trucks and Buses    23\n",
       "Ships               15\n",
       "Trains               4\n",
       "Name: count, dtype: int64"
      ]
     },
     "execution_count": 24,
     "metadata": {},
     "output_type": "execute_result"
    }
   ],
   "source": [
    "df.Product_line.value_counts()"
   ]
  },
  {
   "cell_type": "code",
   "execution_count": 25,
   "id": "cb78518e",
   "metadata": {},
   "outputs": [
    {
     "data": {
      "text/plain": [
       "Country\n",
       "Australia    185\n",
       "Japan         52\n",
       "UK            26\n",
       "Name: count, dtype: int64"
      ]
     },
     "execution_count": 25,
     "metadata": {},
     "output_type": "execute_result"
    }
   ],
   "source": [
    "df.Country.value_counts()"
   ]
  },
  {
   "cell_type": "code",
   "execution_count": 26,
   "id": "a88ecc47",
   "metadata": {},
   "outputs": [
    {
     "data": {
      "text/plain": [
       "Territory\n",
       "APAC     185\n",
       "Japan     52\n",
       "EMEA      26\n",
       "Name: count, dtype: int64"
      ]
     },
     "execution_count": 26,
     "metadata": {},
     "output_type": "execute_result"
    }
   ],
   "source": [
    "df.Territory.value_counts()"
   ]
  },
  {
   "cell_type": "code",
   "execution_count": 27,
   "id": "bf5d97a3",
   "metadata": {},
   "outputs": [
    {
     "data": {
      "text/plain": [
       "10       Peter Ferguson\n",
       "21        Adrian Huxley\n",
       "32        Tony Calaghan\n",
       "39      Akiko Shimamura\n",
       "40        Adrian Huxley\n",
       "             ...       \n",
       "2787      Helen Bennett\n",
       "2789    Akiko Shimamura\n",
       "2791      Adrian Huxley\n",
       "2796       Sean Connery\n",
       "2808      Helen Bennett\n",
       "Name: Contact_full_name, Length: 263, dtype: object"
      ]
     },
     "execution_count": 27,
     "metadata": {},
     "output_type": "execute_result"
    }
   ],
   "source": [
    "# concat first name and last name\n",
    "df['Contact_full_name']=df['Contact_first_name']+\" \"+df['Contact_last_name']\n",
    "df.Contact_full_name"
   ]
  },
  {
   "cell_type": "code",
   "execution_count": 28,
   "id": "3364cfdd",
   "metadata": {},
   "outputs": [],
   "source": [
    "df.drop(columns=['Contact_first_name','Contact_last_name'],inplace=True)"
   ]
  },
  {
   "cell_type": "code",
   "execution_count": 29,
   "id": "c057148f",
   "metadata": {},
   "outputs": [],
   "source": [
    "# encoding\n",
    "ord_data=([['Small','Medium','Large']])\n",
    "oe=OrdinalEncoder(categories=ord_data)\n",
    "df['Deal_size']=oe.fit_transform(df[['Deal_size']])\n"
   ]
  },
  {
   "cell_type": "code",
   "execution_count": 30,
   "id": "f0fd23c2",
   "metadata": {},
   "outputs": [
    {
     "data": {
      "text/html": [
       "<div>\n",
       "<style scoped>\n",
       "    .dataframe tbody tr th:only-of-type {\n",
       "        vertical-align: middle;\n",
       "    }\n",
       "\n",
       "    .dataframe tbody tr th {\n",
       "        vertical-align: top;\n",
       "    }\n",
       "\n",
       "    .dataframe thead th {\n",
       "        text-align: right;\n",
       "    }\n",
       "</style>\n",
       "<table border=\"1\" class=\"dataframe\">\n",
       "  <thead>\n",
       "    <tr style=\"text-align: right;\">\n",
       "      <th></th>\n",
       "      <th>Order_number</th>\n",
       "      <th>Quantity_ordered</th>\n",
       "      <th>Price_each</th>\n",
       "      <th>Order_line_number</th>\n",
       "      <th>Sales</th>\n",
       "      <th>Order_date</th>\n",
       "      <th>Status</th>\n",
       "      <th>Qtr_id</th>\n",
       "      <th>Month_id</th>\n",
       "      <th>Year_id</th>\n",
       "      <th>...</th>\n",
       "      <th>Customer_name</th>\n",
       "      <th>Phone</th>\n",
       "      <th>Address_line1</th>\n",
       "      <th>City</th>\n",
       "      <th>State</th>\n",
       "      <th>Postal_code</th>\n",
       "      <th>Country</th>\n",
       "      <th>Territory</th>\n",
       "      <th>Deal_size</th>\n",
       "      <th>Contact_full_name</th>\n",
       "    </tr>\n",
       "  </thead>\n",
       "  <tbody>\n",
       "    <tr>\n",
       "      <th>10</th>\n",
       "      <td>10223</td>\n",
       "      <td>37</td>\n",
       "      <td>100.00</td>\n",
       "      <td>1</td>\n",
       "      <td>3965.66</td>\n",
       "      <td>2/20/2004 0:00</td>\n",
       "      <td>Shipped</td>\n",
       "      <td>1</td>\n",
       "      <td>2</td>\n",
       "      <td>2004</td>\n",
       "      <td>...</td>\n",
       "      <td>Australian Collectors, Co.</td>\n",
       "      <td>03 9520 4555</td>\n",
       "      <td>636 St Kilda Road</td>\n",
       "      <td>Melbourne</td>\n",
       "      <td>Victoria</td>\n",
       "      <td>3004</td>\n",
       "      <td>Australia</td>\n",
       "      <td>APAC</td>\n",
       "      <td>1.0</td>\n",
       "      <td>Peter Ferguson</td>\n",
       "    </tr>\n",
       "    <tr>\n",
       "      <th>21</th>\n",
       "      <td>10361</td>\n",
       "      <td>20</td>\n",
       "      <td>72.55</td>\n",
       "      <td>13</td>\n",
       "      <td>1451.00</td>\n",
       "      <td>12/17/2004 0:00</td>\n",
       "      <td>Shipped</td>\n",
       "      <td>4</td>\n",
       "      <td>12</td>\n",
       "      <td>2004</td>\n",
       "      <td>...</td>\n",
       "      <td>Souveniers And Things Co.</td>\n",
       "      <td>+61 2 9495 8555</td>\n",
       "      <td>Monitor Money Building, 815 Pacific Hwy</td>\n",
       "      <td>Chatswood</td>\n",
       "      <td>NSW</td>\n",
       "      <td>2067</td>\n",
       "      <td>Australia</td>\n",
       "      <td>APAC</td>\n",
       "      <td>0.0</td>\n",
       "      <td>Adrian Huxley</td>\n",
       "    </tr>\n",
       "    <tr>\n",
       "      <th>32</th>\n",
       "      <td>10174</td>\n",
       "      <td>34</td>\n",
       "      <td>100.00</td>\n",
       "      <td>4</td>\n",
       "      <td>8014.82</td>\n",
       "      <td>11/6/2003 0:00</td>\n",
       "      <td>Shipped</td>\n",
       "      <td>4</td>\n",
       "      <td>11</td>\n",
       "      <td>2003</td>\n",
       "      <td>...</td>\n",
       "      <td>Australian Gift Network, Co</td>\n",
       "      <td>61-7-3844-6555</td>\n",
       "      <td>31 Duncan St. West End</td>\n",
       "      <td>South Brisbane</td>\n",
       "      <td>Queensland</td>\n",
       "      <td>4101</td>\n",
       "      <td>Australia</td>\n",
       "      <td>APAC</td>\n",
       "      <td>2.0</td>\n",
       "      <td>Tony Calaghan</td>\n",
       "    </tr>\n",
       "    <tr>\n",
       "      <th>39</th>\n",
       "      <td>10258</td>\n",
       "      <td>32</td>\n",
       "      <td>100.00</td>\n",
       "      <td>6</td>\n",
       "      <td>7680.64</td>\n",
       "      <td>6/15/2004 0:00</td>\n",
       "      <td>Shipped</td>\n",
       "      <td>2</td>\n",
       "      <td>6</td>\n",
       "      <td>2004</td>\n",
       "      <td>...</td>\n",
       "      <td>Tokyo Collectables, Ltd</td>\n",
       "      <td>+81 3 3584 0555</td>\n",
       "      <td>2-2-8 Roppongi</td>\n",
       "      <td>Minato-ku</td>\n",
       "      <td>Tokyo</td>\n",
       "      <td>106-0032</td>\n",
       "      <td>Japan</td>\n",
       "      <td>Japan</td>\n",
       "      <td>2.0</td>\n",
       "      <td>Akiko Shimamura</td>\n",
       "    </tr>\n",
       "    <tr>\n",
       "      <th>40</th>\n",
       "      <td>10270</td>\n",
       "      <td>21</td>\n",
       "      <td>100.00</td>\n",
       "      <td>9</td>\n",
       "      <td>4905.39</td>\n",
       "      <td>7/19/2004 0:00</td>\n",
       "      <td>Shipped</td>\n",
       "      <td>3</td>\n",
       "      <td>7</td>\n",
       "      <td>2004</td>\n",
       "      <td>...</td>\n",
       "      <td>Souveniers And Things Co.</td>\n",
       "      <td>+61 2 9495 8555</td>\n",
       "      <td>Monitor Money Building, 815 Pacific Hwy</td>\n",
       "      <td>Chatswood</td>\n",
       "      <td>NSW</td>\n",
       "      <td>2067</td>\n",
       "      <td>Australia</td>\n",
       "      <td>APAC</td>\n",
       "      <td>1.0</td>\n",
       "      <td>Adrian Huxley</td>\n",
       "    </tr>\n",
       "  </tbody>\n",
       "</table>\n",
       "<p>5 rows × 23 columns</p>\n",
       "</div>"
      ],
      "text/plain": [
       "    Order_number  Quantity_ordered  Price_each  Order_line_number    Sales  \\\n",
       "10         10223                37      100.00                  1  3965.66   \n",
       "21         10361                20       72.55                 13  1451.00   \n",
       "32         10174                34      100.00                  4  8014.82   \n",
       "39         10258                32      100.00                  6  7680.64   \n",
       "40         10270                21      100.00                  9  4905.39   \n",
       "\n",
       "         Order_date   Status  Qtr_id  Month_id  Year_id  ...  \\\n",
       "10   2/20/2004 0:00  Shipped       1         2     2004  ...   \n",
       "21  12/17/2004 0:00  Shipped       4        12     2004  ...   \n",
       "32   11/6/2003 0:00  Shipped       4        11     2003  ...   \n",
       "39   6/15/2004 0:00  Shipped       2         6     2004  ...   \n",
       "40   7/19/2004 0:00  Shipped       3         7     2004  ...   \n",
       "\n",
       "                  Customer_name            Phone  \\\n",
       "10   Australian Collectors, Co.     03 9520 4555   \n",
       "21    Souveniers And Things Co.  +61 2 9495 8555   \n",
       "32  Australian Gift Network, Co   61-7-3844-6555   \n",
       "39      Tokyo Collectables, Ltd  +81 3 3584 0555   \n",
       "40    Souveniers And Things Co.  +61 2 9495 8555   \n",
       "\n",
       "                              Address_line1            City       State  \\\n",
       "10                        636 St Kilda Road       Melbourne    Victoria   \n",
       "21  Monitor Money Building, 815 Pacific Hwy       Chatswood         NSW   \n",
       "32                   31 Duncan St. West End  South Brisbane  Queensland   \n",
       "39                           2-2-8 Roppongi       Minato-ku       Tokyo   \n",
       "40  Monitor Money Building, 815 Pacific Hwy       Chatswood         NSW   \n",
       "\n",
       "   Postal_code    Country Territory Deal_size Contact_full_name  \n",
       "10        3004  Australia      APAC       1.0    Peter Ferguson  \n",
       "21        2067  Australia      APAC       0.0     Adrian Huxley  \n",
       "32        4101  Australia      APAC       2.0     Tony Calaghan  \n",
       "39    106-0032      Japan     Japan       2.0   Akiko Shimamura  \n",
       "40        2067  Australia      APAC       1.0     Adrian Huxley  \n",
       "\n",
       "[5 rows x 23 columns]"
      ]
     },
     "execution_count": 30,
     "metadata": {},
     "output_type": "execute_result"
    }
   ],
   "source": [
    "df.head()"
   ]
  },
  {
   "cell_type": "code",
   "execution_count": 31,
   "id": "74d458e9",
   "metadata": {},
   "outputs": [],
   "source": [
    "le_status=LabelEncoder()\n",
    "df['Status']=le_status.fit_transform(df['Status'])"
   ]
  },
  {
   "cell_type": "code",
   "execution_count": 32,
   "id": "ec2b15c7",
   "metadata": {},
   "outputs": [],
   "source": [
    "le_line=LabelEncoder()\n",
    "df['Product_line']=le_line.fit_transform(df['Product_line'])"
   ]
  },
  {
   "cell_type": "code",
   "execution_count": 33,
   "id": "e5117e84",
   "metadata": {},
   "outputs": [],
   "source": [
    "le_territory=LabelEncoder()\n",
    "df['Territory']=le_territory.fit_transform(df['Territory'])"
   ]
  },
  {
   "cell_type": "code",
   "execution_count": 34,
   "id": "049dbbdc",
   "metadata": {},
   "outputs": [],
   "source": [
    "le_country=LabelEncoder()\n",
    "df['Country']=le_country.fit_transform(df['Country'])"
   ]
  },
  {
   "cell_type": "code",
   "execution_count": 35,
   "id": "951eb1d8",
   "metadata": {},
   "outputs": [],
   "source": [
    "le_city=LabelEncoder()\n",
    "df['City']=le_city.fit_transform(df['City'])"
   ]
  },
  {
   "cell_type": "code",
   "execution_count": 36,
   "id": "bc2d450a",
   "metadata": {},
   "outputs": [],
   "source": [
    "le_state=LabelEncoder()\n",
    "df['State']=le_state.fit_transform(df['State'])"
   ]
  },
  {
   "cell_type": "code",
   "execution_count": 37,
   "id": "38b7e81b",
   "metadata": {},
   "outputs": [
    {
     "data": {
      "text/html": [
       "<div>\n",
       "<style scoped>\n",
       "    .dataframe tbody tr th:only-of-type {\n",
       "        vertical-align: middle;\n",
       "    }\n",
       "\n",
       "    .dataframe tbody tr th {\n",
       "        vertical-align: top;\n",
       "    }\n",
       "\n",
       "    .dataframe thead th {\n",
       "        text-align: right;\n",
       "    }\n",
       "</style>\n",
       "<table border=\"1\" class=\"dataframe\">\n",
       "  <thead>\n",
       "    <tr style=\"text-align: right;\">\n",
       "      <th></th>\n",
       "      <th>Order_number</th>\n",
       "      <th>Quantity_ordered</th>\n",
       "      <th>Price_each</th>\n",
       "      <th>Order_line_number</th>\n",
       "      <th>Sales</th>\n",
       "      <th>Order_date</th>\n",
       "      <th>Status</th>\n",
       "      <th>Qtr_id</th>\n",
       "      <th>Month_id</th>\n",
       "      <th>Year_id</th>\n",
       "      <th>...</th>\n",
       "      <th>Customer_name</th>\n",
       "      <th>Phone</th>\n",
       "      <th>Address_line1</th>\n",
       "      <th>City</th>\n",
       "      <th>State</th>\n",
       "      <th>Postal_code</th>\n",
       "      <th>Country</th>\n",
       "      <th>Territory</th>\n",
       "      <th>Deal_size</th>\n",
       "      <th>Contact_full_name</th>\n",
       "    </tr>\n",
       "  </thead>\n",
       "  <tbody>\n",
       "    <tr>\n",
       "      <th>10</th>\n",
       "      <td>10223</td>\n",
       "      <td>37</td>\n",
       "      <td>100.00</td>\n",
       "      <td>1</td>\n",
       "      <td>3965.66</td>\n",
       "      <td>2/20/2004 0:00</td>\n",
       "      <td>2</td>\n",
       "      <td>1</td>\n",
       "      <td>2</td>\n",
       "      <td>2004</td>\n",
       "      <td>...</td>\n",
       "      <td>Australian Collectors, Co.</td>\n",
       "      <td>03 9520 4555</td>\n",
       "      <td>636 St Kilda Road</td>\n",
       "      <td>3</td>\n",
       "      <td>5</td>\n",
       "      <td>3004</td>\n",
       "      <td>0</td>\n",
       "      <td>0</td>\n",
       "      <td>1.0</td>\n",
       "      <td>Peter Ferguson</td>\n",
       "    </tr>\n",
       "    <tr>\n",
       "      <th>21</th>\n",
       "      <td>10361</td>\n",
       "      <td>20</td>\n",
       "      <td>72.55</td>\n",
       "      <td>13</td>\n",
       "      <td>1451.00</td>\n",
       "      <td>12/17/2004 0:00</td>\n",
       "      <td>2</td>\n",
       "      <td>4</td>\n",
       "      <td>12</td>\n",
       "      <td>2004</td>\n",
       "      <td>...</td>\n",
       "      <td>Souveniers And Things Co.</td>\n",
       "      <td>+61 2 9495 8555</td>\n",
       "      <td>Monitor Money Building, 815 Pacific Hwy</td>\n",
       "      <td>0</td>\n",
       "      <td>1</td>\n",
       "      <td>2067</td>\n",
       "      <td>0</td>\n",
       "      <td>0</td>\n",
       "      <td>0.0</td>\n",
       "      <td>Adrian Huxley</td>\n",
       "    </tr>\n",
       "    <tr>\n",
       "      <th>32</th>\n",
       "      <td>10174</td>\n",
       "      <td>34</td>\n",
       "      <td>100.00</td>\n",
       "      <td>4</td>\n",
       "      <td>8014.82</td>\n",
       "      <td>11/6/2003 0:00</td>\n",
       "      <td>2</td>\n",
       "      <td>4</td>\n",
       "      <td>11</td>\n",
       "      <td>2003</td>\n",
       "      <td>...</td>\n",
       "      <td>Australian Gift Network, Co</td>\n",
       "      <td>61-7-3844-6555</td>\n",
       "      <td>31 Duncan St. West End</td>\n",
       "      <td>7</td>\n",
       "      <td>3</td>\n",
       "      <td>4101</td>\n",
       "      <td>0</td>\n",
       "      <td>0</td>\n",
       "      <td>2.0</td>\n",
       "      <td>Tony Calaghan</td>\n",
       "    </tr>\n",
       "    <tr>\n",
       "      <th>39</th>\n",
       "      <td>10258</td>\n",
       "      <td>32</td>\n",
       "      <td>100.00</td>\n",
       "      <td>6</td>\n",
       "      <td>7680.64</td>\n",
       "      <td>6/15/2004 0:00</td>\n",
       "      <td>2</td>\n",
       "      <td>2</td>\n",
       "      <td>6</td>\n",
       "      <td>2004</td>\n",
       "      <td>...</td>\n",
       "      <td>Tokyo Collectables, Ltd</td>\n",
       "      <td>+81 3 3584 0555</td>\n",
       "      <td>2-2-8 Roppongi</td>\n",
       "      <td>4</td>\n",
       "      <td>4</td>\n",
       "      <td>106-0032</td>\n",
       "      <td>1</td>\n",
       "      <td>2</td>\n",
       "      <td>2.0</td>\n",
       "      <td>Akiko Shimamura</td>\n",
       "    </tr>\n",
       "    <tr>\n",
       "      <th>40</th>\n",
       "      <td>10270</td>\n",
       "      <td>21</td>\n",
       "      <td>100.00</td>\n",
       "      <td>9</td>\n",
       "      <td>4905.39</td>\n",
       "      <td>7/19/2004 0:00</td>\n",
       "      <td>2</td>\n",
       "      <td>3</td>\n",
       "      <td>7</td>\n",
       "      <td>2004</td>\n",
       "      <td>...</td>\n",
       "      <td>Souveniers And Things Co.</td>\n",
       "      <td>+61 2 9495 8555</td>\n",
       "      <td>Monitor Money Building, 815 Pacific Hwy</td>\n",
       "      <td>0</td>\n",
       "      <td>1</td>\n",
       "      <td>2067</td>\n",
       "      <td>0</td>\n",
       "      <td>0</td>\n",
       "      <td>1.0</td>\n",
       "      <td>Adrian Huxley</td>\n",
       "    </tr>\n",
       "  </tbody>\n",
       "</table>\n",
       "<p>5 rows × 23 columns</p>\n",
       "</div>"
      ],
      "text/plain": [
       "    Order_number  Quantity_ordered  Price_each  Order_line_number    Sales  \\\n",
       "10         10223                37      100.00                  1  3965.66   \n",
       "21         10361                20       72.55                 13  1451.00   \n",
       "32         10174                34      100.00                  4  8014.82   \n",
       "39         10258                32      100.00                  6  7680.64   \n",
       "40         10270                21      100.00                  9  4905.39   \n",
       "\n",
       "         Order_date  Status  Qtr_id  Month_id  Year_id  ...  \\\n",
       "10   2/20/2004 0:00       2       1         2     2004  ...   \n",
       "21  12/17/2004 0:00       2       4        12     2004  ...   \n",
       "32   11/6/2003 0:00       2       4        11     2003  ...   \n",
       "39   6/15/2004 0:00       2       2         6     2004  ...   \n",
       "40   7/19/2004 0:00       2       3         7     2004  ...   \n",
       "\n",
       "                  Customer_name            Phone  \\\n",
       "10   Australian Collectors, Co.     03 9520 4555   \n",
       "21    Souveniers And Things Co.  +61 2 9495 8555   \n",
       "32  Australian Gift Network, Co   61-7-3844-6555   \n",
       "39      Tokyo Collectables, Ltd  +81 3 3584 0555   \n",
       "40    Souveniers And Things Co.  +61 2 9495 8555   \n",
       "\n",
       "                              Address_line1 City State Postal_code  Country  \\\n",
       "10                        636 St Kilda Road    3     5        3004        0   \n",
       "21  Monitor Money Building, 815 Pacific Hwy    0     1        2067        0   \n",
       "32                   31 Duncan St. West End    7     3        4101        0   \n",
       "39                           2-2-8 Roppongi    4     4    106-0032        1   \n",
       "40  Monitor Money Building, 815 Pacific Hwy    0     1        2067        0   \n",
       "\n",
       "    Territory Deal_size  Contact_full_name  \n",
       "10          0       1.0     Peter Ferguson  \n",
       "21          0       0.0      Adrian Huxley  \n",
       "32          0       2.0      Tony Calaghan  \n",
       "39          2       2.0    Akiko Shimamura  \n",
       "40          0       1.0      Adrian Huxley  \n",
       "\n",
       "[5 rows x 23 columns]"
      ]
     },
     "execution_count": 37,
     "metadata": {},
     "output_type": "execute_result"
    }
   ],
   "source": [
    "df.head()"
   ]
  },
  {
   "cell_type": "code",
   "execution_count": 38,
   "id": "47d2f722",
   "metadata": {},
   "outputs": [
    {
     "data": {
      "text/plain": [
       "Index(['Order_number', 'Quantity_ordered', 'Price_each', 'Order_line_number',\n",
       "       'Sales', 'Order_date', 'Status', 'Qtr_id', 'Month_id', 'Year_id',\n",
       "       'Product_line', 'Msrp', 'Product_code', 'Customer_name', 'Phone',\n",
       "       'Address_line1', 'City', 'State', 'Postal_code', 'Country', 'Territory',\n",
       "       'Deal_size', 'Contact_full_name'],\n",
       "      dtype='object')"
      ]
     },
     "execution_count": 38,
     "metadata": {},
     "output_type": "execute_result"
    }
   ],
   "source": [
    "df.columns"
   ]
  },
  {
   "cell_type": "code",
   "execution_count": 39,
   "id": "37645d8b",
   "metadata": {},
   "outputs": [],
   "source": [
    "# Group customers by total sales and quantity ordered\n",
    "customer_summary = df.groupby('Customer_name').agg({\n",
    "    'Sales': 'sum',\n",
    "    'Quantity_ordered': 'sum',\n",
    "    'Deal_size': 'max'\n",
    "}).reset_index()\n"
   ]
  },
  {
   "cell_type": "code",
   "execution_count": 40,
   "id": "99472193",
   "metadata": {},
   "outputs": [
    {
     "data": {
      "text/html": [
       "<div>\n",
       "<style scoped>\n",
       "    .dataframe tbody tr th:only-of-type {\n",
       "        vertical-align: middle;\n",
       "    }\n",
       "\n",
       "    .dataframe tbody tr th {\n",
       "        vertical-align: top;\n",
       "    }\n",
       "\n",
       "    .dataframe thead th {\n",
       "        text-align: right;\n",
       "    }\n",
       "</style>\n",
       "<table border=\"1\" class=\"dataframe\">\n",
       "  <thead>\n",
       "    <tr style=\"text-align: right;\">\n",
       "      <th></th>\n",
       "      <th>Customer_name</th>\n",
       "      <th>Sales</th>\n",
       "      <th>Quantity_ordered</th>\n",
       "      <th>Deal_size</th>\n",
       "    </tr>\n",
       "  </thead>\n",
       "  <tbody>\n",
       "    <tr>\n",
       "      <th>2</th>\n",
       "      <td>Australian Collectors, Co.</td>\n",
       "      <td>200995.41</td>\n",
       "      <td>1926</td>\n",
       "      <td>2.0</td>\n",
       "    </tr>\n",
       "    <tr>\n",
       "      <th>0</th>\n",
       "      <td>Anna's Decorations, Ltd</td>\n",
       "      <td>153996.13</td>\n",
       "      <td>1469</td>\n",
       "      <td>2.0</td>\n",
       "    </tr>\n",
       "    <tr>\n",
       "      <th>5</th>\n",
       "      <td>Souveniers And Things Co.</td>\n",
       "      <td>151570.98</td>\n",
       "      <td>1601</td>\n",
       "      <td>2.0</td>\n",
       "    </tr>\n",
       "    <tr>\n",
       "      <th>6</th>\n",
       "      <td>Tokyo Collectables, Ltd</td>\n",
       "      <td>120562.74</td>\n",
       "      <td>1150</td>\n",
       "      <td>2.0</td>\n",
       "    </tr>\n",
       "    <tr>\n",
       "      <th>7</th>\n",
       "      <td>giftsbymail.co.uk</td>\n",
       "      <td>78240.84</td>\n",
       "      <td>895</td>\n",
       "      <td>1.0</td>\n",
       "    </tr>\n",
       "    <tr>\n",
       "      <th>4</th>\n",
       "      <td>Osaka Souveniers Co.</td>\n",
       "      <td>67605.07</td>\n",
       "      <td>692</td>\n",
       "      <td>1.0</td>\n",
       "    </tr>\n",
       "    <tr>\n",
       "      <th>1</th>\n",
       "      <td>Australian Collectables, Ltd</td>\n",
       "      <td>64591.46</td>\n",
       "      <td>705</td>\n",
       "      <td>2.0</td>\n",
       "    </tr>\n",
       "    <tr>\n",
       "      <th>3</th>\n",
       "      <td>Australian Gift Network, Co</td>\n",
       "      <td>59469.12</td>\n",
       "      <td>545</td>\n",
       "      <td>2.0</td>\n",
       "    </tr>\n",
       "  </tbody>\n",
       "</table>\n",
       "</div>"
      ],
      "text/plain": [
       "                  Customer_name      Sales  Quantity_ordered  Deal_size\n",
       "2    Australian Collectors, Co.  200995.41              1926        2.0\n",
       "0       Anna's Decorations, Ltd  153996.13              1469        2.0\n",
       "5     Souveniers And Things Co.  151570.98              1601        2.0\n",
       "6       Tokyo Collectables, Ltd  120562.74              1150        2.0\n",
       "7             giftsbymail.co.uk   78240.84               895        1.0\n",
       "4          Osaka Souveniers Co.   67605.07               692        1.0\n",
       "1  Australian Collectables, Ltd   64591.46               705        2.0\n",
       "3   Australian Gift Network, Co   59469.12               545        2.0"
      ]
     },
     "execution_count": 40,
     "metadata": {},
     "output_type": "execute_result"
    }
   ],
   "source": [
    "# Visualize top customers\n",
    "top_customers = customer_summary.sort_values('Sales', ascending=False)\n",
    "top_customers"
   ]
  },
  {
   "cell_type": "code",
   "execution_count": 41,
   "id": "e962c22c",
   "metadata": {},
   "outputs": [],
   "source": [
    "# prepare the data for clutering\n",
    "features= ['Sales','Quantity_ordered']"
   ]
  },
  {
   "cell_type": "code",
   "execution_count": 42,
   "id": "63de1eed",
   "metadata": {},
   "outputs": [],
   "source": [
    "scaler = StandardScaler()\n",
    "df[features] = scaler.fit_transform(df[features])"
   ]
  },
  {
   "cell_type": "code",
   "execution_count": 43,
   "id": "13334763",
   "metadata": {},
   "outputs": [
    {
     "data": {
      "text/plain": [
       "(263, 23)"
      ]
     },
     "execution_count": 43,
     "metadata": {},
     "output_type": "execute_result"
    }
   ],
   "source": [
    "df.shape"
   ]
  },
  {
   "cell_type": "code",
   "execution_count": 44,
   "id": "26ef4789",
   "metadata": {},
   "outputs": [
    {
     "data": {
      "image/png": "[encoded data removed]",
      "text/plain": [
       "<Figure size 640x480 with 1 Axes>"
      ]
     },
     "metadata": {},
     "output_type": "display_data"
    }
   ],
   "source": [
    "# Elbow method to find the optimal number of clusters\n",
    "inertia = []\n",
    "for k in range(1, 6):\n",
    "    kmeans = KMeans(n_clusters=k, random_state=42)\n",
    "    kmeans.fit(df[features])\n",
    "    inertia.append(kmeans.inertia_)\n",
    "\n",
    "# Plot the Elbow Curve\n",
    "plt.plot(range(1, 6), inertia, marker='o')\n",
    "plt.title('Elbow Method')\n",
    "plt.xlabel('Number of Clusters')\n",
    "plt.ylabel('Inertia')\n",
    "plt.show()"
   ]
  },
  {
   "cell_type": "code",
   "execution_count": 46,
   "id": "36a5a66d",
   "metadata": {},
   "outputs": [],
   "source": [
    "kmeans = KMeans(n_clusters=3, random_state=42)\n",
    "df['Cluster'] = kmeans.fit_predict(df[features])"
   ]
  },
  {
   "cell_type": "code",
   "execution_count": 47,
   "id": "a421bf3e",
   "metadata": {},
   "outputs": [
    {
     "data": {
      "text/plain": [
       "dtype('float64')"
      ]
     },
     "execution_count": 47,
     "metadata": {},
     "output_type": "execute_result"
    }
   ],
   "source": [
    "df['Sales'].dtype"
   ]
  },
  {
   "cell_type": "code",
   "execution_count": 51,
   "id": "5af54ae1",
   "metadata": {},
   "outputs": [
    {
     "data": {
      "text/plain": [
       "<Axes: xlabel='Sales', ylabel='Quantity_ordered'>"
      ]
     },
     "execution_count": 51,
     "metadata": {},
     "output_type": "execute_result"
    },
    {
     "data": {
      "image/png": "[encoded data removed]",
      "text/plain": [
       "<Figure size 640x480 with 1 Axes>"
      ]
     },
     "metadata": {},
     "output_type": "display_data"
    }
   ],
   "source": [
    "# Visualize clusters\n",
    "import seaborn as snsSales\n",
    "sns.scatterplot(data=df, x='Sales', y='Quantity_ordered', hue='Cluster', palette='viridis')"
   ]
  },
  {
   "cell_type": "code",
   "execution_count": 53,
   "id": "bf1de30c",
   "metadata": {},
   "outputs": [
    {
     "data": {
      "text/html": [
       "<div>\n",
       "<style scoped>\n",
       "    .dataframe tbody tr th:only-of-type {\n",
       "        vertical-align: middle;\n",
       "    }\n",
       "\n",
       "    .dataframe tbody tr th {\n",
       "        vertical-align: top;\n",
       "    }\n",
       "\n",
       "    .dataframe thead th {\n",
       "        text-align: right;\n",
       "    }\n",
       "</style>\n",
       "<table border=\"1\" class=\"dataframe\">\n",
       "  <thead>\n",
       "    <tr style=\"text-align: right;\">\n",
       "      <th></th>\n",
       "      <th>Order_number</th>\n",
       "      <th>Quantity_ordered</th>\n",
       "      <th>Price_each</th>\n",
       "      <th>Order_line_number</th>\n",
       "      <th>Sales</th>\n",
       "      <th>Order_date</th>\n",
       "      <th>Status</th>\n",
       "      <th>Qtr_id</th>\n",
       "      <th>Month_id</th>\n",
       "      <th>Year_id</th>\n",
       "      <th>...</th>\n",
       "      <th>Phone</th>\n",
       "      <th>Address_line1</th>\n",
       "      <th>City</th>\n",
       "      <th>State</th>\n",
       "      <th>Postal_code</th>\n",
       "      <th>Country</th>\n",
       "      <th>Territory</th>\n",
       "      <th>Deal_size</th>\n",
       "      <th>Contact_full_name</th>\n",
       "      <th>Cluster</th>\n",
       "    </tr>\n",
       "  </thead>\n",
       "  <tbody>\n",
       "    <tr>\n",
       "      <th>10</th>\n",
       "      <td>10223</td>\n",
       "      <td>0.286131</td>\n",
       "      <td>100.00</td>\n",
       "      <td>1</td>\n",
       "      <td>0.316579</td>\n",
       "      <td>2/20/2004 0:00</td>\n",
       "      <td>2</td>\n",
       "      <td>1</td>\n",
       "      <td>2</td>\n",
       "      <td>2004</td>\n",
       "      <td>...</td>\n",
       "      <td>03 9520 4555</td>\n",
       "      <td>636 St Kilda Road</td>\n",
       "      <td>3</td>\n",
       "      <td>5</td>\n",
       "      <td>3004</td>\n",
       "      <td>0</td>\n",
       "      <td>0</td>\n",
       "      <td>1.0</td>\n",
       "      <td>Peter Ferguson</td>\n",
       "      <td>0</td>\n",
       "    </tr>\n",
       "    <tr>\n",
       "      <th>21</th>\n",
       "      <td>10361</td>\n",
       "      <td>-1.424154</td>\n",
       "      <td>72.55</td>\n",
       "      <td>13</td>\n",
       "      <td>-1.118092</td>\n",
       "      <td>12/17/2004 0:00</td>\n",
       "      <td>2</td>\n",
       "      <td>4</td>\n",
       "      <td>12</td>\n",
       "      <td>2004</td>\n",
       "      <td>...</td>\n",
       "      <td>+61 2 9495 8555</td>\n",
       "      <td>Monitor Money Building, 815 Pacific Hwy</td>\n",
       "      <td>0</td>\n",
       "      <td>1</td>\n",
       "      <td>2067</td>\n",
       "      <td>0</td>\n",
       "      <td>0</td>\n",
       "      <td>0.0</td>\n",
       "      <td>Adrian Huxley</td>\n",
       "      <td>1</td>\n",
       "    </tr>\n",
       "    <tr>\n",
       "      <th>32</th>\n",
       "      <td>10174</td>\n",
       "      <td>-0.015684</td>\n",
       "      <td>100.00</td>\n",
       "      <td>4</td>\n",
       "      <td>2.626718</td>\n",
       "      <td>11/6/2003 0:00</td>\n",
       "      <td>2</td>\n",
       "      <td>4</td>\n",
       "      <td>11</td>\n",
       "      <td>2003</td>\n",
       "      <td>...</td>\n",
       "      <td>61-7-3844-6555</td>\n",
       "      <td>31 Duncan St. West End</td>\n",
       "      <td>7</td>\n",
       "      <td>3</td>\n",
       "      <td>4101</td>\n",
       "      <td>0</td>\n",
       "      <td>0</td>\n",
       "      <td>2.0</td>\n",
       "      <td>Tony Calaghan</td>\n",
       "      <td>2</td>\n",
       "    </tr>\n",
       "    <tr>\n",
       "      <th>39</th>\n",
       "      <td>10258</td>\n",
       "      <td>-0.216894</td>\n",
       "      <td>100.00</td>\n",
       "      <td>6</td>\n",
       "      <td>2.436061</td>\n",
       "      <td>6/15/2004 0:00</td>\n",
       "      <td>2</td>\n",
       "      <td>2</td>\n",
       "      <td>6</td>\n",
       "      <td>2004</td>\n",
       "      <td>...</td>\n",
       "      <td>+81 3 3584 0555</td>\n",
       "      <td>2-2-8 Roppongi</td>\n",
       "      <td>4</td>\n",
       "      <td>4</td>\n",
       "      <td>106-0032</td>\n",
       "      <td>1</td>\n",
       "      <td>2</td>\n",
       "      <td>2.0</td>\n",
       "      <td>Akiko Shimamura</td>\n",
       "      <td>2</td>\n",
       "    </tr>\n",
       "    <tr>\n",
       "      <th>40</th>\n",
       "      <td>10270</td>\n",
       "      <td>-1.323549</td>\n",
       "      <td>100.00</td>\n",
       "      <td>9</td>\n",
       "      <td>0.852717</td>\n",
       "      <td>7/19/2004 0:00</td>\n",
       "      <td>2</td>\n",
       "      <td>3</td>\n",
       "      <td>7</td>\n",
       "      <td>2004</td>\n",
       "      <td>...</td>\n",
       "      <td>+61 2 9495 8555</td>\n",
       "      <td>Monitor Money Building, 815 Pacific Hwy</td>\n",
       "      <td>0</td>\n",
       "      <td>1</td>\n",
       "      <td>2067</td>\n",
       "      <td>0</td>\n",
       "      <td>0</td>\n",
       "      <td>1.0</td>\n",
       "      <td>Adrian Huxley</td>\n",
       "      <td>1</td>\n",
       "    </tr>\n",
       "  </tbody>\n",
       "</table>\n",
       "<p>5 rows × 24 columns</p>\n",
       "</div>"
      ],
      "text/plain": [
       "    Order_number  Quantity_ordered  Price_each  Order_line_number     Sales  \\\n",
       "10         10223          0.286131      100.00                  1  0.316579   \n",
       "21         10361         -1.424154       72.55                 13 -1.118092   \n",
       "32         10174         -0.015684      100.00                  4  2.626718   \n",
       "39         10258         -0.216894      100.00                  6  2.436061   \n",
       "40         10270         -1.323549      100.00                  9  0.852717   \n",
       "\n",
       "         Order_date  Status  Qtr_id  Month_id  Year_id  ...            Phone  \\\n",
       "10   2/20/2004 0:00       2       1         2     2004  ...     03 9520 4555   \n",
       "21  12/17/2004 0:00       2       4        12     2004  ...  +61 2 9495 8555   \n",
       "32   11/6/2003 0:00       2       4        11     2003  ...   61-7-3844-6555   \n",
       "39   6/15/2004 0:00       2       2         6     2004  ...  +81 3 3584 0555   \n",
       "40   7/19/2004 0:00       2       3         7     2004  ...  +61 2 9495 8555   \n",
       "\n",
       "                              Address_line1 City State Postal_code Country  \\\n",
       "10                        636 St Kilda Road    3     5        3004       0   \n",
       "21  Monitor Money Building, 815 Pacific Hwy    0     1        2067       0   \n",
       "32                   31 Duncan St. West End    7     3        4101       0   \n",
       "39                           2-2-8 Roppongi    4     4    106-0032       1   \n",
       "40  Monitor Money Building, 815 Pacific Hwy    0     1        2067       0   \n",
       "\n",
       "    Territory  Deal_size Contact_full_name  Cluster  \n",
       "10          0        1.0    Peter Ferguson        0  \n",
       "21          0        0.0     Adrian Huxley        1  \n",
       "32          0        2.0     Tony Calaghan        2  \n",
       "39          2        2.0   Akiko Shimamura        2  \n",
       "40          0        1.0     Adrian Huxley        1  \n",
       "\n",
       "[5 rows x 24 columns]"
      ]
     },
     "execution_count": 53,
     "metadata": {},
     "output_type": "execute_result"
    }
   ],
   "source": [
    "df.head()"
   ]
  },
  {
   "cell_type": "code",
   "execution_count": 57,
   "id": "a08ea5d5",
   "metadata": {},
   "outputs": [
    {
     "data": {
      "text/plain": [
       "array([0])"
      ]
     },
     "execution_count": 57,
     "metadata": {},
     "output_type": "execute_result"
    }
   ],
   "source": [
    "kmeans.predict([[0.316579,0.286131]])"
   ]
  },
  {
   "cell_type": "code",
   "execution_count": 58,
   "id": "d45870ab",
   "metadata": {},
   "outputs": [
    {
     "data": {
      "text/plain": [
       "array([2])"
      ]
     },
     "execution_count": 58,
     "metadata": {},
     "output_type": "execute_result"
    }
   ],
   "source": [
    "kmeans.predict([[2.436061,-0.216894]])"
   ]
  },
  {
   "cell_type": "code",
   "execution_count": null,
   "id": "b6346460",
   "metadata": {},
   "outputs": [],
   "source": []
  }
 ],
 "metadata": {
  "kernelspec": {
   "display_name": "Python 3 (ipykernel)",
   "language": "python",
   "name": "python3"
  },
  "language_info": {
   "codemirror_mode": {
    "name": "ipython",
    "version": 3
   },
   "file_extension": ".py",
   "mimetype": "text/x-python",
   "name": "python",
   "nbconvert_exporter": "python",
   "pygments_lexer": "ipython3",
   "version": "3.11.5"
  }
 },
 "nbformat": 4,
 "nbformat_minor": 5
}
